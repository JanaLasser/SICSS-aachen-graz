{
 "cells": [
  {
   "cell_type": "markdown",
   "id": "7c1e828e-2280-4cf7-8d83-b36c715f786a",
   "metadata": {},
   "source": [
    "# Visualization exercise"
   ]
  },
  {
   "cell_type": "code",
   "execution_count": 2,
   "id": "be95c152-9843-41b5-8da4-79d28d75e173",
   "metadata": {},
   "outputs": [],
   "source": [
    "import pandas as pd\n",
    "import numpy as np\n",
    "import matplotlib.pyplot as plt\n",
    "import seaborn as sns"
   ]
  },
  {
   "cell_type": "code",
   "execution_count": 3,
   "id": "a0e5a0f6-2c3a-4974-ba6e-24c48badda32",
   "metadata": {},
   "outputs": [],
   "source": [
    "# colors\n",
    "demblue = \"#0015BC\"\n",
    "repred = \"#FF0000\"\n",
    "demgrey = \"#9EA4BF\"\n",
    "repgrey = \"#BF9EA2\""
   ]
  },
  {
   "cell_type": "markdown",
   "id": "89b91c11-e215-4a3e-8c4e-51853c34e04a",
   "metadata": {},
   "source": [
    "## 1. Histogram"
   ]
  },
  {
   "cell_type": "markdown",
   "id": "85a520c3-c2a4-42cf-9ba9-ea2bedeb7640",
   "metadata": {},
   "source": [
    "**Task 1.1** Load the data you collected via MTUrk on day 2. Visualize the `WorkTimeInSeconds` using the `histplot` function of the package `seaborn`. Can you identify odd behaviour in the histogram?"
   ]
  },
  {
   "cell_type": "code",
   "execution_count": null,
   "id": "b11776da-bc2f-4577-8ef7-9e7afdbb2177",
   "metadata": {},
   "outputs": [],
   "source": [
    "results = pd.read_csv(\n",
    "    # your code here\n",
    ")"
   ]
  },
  {
   "cell_type": "code",
   "execution_count": null,
   "id": "398b28a0-3f34-4735-abf2-c743b7f5c051",
   "metadata": {},
   "outputs": [],
   "source": [
    "fig, ax = plt.subplots()\n",
    "sns.histplot(\n",
    "    # your code here\n",
    "    ax=ax\n",
    ")"
   ]
  },
  {
   "cell_type": "markdown",
   "id": "20ee99f1-911d-4ab0-a23e-c59b7fb06560",
   "metadata": {},
   "source": [
    "**Alternative task 1.1:** Use the `histplot` function of the package `seaborn` to visualize how the share of belief-speaking changed for democrats between the time period 2010-2013 and 2019-2022. How did it change for republicans?\n",
    "\n",
    "**Hint:** You can use the argument `hue` of the `histplot` function to create a separate histogram for each time period in the same plot. See also the function's [documentation](https://seaborn.pydata.org/generated/seaborn.histplot.html)."
   ]
  },
  {
   "cell_type": "code",
   "execution_count": 4,
   "id": "4d6eb95a-8ca8-42f6-9033-bcff9361fcb1",
   "metadata": {},
   "outputs": [
    {
     "data": {
      "text/html": [
       "<div>\n",
       "<style scoped>\n",
       "    .dataframe tbody tr th:only-of-type {\n",
       "        vertical-align: middle;\n",
       "    }\n",
       "\n",
       "    .dataframe tbody tr th {\n",
       "        vertical-align: top;\n",
       "    }\n",
       "\n",
       "    .dataframe thead th {\n",
       "        text-align: right;\n",
       "    }\n",
       "</style>\n",
       "<table border=\"1\" class=\"dataframe\">\n",
       "  <thead>\n",
       "    <tr style=\"text-align: right;\">\n",
       "      <th></th>\n",
       "      <th>handle</th>\n",
       "      <th>author_id</th>\n",
       "      <th>party</th>\n",
       "      <th>time_period</th>\n",
       "      <th>share</th>\n",
       "    </tr>\n",
       "  </thead>\n",
       "  <tbody>\n",
       "    <tr>\n",
       "      <th>2051</th>\n",
       "      <td>RodneyDavis</td>\n",
       "      <td>993153006</td>\n",
       "      <td>Republican</td>\n",
       "      <td>2019 to 2022</td>\n",
       "      <td>0.057344</td>\n",
       "    </tr>\n",
       "    <tr>\n",
       "      <th>2052</th>\n",
       "      <td>RepDelBene</td>\n",
       "      <td>995193054</td>\n",
       "      <td>Democrat</td>\n",
       "      <td>2019 to 2022</td>\n",
       "      <td>0.052866</td>\n",
       "    </tr>\n",
       "    <tr>\n",
       "      <th>2053</th>\n",
       "      <td>RepDLesko</td>\n",
       "      <td>996094929733652480</td>\n",
       "      <td>Republican</td>\n",
       "      <td>2019 to 2022</td>\n",
       "      <td>0.049877</td>\n",
       "    </tr>\n",
       "  </tbody>\n",
       "</table>\n",
       "</div>"
      ],
      "text/plain": [
       "           handle           author_id       party   time_period     share\n",
       "2051  RodneyDavis           993153006  Republican  2019 to 2022  0.057344\n",
       "2052   RepDelBene           995193054    Democrat  2019 to 2022  0.052866\n",
       "2053    RepDLesko  996094929733652480  Republican  2019 to 2022  0.049877"
      ]
     },
     "execution_count": 4,
     "metadata": {},
     "output_type": "execute_result"
    }
   ],
   "source": [
    "# read the data frame with information about individual Congress Members\n",
    "users = pd.read_csv(\"https://raw.githubusercontent.com/JanaLasser/SICSS-aachen-graz/main/04_01_visualization/exercise/data/users.csv\", dtype={\"author_id\":str})\n",
    "\n",
    "# histplot() requires \"long-form\" data, we therefore reshape the data frame\n",
    "# to match the required input\n",
    "belief = pd.melt(\n",
    "    users, \n",
    "    id_vars=[\"handle\", \"author_id\", \"party\"],\n",
    "    value_vars=[\"belief_share_2010_to_2013\", \"belief_share_2019_to_2022\"],\n",
    "    var_name=\"time_period\",\n",
    "    value_name=\"share\"\n",
    ")\n",
    "\n",
    "# rename the values in the newly created \"time_period\" column to contain only\n",
    "# the required information\n",
    "belief[\"time_period\"] = belief[\"time_period\"].replace({\n",
    "    \"belief_share_2010_to_2013\":\"2010 to 2013\",\n",
    "    \"belief_share_2019_to_2022\":\"2019 to 2022\"\n",
    "})\n",
    "\n",
    "belief.tail(3)"
   ]
  },
  {
   "cell_type": "code",
   "execution_count": null,
   "id": "01deed8b-0bf6-4bdc-9d44-62e15c1e4634",
   "metadata": {},
   "outputs": [],
   "source": [
    "fig, ax = plt.subplots()\n",
    "sns.histplot(\n",
    "    # your code here\n",
    "    ax=ax\n",
    ")"
   ]
  },
  {
   "cell_type": "markdown",
   "id": "068e1d94-2eeb-4d94-8d3c-5190bb83f557",
   "metadata": {},
   "source": [
    "**Task 1.2 (optional):** Instead of the `histplot` function use the `kdeplot` function to visualize the distributions. When does it make sense to use a KDE plot instead of a histogram?"
   ]
  },
  {
   "cell_type": "code",
   "execution_count": null,
   "id": "e329c4a1-a881-45aa-b8c3-319cbd4ca23a",
   "metadata": {},
   "outputs": [],
   "source": [
    "fig, ax = plt.subplots()\n",
    "sns.kdeplot(\n",
    "    # your code here\n",
    "    ax=ax\n",
    ")"
   ]
  },
  {
   "cell_type": "markdown",
   "id": "ab0b2141-575d-441f-99d8-155d5d83be3f",
   "metadata": {},
   "source": [
    "**Task 1.3 (optional):** Create a 2x2 grid to show how the proportion of belief-speaking and truth-seeking tweets changed for republicans and democrats between 2010-2013 and 2019-2022."
   ]
  },
  {
   "cell_type": "code",
   "execution_count": null,
   "id": "cf5ae36a-5a6b-4e9b-9ad9-8569d5202020",
   "metadata": {},
   "outputs": [],
   "source": [
    "fig, axes = plt.subplots(2, 2)\n",
    "\n",
    "# your code here"
   ]
  },
  {
   "cell_type": "markdown",
   "id": "1f108aba-59bf-4d5f-8223-c3ef16f4a732",
   "metadata": {},
   "source": [
    "## 2. Bar chart"
   ]
  },
  {
   "cell_type": "markdown",
   "id": "d204eb13-cce9-4859-a251-0c3ed999e4d8",
   "metadata": {},
   "source": [
    "**Task 2.1** Load the data you collected via MTUrk on day 2. Visualize the answers as bar charts. Exactly how to do this and what to display depends on the kind of questions you asked. Note that it might also make sense to visualize results as a scatterplot instead. Ask for help if you are unsure."
   ]
  },
  {
   "cell_type": "code",
   "execution_count": null,
   "id": "4733c3ae-4897-442f-97fb-e1a36f1b3ea9",
   "metadata": {},
   "outputs": [],
   "source": [
    "results = pd.read_csv(\n",
    "    # your code here\n",
    ")"
   ]
  },
  {
   "cell_type": "code",
   "execution_count": null,
   "id": "796d5026-2bf6-4c77-aff0-bfdc7892602d",
   "metadata": {},
   "outputs": [],
   "source": [
    "fig, ax = plt.subplots()\n",
    "sns.barplot(\n",
    "    # your code here\n",
    "    ax=ax\n",
    ")"
   ]
  },
  {
   "cell_type": "markdown",
   "id": "a8276cba-a484-40dd-b8f5-666a391430e3",
   "metadata": {},
   "source": [
    "**Alternative task 2.1:** The data frame `topics` contains information about the proportion of belief-speaking and truth-seeking that Democrats and Republicans use when discussing different topics. Use the `barplot` function of the package `seaborn` to visualize the share of both honesty components for the topics \"abortion\", \"gun\", \"vaccine\" and \"putin\", differentiaded by party. For which topics do the Republicans use more belief-speaking? For which the Democrats?"
   ]
  },
  {
   "cell_type": "code",
   "execution_count": 5,
   "id": "6866aac2-0275-4465-8e9e-b1a2c520903b",
   "metadata": {},
   "outputs": [
    {
     "data": {
      "text/html": [
       "<div>\n",
       "<style scoped>\n",
       "    .dataframe tbody tr th:only-of-type {\n",
       "        vertical-align: middle;\n",
       "    }\n",
       "\n",
       "    .dataframe tbody tr th {\n",
       "        vertical-align: top;\n",
       "    }\n",
       "\n",
       "    .dataframe thead th {\n",
       "        text-align: right;\n",
       "    }\n",
       "</style>\n",
       "<table border=\"1\" class=\"dataframe\">\n",
       "  <thead>\n",
       "    <tr style=\"text-align: right;\">\n",
       "      <th></th>\n",
       "      <th>component</th>\n",
       "      <th>party</th>\n",
       "      <th>proportion</th>\n",
       "      <th>topic_name</th>\n",
       "    </tr>\n",
       "  </thead>\n",
       "  <tbody>\n",
       "    <tr>\n",
       "      <th>0</th>\n",
       "      <td>belief-speaking</td>\n",
       "      <td>Democrat</td>\n",
       "      <td>0.071420</td>\n",
       "      <td>abortion $\\vert$ woman $\\vert$ right $\\vert$ life</td>\n",
       "    </tr>\n",
       "    <tr>\n",
       "      <th>1</th>\n",
       "      <td>truth-seeking</td>\n",
       "      <td>Democrat</td>\n",
       "      <td>0.099941</td>\n",
       "      <td>abortion $\\vert$ woman $\\vert$ right $\\vert$ life</td>\n",
       "    </tr>\n",
       "    <tr>\n",
       "      <th>2</th>\n",
       "      <td>belief-speaking</td>\n",
       "      <td>Republican</td>\n",
       "      <td>0.094262</td>\n",
       "      <td>abortion $\\vert$ woman $\\vert$ right $\\vert$ life</td>\n",
       "    </tr>\n",
       "    <tr>\n",
       "      <th>3</th>\n",
       "      <td>truth-seeking</td>\n",
       "      <td>Republican</td>\n",
       "      <td>0.111906</td>\n",
       "      <td>abortion $\\vert$ woman $\\vert$ right $\\vert$ life</td>\n",
       "    </tr>\n",
       "    <tr>\n",
       "      <th>4</th>\n",
       "      <td>belief-speaking</td>\n",
       "      <td>Democrat</td>\n",
       "      <td>0.054801</td>\n",
       "      <td>gun $\\vert$ violence $\\vert$ background $\\vert...</td>\n",
       "    </tr>\n",
       "    <tr>\n",
       "      <th>5</th>\n",
       "      <td>truth-seeking</td>\n",
       "      <td>Democrat</td>\n",
       "      <td>0.108535</td>\n",
       "      <td>gun $\\vert$ violence $\\vert$ background $\\vert...</td>\n",
       "    </tr>\n",
       "    <tr>\n",
       "      <th>6</th>\n",
       "      <td>belief-speaking</td>\n",
       "      <td>Republican</td>\n",
       "      <td>0.089088</td>\n",
       "      <td>gun $\\vert$ violence $\\vert$ background $\\vert...</td>\n",
       "    </tr>\n",
       "    <tr>\n",
       "      <th>7</th>\n",
       "      <td>truth-seeking</td>\n",
       "      <td>Republican</td>\n",
       "      <td>0.140884</td>\n",
       "      <td>gun $\\vert$ violence $\\vert$ background $\\vert...</td>\n",
       "    </tr>\n",
       "    <tr>\n",
       "      <th>8</th>\n",
       "      <td>belief-speaking</td>\n",
       "      <td>Democrat</td>\n",
       "      <td>0.069394</td>\n",
       "      <td>vaccine $\\vert$ vaccinate $\\vert$ mandate $\\ve...</td>\n",
       "    </tr>\n",
       "    <tr>\n",
       "      <th>9</th>\n",
       "      <td>truth-seeking</td>\n",
       "      <td>Democrat</td>\n",
       "      <td>0.252456</td>\n",
       "      <td>vaccine $\\vert$ vaccinate $\\vert$ mandate $\\ve...</td>\n",
       "    </tr>\n",
       "  </tbody>\n",
       "</table>\n",
       "</div>"
      ],
      "text/plain": [
       "         component       party  proportion  \\\n",
       "0  belief-speaking    Democrat    0.071420   \n",
       "1    truth-seeking    Democrat    0.099941   \n",
       "2  belief-speaking  Republican    0.094262   \n",
       "3    truth-seeking  Republican    0.111906   \n",
       "4  belief-speaking    Democrat    0.054801   \n",
       "5    truth-seeking    Democrat    0.108535   \n",
       "6  belief-speaking  Republican    0.089088   \n",
       "7    truth-seeking  Republican    0.140884   \n",
       "8  belief-speaking    Democrat    0.069394   \n",
       "9    truth-seeking    Democrat    0.252456   \n",
       "\n",
       "                                          topic_name  \n",
       "0  abortion $\\vert$ woman $\\vert$ right $\\vert$ life  \n",
       "1  abortion $\\vert$ woman $\\vert$ right $\\vert$ life  \n",
       "2  abortion $\\vert$ woman $\\vert$ right $\\vert$ life  \n",
       "3  abortion $\\vert$ woman $\\vert$ right $\\vert$ life  \n",
       "4  gun $\\vert$ violence $\\vert$ background $\\vert...  \n",
       "5  gun $\\vert$ violence $\\vert$ background $\\vert...  \n",
       "6  gun $\\vert$ violence $\\vert$ background $\\vert...  \n",
       "7  gun $\\vert$ violence $\\vert$ background $\\vert...  \n",
       "8  vaccine $\\vert$ vaccinate $\\vert$ mandate $\\ve...  \n",
       "9  vaccine $\\vert$ vaccinate $\\vert$ mandate $\\ve...  "
      ]
     },
     "execution_count": 5,
     "metadata": {},
     "output_type": "execute_result"
    }
   ],
   "source": [
    "topics = pd.read_csv(\"https://raw.githubusercontent.com/JanaLasser/SICSS-aachen-graz/main/04_01_visualization/exercise/data/topics.csv\")\n",
    "topics.head(10)"
   ]
  },
  {
   "cell_type": "code",
   "execution_count": 6,
   "id": "a40558df-101c-4e66-acda-da6f5607af2c",
   "metadata": {},
   "outputs": [],
   "source": [
    "belief_speaking = topics[topics[\"component\"] == \"belief-speaking\"][0:8].copy()\n",
    "belief_speaking[\"proportion\"] = belief_speaking[\"proportion\"] * 100"
   ]
  },
  {
   "cell_type": "code",
   "execution_count": null,
   "id": "c72c7ce1-cf7e-405f-bdc2-ec9383e2144d",
   "metadata": {},
   "outputs": [],
   "source": [
    "fig, ax = plt.subplots()\n",
    "sns.barplot(\n",
    "    # your code here\n",
    "    ax=ax\n",
    ")\n"
   ]
  },
  {
   "cell_type": "markdown",
   "id": "848a0c30-75dd-4b2a-81b2-a98e9f2b4432",
   "metadata": {},
   "source": [
    "**Task 2.2 (optional):** The file `mean_corpus_values.csv` contains the mean values for belief-speaking and truth-seeking for the full corpus of tweets. Load the file into a data frame and plot two lines (one for each party) indicating the mean level of belief-speaking in the corpus. For which topics is the proportion of belief-speaking above average? For which below?"
   ]
  },
  {
   "cell_type": "code",
   "execution_count": 8,
   "id": "9f2c7742-3537-4c8a-ac1a-644abeea96ad",
   "metadata": {},
   "outputs": [
    {
     "data": {
      "text/html": [
       "<div>\n",
       "<style scoped>\n",
       "    .dataframe tbody tr th:only-of-type {\n",
       "        vertical-align: middle;\n",
       "    }\n",
       "\n",
       "    .dataframe tbody tr th {\n",
       "        vertical-align: top;\n",
       "    }\n",
       "\n",
       "    .dataframe thead th {\n",
       "        text-align: right;\n",
       "    }\n",
       "</style>\n",
       "<table border=\"1\" class=\"dataframe\">\n",
       "  <thead>\n",
       "    <tr style=\"text-align: right;\">\n",
       "      <th></th>\n",
       "      <th>component</th>\n",
       "      <th>party</th>\n",
       "      <th>corpus_mean</th>\n",
       "    </tr>\n",
       "  </thead>\n",
       "  <tbody>\n",
       "    <tr>\n",
       "      <th>0</th>\n",
       "      <td>belief-speaking</td>\n",
       "      <td>Democrat</td>\n",
       "      <td>8.216097</td>\n",
       "    </tr>\n",
       "    <tr>\n",
       "      <th>1</th>\n",
       "      <td>belief-speaking</td>\n",
       "      <td>Republican</td>\n",
       "      <td>7.643007</td>\n",
       "    </tr>\n",
       "    <tr>\n",
       "      <th>2</th>\n",
       "      <td>truth-seeking</td>\n",
       "      <td>Democrat</td>\n",
       "      <td>18.290874</td>\n",
       "    </tr>\n",
       "    <tr>\n",
       "      <th>3</th>\n",
       "      <td>truth-seeking</td>\n",
       "      <td>Republican</td>\n",
       "      <td>16.600150</td>\n",
       "    </tr>\n",
       "  </tbody>\n",
       "</table>\n",
       "</div>"
      ],
      "text/plain": [
       "         component       party  corpus_mean\n",
       "0  belief-speaking    Democrat     8.216097\n",
       "1  belief-speaking  Republican     7.643007\n",
       "2    truth-seeking    Democrat    18.290874\n",
       "3    truth-seeking  Republican    16.600150"
      ]
     },
     "execution_count": 8,
     "metadata": {},
     "output_type": "execute_result"
    }
   ],
   "source": [
    "mean_corpus_values = pd.read_csv(\"https://raw.githubusercontent.com/JanaLasser/SICSS-aachen-graz/main/04_01_visualization/exercise/data/mean_corpus_values.csv\")\n",
    "mean_corpus_values"
   ]
  },
  {
   "cell_type": "code",
   "execution_count": null,
   "id": "f32f4254-bc88-4b7f-82da-029ab0e207f3",
   "metadata": {},
   "outputs": [],
   "source": [
    "fig, ax = plt.subplots(figsize=(8, 4))\n",
    "\n",
    "sns.barplot(\n",
    "    # your code here\n",
    "    ax=ax,\n",
    ")\n",
    "\n",
    "ax.plot(\n",
    "    # your code here\n",
    ")"
   ]
  },
  {
   "cell_type": "markdown",
   "id": "fbb44b01-3af6-462b-81bb-059f3d01ef74",
   "metadata": {},
   "source": [
    "**Task 2.3 (optional):** Create two bar plots next to each other, one for belief-speaking and one for truth-seeking, this time showing all 20 topics contained in the `topics` data frame. Which topics have the highest difference in belief-speaking and truth-seeking between the parties?"
   ]
  },
  {
   "cell_type": "code",
   "execution_count": null,
   "id": "cf550ac8-0b10-4a8d-87e6-7a40a05320c1",
   "metadata": {},
   "outputs": [],
   "source": [
    "# your code here"
   ]
  },
  {
   "cell_type": "markdown",
   "id": "f2de79d7-ce30-4dc5-8b71-f4bb119462d3",
   "metadata": {},
   "source": [
    "## 3. Time series"
   ]
  },
  {
   "cell_type": "markdown",
   "id": "65cb19cc-d3ee-46cf-b260-4b3c1855e169",
   "metadata": {},
   "source": [
    "**Task 3.1:** The files `belief.csv` and `truth.csv` contain the mean proportion of belief-speaking and truth-seeking tweets for every month since 2022-01-01, split by Democrats and Republicans. Create a figure with two vertically stacked panels. Plot the time-series of belief-speaking split by party in the first panel, and the time-series of truth-seeking in the panel below. Apply a rolling average of three months to the data to smooth the time-series. "
   ]
  },
  {
   "cell_type": "code",
   "execution_count": 9,
   "id": "cce28971-071d-49be-87fd-6fcb79b899b6",
   "metadata": {},
   "outputs": [
    {
     "data": {
      "text/html": [
       "<div>\n",
       "<style scoped>\n",
       "    .dataframe tbody tr th:only-of-type {\n",
       "        vertical-align: middle;\n",
       "    }\n",
       "\n",
       "    .dataframe tbody tr th {\n",
       "        vertical-align: top;\n",
       "    }\n",
       "\n",
       "    .dataframe thead th {\n",
       "        text-align: right;\n",
       "    }\n",
       "</style>\n",
       "<table border=\"1\" class=\"dataframe\">\n",
       "  <thead>\n",
       "    <tr style=\"text-align: right;\">\n",
       "      <th></th>\n",
       "      <th>party</th>\n",
       "      <th>mean</th>\n",
       "      <th>perc_2.5</th>\n",
       "      <th>perc_97.5</th>\n",
       "      <th>date</th>\n",
       "    </tr>\n",
       "  </thead>\n",
       "  <tbody>\n",
       "    <tr>\n",
       "      <th>0</th>\n",
       "      <td>Democrat</td>\n",
       "      <td>0.066411</td>\n",
       "      <td>0.036199</td>\n",
       "      <td>0.097674</td>\n",
       "      <td>2011-01-01</td>\n",
       "    </tr>\n",
       "    <tr>\n",
       "      <th>1</th>\n",
       "      <td>Republican</td>\n",
       "      <td>0.062301</td>\n",
       "      <td>0.041096</td>\n",
       "      <td>0.080412</td>\n",
       "      <td>2011-01-01</td>\n",
       "    </tr>\n",
       "  </tbody>\n",
       "</table>\n",
       "</div>"
      ],
      "text/plain": [
       "        party      mean  perc_2.5  perc_97.5       date\n",
       "0    Democrat  0.066411  0.036199   0.097674 2011-01-01\n",
       "1  Republican  0.062301  0.041096   0.080412 2011-01-01"
      ]
     },
     "execution_count": 9,
     "metadata": {},
     "output_type": "execute_result"
    }
   ],
   "source": [
    "belief = pd.read_csv(\"https://raw.githubusercontent.com/JanaLasser/SICSS-aachen-graz/main/04_01_visualization/exercise/data/belief.csv\", parse_dates=[\"date\"])\n",
    "truth = pd.read_csv(\"https://raw.githubusercontent.com/JanaLasser/SICSS-aachen-graz/main/04_01_visualization/exercise/data/truth.csv\", parse_dates=[\"date\"])\n",
    "belief.head(2)"
   ]
  },
  {
   "cell_type": "code",
   "execution_count": null,
   "id": "56296746-67a9-47cf-a330-8eb7bcaafe9b",
   "metadata": {},
   "outputs": [],
   "source": [
    "figx, axes = plt.subplots(2, 1, figsize=(9, 4))\n",
    "\n",
    "axes[0].plot(\n",
    "    # your code here\n",
    ")\n",
    "\n",
    "axes[1].plot(\n",
    "    # your code here\n",
    ")\n"
   ]
  },
  {
   "cell_type": "markdown",
   "id": "7e744b5b-85dd-4bc4-a6f3-151c86bb4004",
   "metadata": {},
   "source": [
    "**Task 3.2:** The data frames also contain the 95% confidence intervals of the time-series generated through bootstrapping (columns `perc_2.5` and `perc_97.5`). Plot a shaded area indicating the confidence interval around the mean value.  \n",
    "\n",
    "**Hint:** You can use matplotlib's `fill_between()` function to plot a shaded area between two lines. You can modify the transparency of the area using the `alpha` function argument (see also the function's [documentation](https://matplotlib.org/stable/api/_as_gen/matplotlib.pyplot.fill_between.html))."
   ]
  },
  {
   "cell_type": "code",
   "execution_count": null,
   "id": "5f7e072c-6739-46a7-b966-4237742eec00",
   "metadata": {},
   "outputs": [],
   "source": [
    "figx, axes = plt.subplots(2, 1, figsize=(9, 4))\n",
    "\n",
    "axes[0].plot(\n",
    "    # your code here\n",
    ")\n",
    "\n",
    "axes[0].fill_between(\n",
    "    # your code here\n",
    ")\n",
    "\n",
    "axes[1].plot(\n",
    "    # your code here\n",
    ")\n",
    "\n",
    "axes[1].fill_between(\n",
    "    # your code here\n",
    ")"
   ]
  },
  {
   "cell_type": "markdown",
   "id": "d68ecd39-e344-4bbb-83ed-fe9e8e3a273e",
   "metadata": {},
   "source": [
    "**Task 3.3:** Indicate the dates of the presidential elections in 2016 and 2020 in the plot. What can you say about the trend of belief-speaking and truth-seeking after the presidential elections?"
   ]
  },
  {
   "cell_type": "code",
   "execution_count": null,
   "id": "7721fdd4-9f4b-4e86-aac5-1e7ab53e6a15",
   "metadata": {},
   "outputs": [],
   "source": [
    "# your code here"
   ]
  },
  {
   "cell_type": "markdown",
   "id": "afd21c8b-68c4-4a9a-9cda-6c46d4efff0e",
   "metadata": {},
   "source": [
    "## 4. Scatter plot"
   ]
  },
  {
   "cell_type": "markdown",
   "id": "382b35a5-58e4-47e6-a921-b479d67b45fe",
   "metadata": {},
   "source": [
    "**Task 4.1:** The `users.csv` dataset contains information about the average [NewsGuard](https://www.newsguardtech.com/) score of links posted by each Congress Member (column `NG_score_mean`). Use `seaborn`'s `scatterplot()` function to find out if the share of belief-speaking over the whole observation period (column `belief_share`) is correlated to the average NewsGuard score."
   ]
  },
  {
   "cell_type": "code",
   "execution_count": 10,
   "id": "49cfdd90-33d2-4ebc-abf5-cb0009dd89f1",
   "metadata": {},
   "outputs": [
    {
     "data": {
      "text/html": [
       "<div>\n",
       "<style scoped>\n",
       "    .dataframe tbody tr th:only-of-type {\n",
       "        vertical-align: middle;\n",
       "    }\n",
       "\n",
       "    .dataframe tbody tr th {\n",
       "        vertical-align: top;\n",
       "    }\n",
       "\n",
       "    .dataframe thead th {\n",
       "        text-align: right;\n",
       "    }\n",
       "</style>\n",
       "<table border=\"1\" class=\"dataframe\">\n",
       "  <thead>\n",
       "    <tr style=\"text-align: right;\">\n",
       "      <th></th>\n",
       "      <th>handle</th>\n",
       "      <th>author_id</th>\n",
       "      <th>name</th>\n",
       "      <th>party</th>\n",
       "      <th>N_tweets</th>\n",
       "      <th>followers_count</th>\n",
       "      <th>following_count</th>\n",
       "      <th>tweet_count</th>\n",
       "      <th>created_at</th>\n",
       "      <th>congress</th>\n",
       "      <th>NG_score_mean</th>\n",
       "      <th>belief_share</th>\n",
       "      <th>truth_share</th>\n",
       "      <th>belief_share_2010_to_2013</th>\n",
       "      <th>truth_share_2010_to_2013</th>\n",
       "      <th>belief_share_2019_to_2022</th>\n",
       "      <th>truth_share_2019_to_2022</th>\n",
       "      <th>ideology_mean</th>\n",
       "      <th>followers_count_log</th>\n",
       "      <th>following_count_log</th>\n",
       "    </tr>\n",
       "  </thead>\n",
       "  <tbody>\n",
       "    <tr>\n",
       "      <th>0</th>\n",
       "      <td>RepLipinski</td>\n",
       "      <td>1009269193</td>\n",
       "      <td>Former Rep. Daniel Lipinski</td>\n",
       "      <td>Democrat</td>\n",
       "      <td>3179</td>\n",
       "      <td>19893.0</td>\n",
       "      <td>2478.0</td>\n",
       "      <td>4359.0</td>\n",
       "      <td>2012-12-13 17:03:06+00:00</td>\n",
       "      <td>116.0</td>\n",
       "      <td>93.193439</td>\n",
       "      <td>5.067698</td>\n",
       "      <td>0.188008</td>\n",
       "      <td>NaN</td>\n",
       "      <td>NaN</td>\n",
       "      <td>0.053934</td>\n",
       "      <td>0.214467</td>\n",
       "      <td>0.471657</td>\n",
       "      <td>9.898123</td>\n",
       "      <td>7.815207</td>\n",
       "    </tr>\n",
       "    <tr>\n",
       "      <th>1</th>\n",
       "      <td>CaptClayHiggins</td>\n",
       "      <td>1011053278304592000</td>\n",
       "      <td>Clay Higgins</td>\n",
       "      <td>Republican</td>\n",
       "      <td>21</td>\n",
       "      <td>3289.0</td>\n",
       "      <td>156.0</td>\n",
       "      <td>24.0</td>\n",
       "      <td>2018-06-25 01:07:40+00:00</td>\n",
       "      <td>116.0</td>\n",
       "      <td>NaN</td>\n",
       "      <td>0.000000</td>\n",
       "      <td>0.230769</td>\n",
       "      <td>NaN</td>\n",
       "      <td>NaN</td>\n",
       "      <td>0.000000</td>\n",
       "      <td>0.181818</td>\n",
       "      <td>0.282969</td>\n",
       "      <td>8.098339</td>\n",
       "      <td>5.049856</td>\n",
       "    </tr>\n",
       "  </tbody>\n",
       "</table>\n",
       "</div>"
      ],
      "text/plain": [
       "            handle            author_id                         name  \\\n",
       "0      RepLipinski           1009269193  Former Rep. Daniel Lipinski   \n",
       "1  CaptClayHiggins  1011053278304592000                 Clay Higgins   \n",
       "\n",
       "        party  N_tweets  followers_count  following_count  tweet_count  \\\n",
       "0    Democrat      3179          19893.0           2478.0       4359.0   \n",
       "1  Republican        21           3289.0            156.0         24.0   \n",
       "\n",
       "                 created_at  congress  NG_score_mean  belief_share  \\\n",
       "0 2012-12-13 17:03:06+00:00     116.0      93.193439      5.067698   \n",
       "1 2018-06-25 01:07:40+00:00     116.0            NaN      0.000000   \n",
       "\n",
       "   truth_share  belief_share_2010_to_2013  truth_share_2010_to_2013  \\\n",
       "0     0.188008                        NaN                       NaN   \n",
       "1     0.230769                        NaN                       NaN   \n",
       "\n",
       "   belief_share_2019_to_2022  truth_share_2019_to_2022  ideology_mean  \\\n",
       "0                   0.053934                  0.214467       0.471657   \n",
       "1                   0.000000                  0.181818       0.282969   \n",
       "\n",
       "   followers_count_log  following_count_log  \n",
       "0             9.898123             7.815207  \n",
       "1             8.098339             5.049856  "
      ]
     },
     "execution_count": 10,
     "metadata": {},
     "output_type": "execute_result"
    }
   ],
   "source": [
    "users = pd.read_csv(\n",
    "    \"https://raw.githubusercontent.com/JanaLasser/SICSS-aachen-graz/main/04_01_visualization/exercise/data/users.csv\", \n",
    "    dtype={\"author_id\":str},\n",
    "    parse_dates=[\"created_at\"]\n",
    ")\n",
    "users = users[users[\"party\"].isin([\"Democrat\", \"Republican\"])]\n",
    "users[\"belief_share\"] = users[\"belief_share\"] * 100\n",
    "users.head(2)"
   ]
  },
  {
   "cell_type": "code",
   "execution_count": 5,
   "id": "963f0e16-7889-43be-a85b-b475b1a573d7",
   "metadata": {},
   "outputs": [],
   "source": [
    "fig, ax = plt.subplots(figsize=(7, 4))\n",
    "\n",
    "sns.scatterplot(\n",
    "    # your code here\n",
    "    ax=ax\n",
    ")"
   ]
  },
  {
   "cell_type": "markdown",
   "id": "7e8bbad0-feaf-40ba-bdb9-8bb6c8e61c4e",
   "metadata": {},
   "source": [
    "**Task 4.2 (optional):** Use the package `statsmodels` to perform an ordinary least squares regression of the form  \n",
    "\n",
    "`NG_score_mean ~ belief_share + truth_share + party + party * belief_share + party * truth_share`.\n",
    "\n",
    "How does the NewsGuard score chage if the proportion of belief-speaking increases by 10%? How does the score behave if the proportion of truth-seeking increases by 10%?"
   ]
  },
  {
   "cell_type": "code",
   "execution_count": 6,
   "id": "c8607fcb-01e4-4ad7-bd9b-24d7f51f6d5c",
   "metadata": {},
   "outputs": [],
   "source": [
    "import statsmodels.formula.api as smf"
   ]
  },
  {
   "cell_type": "code",
   "execution_count": null,
   "id": "106b68d0-b1f5-4c50-873b-b9d4f585f857",
   "metadata": {},
   "outputs": [],
   "source": [
    "# your code here"
   ]
  },
  {
   "cell_type": "markdown",
   "id": "e1a8b562-a71f-4975-b91b-895f49b1f22e",
   "metadata": {},
   "source": [
    "**Task 4.3 (optional):** Use the fitted OLS regression model to make predictions of the NewsGuard score for a range of proportions of belief-speaking from 0% to 30%. Get the 95% confidence intervals for the predictions. Visualize the predictions including their confidence intervals on top of the scatterplot.\n",
    "\n",
    "**Hint:** Use the function `get_prediction()` of the fitted model to get the predictions. Use the function `summary_frame()` on the predictions to get the confidence intervals."
   ]
  },
  {
   "cell_type": "code",
   "execution_count": null,
   "id": "3ecdae53-6989-435b-ac3f-b8349e6d21ce",
   "metadata": {},
   "outputs": [],
   "source": [
    "# your code here"
   ]
  }
 ],
 "metadata": {
  "kernelspec": {
   "display_name": "Python 3 (ipykernel)",
   "language": "python",
   "name": "python3"
  },
  "language_info": {
   "codemirror_mode": {
    "name": "ipython",
    "version": 3
   },
   "file_extension": ".py",
   "mimetype": "text/x-python",
   "name": "python",
   "nbconvert_exporter": "python",
   "pygments_lexer": "ipython3",
   "version": "3.9.7"
  }
 },
 "nbformat": 4,
 "nbformat_minor": 5
}
