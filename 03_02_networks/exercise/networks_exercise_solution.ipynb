{
 "cells": [
  {
   "cell_type": "code",
   "execution_count": null,
   "id": "234eb790-6def-45a2-b436-406eb1be62ff",
   "metadata": {},
   "outputs": [],
   "source": [
    "! pip install pandas\n",
    "! pip install numpy\n",
    "! pip install networkx\n",
    "! pip install matplotlib"
   ]
  },
  {
   "cell_type": "code",
   "execution_count": 2,
   "id": "6e909d35-ff4c-45fc-8642-c2be8d3850c6",
   "metadata": {},
   "outputs": [],
   "source": [
    "import pandas as pd\n",
    "import networkx as nx\n",
    "import numpy as np\n",
    "import matplotlib.pyplot as plt"
   ]
  },
  {
   "cell_type": "markdown",
   "id": "c6b493dc-a260-4183-b1f3-7fc00f0bf979",
   "metadata": {},
   "source": [
    "**Note:** If you get stuck in section 1, you can move to section 2 and load a graph we created for you. If you get stuck in sections 2 or 3, you can move to section 4, since this section is independent of 2 and 3."
   ]
  },
  {
   "cell_type": "markdown",
   "id": "660c2bf5-29c6-451e-af54-893849528056",
   "metadata": {},
   "source": [
    "# 1. Build a social networks of retweets"
   ]
  },
  {
   "cell_type": "markdown",
   "id": "7c6d62ef-97e3-46b0-a2f8-12131984be90",
   "metadata": {},
   "source": [
    "We have downloaded the user profiles of Swiss politicians as well as their Twitter timelines for the time between 2021-07-12 and 2022-07-12 for you. To see how the data was downloaded, have a look at the \"Appendix\" section below. \n",
    "\n",
    "**Task 1.1:** Load the files `users.csv` and `timelines.csv` into a pandas data frame.\n",
    "\n",
    "**Hint:** make sure to use the `dtype` function parameter to parse the columns `id`, `author_id` and `retweet_user_id` as strings. This helps prevent issues down the line, since the IDs can be very long, and loading them as integers might truncate them."
   ]
  },
  {
   "cell_type": "code",
   "execution_count": 7,
   "id": "fe3cade6-b252-4bfc-b03e-73c6b174bba5",
   "metadata": {},
   "outputs": [
    {
     "data": {
      "text/html": [
       "<div>\n",
       "<style scoped>\n",
       "    .dataframe tbody tr th:only-of-type {\n",
       "        vertical-align: middle;\n",
       "    }\n",
       "\n",
       "    .dataframe tbody tr th {\n",
       "        vertical-align: top;\n",
       "    }\n",
       "\n",
       "    .dataframe thead th {\n",
       "        text-align: right;\n",
       "    }\n",
       "</style>\n",
       "<table border=\"1\" class=\"dataframe\">\n",
       "  <thead>\n",
       "    <tr style=\"text-align: right;\">\n",
       "      <th></th>\n",
       "      <th>author_id</th>\n",
       "      <th>id</th>\n",
       "      <th>lang</th>\n",
       "      <th>text</th>\n",
       "      <th>retweeted</th>\n",
       "      <th>retweet_user_id</th>\n",
       "      <th>created_at</th>\n",
       "      <th>public_metrics.retweet_count</th>\n",
       "      <th>public_metrics.reply_count</th>\n",
       "      <th>public_metrics.like_count</th>\n",
       "      <th>public_metrics.quote_count</th>\n",
       "    </tr>\n",
       "  </thead>\n",
       "  <tbody>\n",
       "    <tr>\n",
       "      <th>0</th>\n",
       "      <td>25254764</td>\n",
       "      <td>1546519319756115968</td>\n",
       "      <td>de</td>\n",
       "      <td>RT @ETHBildarchiv: Am 23. Dezember 1983 fand a...</td>\n",
       "      <td>True</td>\n",
       "      <td>1391450099205779456</td>\n",
       "      <td>2022-07-11 15:38:33+00:00</td>\n",
       "      <td>2</td>\n",
       "      <td>0</td>\n",
       "      <td>0</td>\n",
       "      <td>0</td>\n",
       "    </tr>\n",
       "    <tr>\n",
       "      <th>1</th>\n",
       "      <td>25254764</td>\n",
       "      <td>1546517720405098496</td>\n",
       "      <td>de</td>\n",
       "      <td>RT @KeremSchamberg: Morgen vor der deutschen B...</td>\n",
       "      <td>True</td>\n",
       "      <td>754651485980459009</td>\n",
       "      <td>2022-07-11 15:32:12+00:00</td>\n",
       "      <td>84</td>\n",
       "      <td>0</td>\n",
       "      <td>0</td>\n",
       "      <td>0</td>\n",
       "    </tr>\n",
       "  </tbody>\n",
       "</table>\n",
       "</div>"
      ],
      "text/plain": [
       "  author_id                   id lang  \\\n",
       "0  25254764  1546519319756115968   de   \n",
       "1  25254764  1546517720405098496   de   \n",
       "\n",
       "                                                text  retweeted  \\\n",
       "0  RT @ETHBildarchiv: Am 23. Dezember 1983 fand a...       True   \n",
       "1  RT @KeremSchamberg: Morgen vor der deutschen B...       True   \n",
       "\n",
       "       retweet_user_id                created_at  \\\n",
       "0  1391450099205779456 2022-07-11 15:38:33+00:00   \n",
       "1   754651485980459009 2022-07-11 15:32:12+00:00   \n",
       "\n",
       "   public_metrics.retweet_count  public_metrics.reply_count  \\\n",
       "0                             2                           0   \n",
       "1                            84                           0   \n",
       "\n",
       "   public_metrics.like_count  public_metrics.quote_count  \n",
       "0                          0                           0  \n",
       "1                          0                           0  "
      ]
     },
     "execution_count": 7,
     "metadata": {},
     "output_type": "execute_result"
    }
   ],
   "source": [
    "# load timelines and users from file\n",
    "timelines = pd.read_csv(\n",
    "    \"timelines.csv\",\n",
    "    dtype={\"id\":str, \"author_id\":str, \"retweet_user_id\":str}, # load all IDs as string to prevent long integer overflows\n",
    "    parse_dates=[\"created_at\"] # parse the tweet creation date as datetime\n",
    ")\n",
    "users = pd.read_csv(\n",
    "    \"users.csv\",\n",
    "    dtype={\"id\":str},\n",
    "    parse_dates=[\"created_at\"]\n",
    ")\n",
    "\n",
    "timelines.head(2)"
   ]
  },
  {
   "cell_type": "code",
   "execution_count": 10,
   "id": "e41c8863-271b-4479-a427-af1c0c7ca30d",
   "metadata": {},
   "outputs": [
    {
     "data": {
      "text/plain": [
       "0      25254764\n",
       "1     472372843\n",
       "2    1948049047\n",
       "Name: id, dtype: object"
      ]
     },
     "execution_count": 10,
     "metadata": {},
     "output_type": "execute_result"
    }
   ],
   "source": [
    "users[\"id\"].head(3)"
   ]
  },
  {
   "cell_type": "code",
   "execution_count": 8,
   "id": "f09b8fde-cc6a-42e2-9b5e-b9243f41b6d2",
   "metadata": {},
   "outputs": [
    {
     "data": {
      "text/plain": [
       "0    1.180884e+18\n",
       "1    1.489913e+18\n",
       "2             NaN\n",
       "Name: pinned_tweet_id, dtype: float64"
      ]
     },
     "execution_count": 8,
     "metadata": {},
     "output_type": "execute_result"
    }
   ],
   "source": [
    "users[\"pinned_tweet_id\"].head(3)"
   ]
  },
  {
   "cell_type": "markdown",
   "id": "3aa4746b-96d1-43e8-bac8-7ac92cfb27fa",
   "metadata": {},
   "source": [
    "**Task 1.2:** Filter the tweets in the timelines such that you only retain retweets. How many retweets are in the dataset?"
   ]
  },
  {
   "cell_type": "code",
   "execution_count": 3,
   "id": "49355bac-ba84-4796-b6f1-ebc63853b70e",
   "metadata": {},
   "outputs": [
    {
     "name": "stdout",
     "output_type": "stream",
     "text": [
      "27384 retweets found in the dataset\n"
     ]
    }
   ],
   "source": [
    "timelines = timelines[timelines[\"retweeted\"] == True]\n",
    "print(f\"{len(timelines)} retweets found in the dataset\")"
   ]
  },
  {
   "cell_type": "markdown",
   "id": "4b3d33b7-25ff-4907-a765-89da6634710c",
   "metadata": {},
   "source": [
    "We only want to include retweets between politicians. \n",
    "\n",
    "**Task 1.3:** Filter the timelines such that the `retweet_user_id` is one of the user IDs in the user data frame. How many retweets remain in the data set?\n",
    "\n",
    "**Hint:** The function `isin()` that you can apply on a column of a data frame is useful here!"
   ]
  },
  {
   "cell_type": "code",
   "execution_count": 4,
   "id": "0e6b5829-ea58-4c63-8e3d-337bfb6069c4",
   "metadata": {},
   "outputs": [
    {
     "name": "stdout",
     "output_type": "stream",
     "text": [
      "1936 retweets remain in the dataset\n"
     ]
    }
   ],
   "source": [
    "timelines = timelines[timelines[\"retweet_user_id\"].isin(users[\"id\"])]\n",
    "print(f\"{len(timelines)} retweets remain in the dataset\")"
   ]
  },
  {
   "cell_type": "markdown",
   "id": "94116f1c-7aa7-4be9-87a3-69f9d40f4212",
   "metadata": {},
   "source": [
    "**Task 1.4:** To build the retweet network, create an empty `networkx` undirected graph and fill it with nodes and edges. For this purpose, we prepare a list of nodes and their attributes and a list of edges.\n",
    "First, construct a list of vertices (nodes) and node attributes containing the user ids, screen_names, and the **political party label** of the vertices. Each entry of the list has the following form: \n",
    "Then build a list of connections between politicians (edges), where every edge is a pair of two users that exchanged at least one retweet with each other (regardless of the direction).  \n",
    "\n",
    "**Hint:** use the function `add_edges_from()` provided by [networkx](https://networkx.org/documentation/stable/reference/classes/generated/networkx.Graph.add_edges_from.html) to add the edges to the graph.\n",
    "\n",
    "**Hint:** use the function `add_nodes_from()` provided by [networkx](https://networkx.org/documentation/stable/reference/classes/generated/networkx.Graph.add_nodes_from.html) to add the nodes to the graph. "
   ]
  },
  {
   "cell_type": "code",
   "execution_count": 5,
   "id": "81a67723-cb41-42be-992e-1c81ecaaea27",
   "metadata": {},
   "outputs": [],
   "source": [
    "G = nx.Graph()\n",
    "\n",
    "nodes = users[[\"id\", \"username\", \"party\"]]\n",
    "node_list = [\n",
    "    (row[\"id\"], {\"username\":row[\"username\"], \"party\":row[\"party\"]}) \\\n",
    "    for i, row in nodes.iterrows()\n",
    "]\n",
    "G.add_nodes_from(node_list)\n",
    "\n",
    "edges = timelines[[\"author_id\", \"retweet_user_id\"]].drop_duplicates()\n",
    "edge_list = [(row[\"author_id\"], row[\"retweet_user_id\"]) for i, row in edges.iterrows()]\n",
    "G.add_edges_from(edge_list)"
   ]
  },
  {
   "cell_type": "markdown",
   "id": "406f003a-8943-4a10-ba24-4ef2b3da8f8a",
   "metadata": {},
   "source": [
    "**Hint:** you can inspect the graph you greated by printing `G.nodes()` or `G.nodes(data=True)`, to also see node attributes. You can see edges in the graph by printing `G.edges`."
   ]
  },
  {
   "cell_type": "markdown",
   "id": "5970c577-e0d1-4cc7-83af-d6b609f2fcf9",
   "metadata": {},
   "source": [
    "**Hint:** If you do not manage to create a graph after trying for a while, you can load a graph we created for you from a file:"
   ]
  },
  {
   "cell_type": "code",
   "execution_count": null,
   "id": "49ac893c-574f-4a7f-aecd-47e5e10b5ba1",
   "metadata": {},
   "outputs": [],
   "source": [
    "# save the graph from a file\n",
    "# nx.write_gpickle(G, \"swiss_politician_graph.gpickle\")"
   ]
  },
  {
   "cell_type": "markdown",
   "id": "52f9f1b8-1b55-43b5-bc37-7389716008d5",
   "metadata": {},
   "source": [
    "# 2. Calculate graph assortativity"
   ]
  },
  {
   "cell_type": "code",
   "execution_count": null,
   "id": "0b555a17-611a-4a19-8a85-325568a60960",
   "metadata": {},
   "outputs": [],
   "source": [
    "# read the graph from a file\n",
    "# G = nx.read_gpickle(\"swiss_politician_graph.gpickle\")"
   ]
  },
  {
   "cell_type": "markdown",
   "id": "083ad210-6321-4625-9732-7da2c639da9d",
   "metadata": {},
   "source": [
    "Now we want to know how [assortative](https://en.wikipedia.org/wiki/Assortativity) the Swiss politicians are.  \n",
    "\n",
    "**Task 2.1:** Use the function `attribute_assortativity_coefficient()` of [networkx](attribute_assortativity_coefficient) to calculate the assortativity with respect to party labels. How high is the value?"
   ]
  },
  {
   "cell_type": "code",
   "execution_count": 8,
   "id": "13bf9447-9fa0-4e90-a653-d4446b88a996",
   "metadata": {},
   "outputs": [
    {
     "name": "stdout",
     "output_type": "stream",
     "text": [
      "assortativity: 0.529360\n"
     ]
    }
   ],
   "source": [
    "assortativity = nx.attribute_assortativity_coefficient(G, \"party\")\n",
    "print(f\"assortativity: {assortativity:05f}\")"
   ]
  },
  {
   "cell_type": "markdown",
   "id": "6fbc8610-98e4-44e3-8774-ccf7d4e54922",
   "metadata": {},
   "source": [
    "**Task 2.2:** To see if the assortativity value fits your expectations, use the [function](https://networkx.org/documentation/stable/reference/generated/networkx.drawing.nx_pylab.draw_networkx.html) `draw_networkx()` to plot the network coloring each node according to the political party label of the politician. Does the pattern of colors fit the value of assortativity?\n",
    "\n",
    "**Hint:** use the optional function parameters `nodelist` and `node_color` to pass a list of nodes and a list of corresponding colors to the drawing function.  \n",
    "**Hint:** you can use one of [matplotlibs categorical color maps](https://matplotlib.org/stable/tutorials/colors/colormaps.html) to get a nice series of distinct colors for the parties. \n",
    "\n"
   ]
  },
  {
   "cell_type": "code",
   "execution_count": 10,
   "id": "ce46f1c3-8297-4773-8689-b0d391b9a282",
   "metadata": {},
   "outputs": [],
   "source": [
    "# create a list of nodes\n",
    "node_list = nodes[\"id\"]\n",
    "\n",
    "# create a list with a color for each node\n",
    "parties = nodes[\"party\"].unique()\n",
    "cmap = plt.get_cmap(\"Set3\")\n",
    "colors = [cmap(i) for i in range(len(parties))]\n",
    "color_dict = {party:color for party, color in zip(parties, colors)}\n",
    "node_colors = [color_dict[party] for party in nodes[\"party\"]]"
   ]
  },
  {
   "cell_type": "code",
   "execution_count": 11,
   "id": "5a80be4e-32e1-476e-8e58-69b9e4b96976",
   "metadata": {},
   "outputs": [
    {
     "data": {
      "image/png": "[encoded data removed]",
      "text/plain": [
       "<Figure size 432x288 with 1 Axes>"
      ]
     },
     "metadata": {},
     "output_type": "display_data"
    }
   ],
   "source": [
    "# draw the network including a legend\n",
    "fig, ax = plt.subplots()\n",
    "nx.draw_networkx(\n",
    "    G, \n",
    "    nodelist=nodes[\"id\"],\n",
    "    node_color=node_colors,\n",
    "    node_size=10, \n",
    "    with_labels=False,\n",
    "    ax=ax\n",
    ")\n",
    "# let's add a legend! Since draw_network does not do this automatically, we have\n",
    "# to create custom legend elements to add to the plot\n",
    "from matplotlib.lines import Line2D\n",
    "legend_elements = [Line2D([0], [0], marker='o', color=\"w\", label=key,\n",
    "        markerfacecolor=val, markersize=10) for key, val in color_dict.items()]\n",
    "ax.legend(\n",
    "    handles=legend_elements, # customly made legend handles\n",
    "    title=\"parties\", # title of the legend\n",
    "    loc=1, # anchors the legend in the upper right corner\n",
    "    bbox_to_anchor=[1.25, 1, 0, 0] # puts the legend outside the plot\n",
    ");"
   ]
  },
  {
   "cell_type": "markdown",
   "id": "37fc1810-0bd6-4e8c-b1d4-2b32bab5d898",
   "metadata": {},
   "source": [
    "**Hint:** `draw_networkx()` does not create a legend by default. If you want to add a legend to your plot, you can follow this [guide](https://matplotlib.org/stable/gallery/text_labels_and_annotations/custom_legends.html) to create a custom legend."
   ]
  },
  {
   "cell_type": "markdown",
   "id": "399248d1-6cdc-46df-a15e-93c54393ae28",
   "metadata": {},
   "source": [
    "# 3. Permutation tests\n",
    "\n",
    "The above result looks assortative, but how can we test if it could have happened at random and not because of party identity? Here were are going to test this with a permutation test.\n",
    "\n",
    "**Task 3.1:** First, let's run a permutation. Perform the same assortativity calculation as above but permuting the party labels of nodes. Is the value much closer to zero?\n",
    "\n",
    "**Hint:** You can reshuffle the party lables by calling the `sample(frac=1)` function on the `party` column of the user data frame.  \n",
    "**Hint:** You can set the shuffled node attributes in the graph using the `set_node_attributes()` [function](https://networkx.org/documentation/stable/reference/generated/networkx.classes.function.set_node_attributes.html)."
   ]
  },
  {
   "cell_type": "code",
   "execution_count": 12,
   "id": "8ab7c449-46b0-42a3-be31-0100ac8eb962",
   "metadata": {},
   "outputs": [],
   "source": [
    "parties = nodes[\"party\"].sample(frac=1).values\n",
    "shuffled_labels = {node:party for node, party in zip(nodes[\"id\"], parties)}\n",
    "nx.set_node_attributes(G, shuffled_labels, name=\"party\")"
   ]
  },
  {
   "cell_type": "code",
   "execution_count": 13,
   "id": "6f8dd562-65b1-418c-ad79-bd7672487357",
   "metadata": {},
   "outputs": [
    {
     "data": {
      "text/plain": [
       "0.01754346129284038"
      ]
     },
     "execution_count": 13,
     "metadata": {},
     "output_type": "execute_result"
    }
   ],
   "source": [
    "nx.attribute_assortativity_coefficient(G, \"party\")"
   ]
  },
  {
   "cell_type": "markdown",
   "id": "349eda64-ccf7-4c28-881b-3021fbafad2c",
   "metadata": {},
   "source": [
    "**Task 3.2:** Repeat the calculation with 1000 permutations.\n",
    "\n",
    "**Hint:** Create a function to shuffle node attributes and calculate assortativity to make your life easier."
   ]
  },
  {
   "cell_type": "code",
   "execution_count": 14,
   "id": "8372fd37-cd66-48d2-93db-383aa20ee0c3",
   "metadata": {},
   "outputs": [],
   "source": [
    "def calculate_shuffled_assortativity(G, nodes):\n",
    "    '''Function that reshuffles party labels and calculates assortativity.'''\n",
    "    parties = nodes[\"party\"].sample(frac=1).values\n",
    "    shuffled_labels = {node:party for node, party in zip(nodes[\"id\"], parties)}\n",
    "    nx.set_node_attributes(G, shuffled_labels, name=\"party\")\n",
    "    return nx.attribute_assortativity_coefficient(G, \"party\")"
   ]
  },
  {
   "cell_type": "code",
   "execution_count": 15,
   "id": "6a72b26d-1d62-4b3e-94a3-c649cd2bdc47",
   "metadata": {},
   "outputs": [],
   "source": [
    "# run the permutation using the function defined above\n",
    "N_permutations = 1000\n",
    "perm_assortativities = [calculate_shuffled_assortativity(G, nodes) \\\n",
    "                   for i in range(N_permutations)]"
   ]
  },
  {
   "cell_type": "markdown",
   "id": "3edbf1ef-afd7-407a-8bbf-3b3e2a724ea5",
   "metadata": {},
   "source": [
    "**Task 3.3:**  Plot a histogram of the resulting values from the permutations. Add a line with the value of the assortativity without permutation. Is it far or close to the permuted values?"
   ]
  },
  {
   "cell_type": "code",
   "execution_count": 16,
   "id": "180434c0-ed1c-465b-bffa-04ed5aaff57b",
   "metadata": {},
   "outputs": [
    {
     "data": {
      "text/plain": [
       "<matplotlib.legend.Legend at 0x7f63fbc3d1f0>"
      ]
     },
     "execution_count": 16,
     "metadata": {},
     "output_type": "execute_result"
    },
    {
     "data": {
      "image/png": "[encoded data removed]",
      "text/plain": [
       "<Figure size 432x288 with 1 Axes>"
      ]
     },
     "metadata": {
      "needs_background": "light"
     },
     "output_type": "display_data"
    }
   ],
   "source": [
    "fig, ax = plt.subplots()\n",
    "ax.hist(perm_assortativities, rwidth=0.8, label=\"permutation test\")\n",
    "ax.plot([assortativity, assortativity], [0, 250],\n",
    "        color=\"r\", label=\"original assortativity\")\n",
    "ax.set_ylabel(\"count\")\n",
    "ax.set_xlabel(\"assortativity\")\n",
    "ax.legend(loc=9)"
   ]
  },
  {
   "cell_type": "markdown",
   "id": "7a9ec0ff-8744-4738-a95e-5d787b71822a",
   "metadata": {},
   "source": [
    "To be sure the assortativity is not random, let's calculate a p-value for the null hypothesis that the assortativity is zero and the alternative hypothesis that it is positive (what we expected). "
   ]
  },
  {
   "cell_type": "code",
   "execution_count": 17,
   "id": "a2f93658-d12c-4e7d-b8a9-47202395d22c",
   "metadata": {},
   "outputs": [
    {
     "name": "stdout",
     "output_type": "stream",
     "text": [
      "p-value: 0.001\n"
     ]
    }
   ],
   "source": [
    "# convert to a numpy array to allow for calculations on all elements of the \n",
    "# list simultaneously\n",
    "perm_assortativities = np.asarray(perm_assortativities)\n",
    "\n",
    "# calculate the p-value\n",
    "p = (1 + sum(perm_assortativities > assortativity)) / len(perm_assortativities)\n",
    "print(f\"p-value: {p}\")"
   ]
  },
  {
   "cell_type": "markdown",
   "id": "d5c4e406-dd0a-4c3a-a47b-9c92fa3686d0",
   "metadata": {},
   "source": [
    "**Task 3.4**: After looking at the above results, do you think it is likely that the assortativity we found in the data was produced by chance?"
   ]
  },
  {
   "cell_type": "markdown",
   "id": "2d858242-9686-4a29-8b7e-7b50fdbea324",
   "metadata": {},
   "source": [
    "# 4. Community detection"
   ]
  },
  {
   "cell_type": "markdown",
   "id": "91874d7b-7a87-4b78-bb88-02c4fd3e62cc",
   "metadata": {},
   "source": [
    "Let's test if Twitter communities match political affiliations!\n",
    "\n",
    "**Task 4.1:** Remove nodes with degree zero in the network and run the [Louvain community detection algorithm](https://networkx.org/documentation/stable/reference/algorithms/generated/networkx.algorithms.community.louvain.louvain_communities.html).\n",
    "\n",
    "**Hint:** you can identify nodes with no edges using networkx's function `isolates()`."
   ]
  },
  {
   "cell_type": "code",
   "execution_count": 18,
   "id": "85fcc80b-d3b7-47fa-94ef-44d05bc86fbe",
   "metadata": {},
   "outputs": [],
   "source": [
    "G.remove_nodes_from(list(nx.isolates(G)))"
   ]
  },
  {
   "cell_type": "code",
   "execution_count": 19,
   "id": "0bb9326e-60e8-4094-8737-43f1bd540122",
   "metadata": {},
   "outputs": [],
   "source": [
    "import networkx.algorithms.community as nx_comm\n",
    "communities = nx_comm.louvain_communities(G)"
   ]
  },
  {
   "cell_type": "markdown",
   "id": "2084405e-974f-4bad-9a2c-fac1b864e19e",
   "metadata": {},
   "source": [
    "**Task 4.2:** Visualize the result coloring nodes by community labels."
   ]
  },
  {
   "cell_type": "code",
   "execution_count": 20,
   "id": "d4189510-f751-4137-9812-11ea56b07715",
   "metadata": {},
   "outputs": [],
   "source": [
    "# create a list with a color for each node\n",
    "N_communities = len(communities)\n",
    "cmap = plt.get_cmap(\"Set3\")\n",
    "colors = [cmap(i) for i in range(N_communities)]\n",
    "color_dict = {community:color for community, color in zip(range(N_communities), colors)}\n",
    "\n",
    "node_list = []\n",
    "node_colors = []\n",
    "for i, community in enumerate(communities):\n",
    "    for node in community:\n",
    "        node_list.append(node)\n",
    "        node_colors.append(color_dict[i])"
   ]
  },
  {
   "cell_type": "code",
   "execution_count": 21,
   "id": "0cb1a746-907e-4485-b74e-6e2e3f3ac32e",
   "metadata": {},
   "outputs": [
    {
     "data": {
      "text/plain": [
       "<matplotlib.legend.Legend at 0x7f63fbbdfac0>"
      ]
     },
     "execution_count": 21,
     "metadata": {},
     "output_type": "execute_result"
    },
    {
     "data": {
      "image/png": "[encoded data removed]",
      "text/plain": [
       "<Figure size 432x288 with 1 Axes>"
      ]
     },
     "metadata": {},
     "output_type": "display_data"
    }
   ],
   "source": [
    "# draw the network\n",
    "fig, ax = plt.subplots()\n",
    "nx.draw_networkx(\n",
    "    G, \n",
    "    nodelist=node_list,\n",
    "    node_color=node_colors,\n",
    "    node_size=20, \n",
    "    with_labels=False,\n",
    "    ax=ax\n",
    ")\n",
    "\n",
    "# add a legend\n",
    "legend_elements = [Line2D([0], [0], marker='o', color=\"w\", label=key,\n",
    "                          markerfacecolor=val, markersize=10) for key, val in color_dict.items()]\n",
    "ax.legend(\n",
    "    handles=legend_elements,\n",
    "    title=\"communities\",\n",
    "    loc=1, \n",
    "    bbox_to_anchor=[1.25, 1, 0, 0]\n",
    ")"
   ]
  },
  {
   "cell_type": "markdown",
   "id": "88b7852c-9b51-4629-8465-1cecbfd99583",
   "metadata": {},
   "source": [
    "**Task 4.3:** Run the `modularity` [function](https://networkx.org/documentation/stable/reference/algorithms/generated/networkx.algorithms.community.quality.modularity.html) with the above community labels to measure how [modular](https://en.wikipedia.org/wiki/Modularity_(networks)#:~:text=Modularity%20is%20a%20measure%20of,between%20nodes%20in%20different%20modules.) the network is. Is it high enough to think that the network has a community structure?"
   ]
  },
  {
   "cell_type": "code",
   "execution_count": 22,
   "id": "2597cdc3-037e-4b81-8f6e-ba2570596608",
   "metadata": {},
   "outputs": [
    {
     "data": {
      "text/plain": [
       "0.4980845279288185"
      ]
     },
     "execution_count": 22,
     "metadata": {},
     "output_type": "execute_result"
    }
   ],
   "source": [
    "nx_comm.modularity(G, communities)"
   ]
  },
  {
   "cell_type": "markdown",
   "id": "60512def-9a10-4778-8f28-86cdadb8f91e",
   "metadata": {},
   "source": [
    "**Task 4.4:** To understand which parties are represented in each community, build a data frame for nodes with two columns: one with the party label and another one with the community label. Use the `groupby()` function to print a contingency table. Which party or parties compose each community?"
   ]
  },
  {
   "cell_type": "code",
   "execution_count": 24,
   "id": "43c4c633-ca18-4d0f-ba7e-97da52a36695",
   "metadata": {},
   "outputs": [],
   "source": [
    "# create a copy of the user data frame with all users that are also in the graph\n",
    "user_communities = users[users[\"id\"].isin(G.nodes)][[\"id\", \"party\"]].copy()\n",
    "user_communities = user_communities.set_index(\"id\")\n",
    "user_communities[\"community\"] = -1\n",
    "for i, community in enumerate(communities):\n",
    "    user_communities.loc[list(community), \"community\"] = i\n",
    "user_communities = user_communities\\\n",
    "    .reset_index()\\\n",
    "    .sort_values(by=\"party\")"
   ]
  },
  {
   "cell_type": "code",
   "execution_count": 25,
   "id": "d8e9b7d1-28fa-4612-a6bd-b26c575de08d",
   "metadata": {},
   "outputs": [
    {
     "data": {
      "text/html": [
       "<div>\n",
       "<style scoped>\n",
       "    .dataframe tbody tr th:only-of-type {\n",
       "        vertical-align: middle;\n",
       "    }\n",
       "\n",
       "    .dataframe tbody tr th {\n",
       "        vertical-align: top;\n",
       "    }\n",
       "\n",
       "    .dataframe thead th {\n",
       "        text-align: right;\n",
       "    }\n",
       "</style>\n",
       "<table border=\"1\" class=\"dataframe\">\n",
       "  <thead>\n",
       "    <tr style=\"text-align: right;\">\n",
       "      <th></th>\n",
       "      <th></th>\n",
       "      <th>count</th>\n",
       "    </tr>\n",
       "    <tr>\n",
       "      <th>party</th>\n",
       "      <th>community</th>\n",
       "      <th></th>\n",
       "    </tr>\n",
       "  </thead>\n",
       "  <tbody>\n",
       "    <tr>\n",
       "      <th>AL</th>\n",
       "      <th>7</th>\n",
       "      <td>2</td>\n",
       "    </tr>\n",
       "    <tr>\n",
       "      <th rowspan=\"4\" valign=\"top\">BDP</th>\n",
       "      <th>0</th>\n",
       "      <td>5</td>\n",
       "    </tr>\n",
       "    <tr>\n",
       "      <th>2</th>\n",
       "      <td>3</td>\n",
       "    </tr>\n",
       "    <tr>\n",
       "      <th>3</th>\n",
       "      <td>1</td>\n",
       "    </tr>\n",
       "    <tr>\n",
       "      <th>7</th>\n",
       "      <td>1</td>\n",
       "    </tr>\n",
       "    <tr>\n",
       "      <th rowspan=\"2\" valign=\"top\">CVP</th>\n",
       "      <th>0</th>\n",
       "      <td>15</td>\n",
       "    </tr>\n",
       "    <tr>\n",
       "      <th>6</th>\n",
       "      <td>1</td>\n",
       "    </tr>\n",
       "    <tr>\n",
       "      <th>EDU</th>\n",
       "      <th>2</th>\n",
       "      <td>1</td>\n",
       "    </tr>\n",
       "    <tr>\n",
       "      <th rowspan=\"2\" valign=\"top\">EVP</th>\n",
       "      <th>0</th>\n",
       "      <td>2</td>\n",
       "    </tr>\n",
       "    <tr>\n",
       "      <th>1</th>\n",
       "      <td>3</td>\n",
       "    </tr>\n",
       "    <tr>\n",
       "      <th rowspan=\"3\" valign=\"top\">FDP</th>\n",
       "      <th>0</th>\n",
       "      <td>1</td>\n",
       "    </tr>\n",
       "    <tr>\n",
       "      <th>2</th>\n",
       "      <td>8</td>\n",
       "    </tr>\n",
       "    <tr>\n",
       "      <th>7</th>\n",
       "      <td>2</td>\n",
       "    </tr>\n",
       "    <tr>\n",
       "      <th rowspan=\"2\" valign=\"top\">GLP</th>\n",
       "      <th>2</th>\n",
       "      <td>1</td>\n",
       "    </tr>\n",
       "    <tr>\n",
       "      <th>3</th>\n",
       "      <td>13</td>\n",
       "    </tr>\n",
       "    <tr>\n",
       "      <th rowspan=\"3\" valign=\"top\">Green</th>\n",
       "      <th>0</th>\n",
       "      <td>1</td>\n",
       "    </tr>\n",
       "    <tr>\n",
       "      <th>4</th>\n",
       "      <td>22</td>\n",
       "    </tr>\n",
       "    <tr>\n",
       "      <th>7</th>\n",
       "      <td>2</td>\n",
       "    </tr>\n",
       "    <tr>\n",
       "      <th rowspan=\"7\" valign=\"top\">SP</th>\n",
       "      <th>0</th>\n",
       "      <td>3</td>\n",
       "    </tr>\n",
       "    <tr>\n",
       "      <th>2</th>\n",
       "      <td>2</td>\n",
       "    </tr>\n",
       "    <tr>\n",
       "      <th>4</th>\n",
       "      <td>2</td>\n",
       "    </tr>\n",
       "    <tr>\n",
       "      <th>5</th>\n",
       "      <td>1</td>\n",
       "    </tr>\n",
       "    <tr>\n",
       "      <th>6</th>\n",
       "      <td>3</td>\n",
       "    </tr>\n",
       "    <tr>\n",
       "      <th>7</th>\n",
       "      <td>34</td>\n",
       "    </tr>\n",
       "    <tr>\n",
       "      <th>8</th>\n",
       "      <td>1</td>\n",
       "    </tr>\n",
       "    <tr>\n",
       "      <th rowspan=\"4\" valign=\"top\">SVP</th>\n",
       "      <th>0</th>\n",
       "      <td>2</td>\n",
       "    </tr>\n",
       "    <tr>\n",
       "      <th>2</th>\n",
       "      <td>2</td>\n",
       "    </tr>\n",
       "    <tr>\n",
       "      <th>9</th>\n",
       "      <td>2</td>\n",
       "    </tr>\n",
       "    <tr>\n",
       "      <th>10</th>\n",
       "      <td>1</td>\n",
       "    </tr>\n",
       "    <tr>\n",
       "      <th>UP</th>\n",
       "      <th>2</th>\n",
       "      <td>2</td>\n",
       "    </tr>\n",
       "  </tbody>\n",
       "</table>\n",
       "</div>"
      ],
      "text/plain": [
       "                 count\n",
       "party community       \n",
       "AL    7              2\n",
       "BDP   0              5\n",
       "      2              3\n",
       "      3              1\n",
       "      7              1\n",
       "CVP   0             15\n",
       "      6              1\n",
       "EDU   2              1\n",
       "EVP   0              2\n",
       "      1              3\n",
       "FDP   0              1\n",
       "      2              8\n",
       "      7              2\n",
       "GLP   2              1\n",
       "      3             13\n",
       "Green 0              1\n",
       "      4             22\n",
       "      7              2\n",
       "SP    0              3\n",
       "      2              2\n",
       "      4              2\n",
       "      5              1\n",
       "      6              3\n",
       "      7             34\n",
       "      8              1\n",
       "SVP   0              2\n",
       "      2              2\n",
       "      9              2\n",
       "      10             1\n",
       "UP    2              2"
      ]
     },
     "execution_count": 25,
     "metadata": {},
     "output_type": "execute_result"
    }
   ],
   "source": [
    "user_communities\\\n",
    "    .groupby([\"party\", \"community\"])\\\n",
    "    .count()\\\n",
    "    .rename(columns={\"id\":\"count\"})"
   ]
  },
  {
   "cell_type": "markdown",
   "id": "aeec818d-32f9-4c6f-be91-f475f3127da7",
   "metadata": {},
   "source": [
    "**Task 4.5:** Repeat the modularity calculation but using the party labels instead of the communities detected with Louvain. Is it higher or lower?"
   ]
  },
  {
   "cell_type": "code",
   "execution_count": 26,
   "id": "0104ae84-9c9d-4e39-b6eb-502193b59e14",
   "metadata": {},
   "outputs": [],
   "source": [
    "parties = users[\"party\"].unique()\n",
    "party_communities = []\n",
    "for party in parties:\n",
    "    # filter a subset of users that is in the given party and in the graph\n",
    "    party_members = users[(users[\"party\"] == party) & users[\"id\"].isin(G.nodes)]\n",
    "    party_communities.append(set(party_members[\"id\"].values))"
   ]
  },
  {
   "cell_type": "code",
   "execution_count": 27,
   "id": "6fc44663-1c3e-4b76-9b5a-dcba9fff39ea",
   "metadata": {},
   "outputs": [
    {
     "data": {
      "text/plain": [
       "0.4213398594732011"
      ]
     },
     "execution_count": 27,
     "metadata": {},
     "output_type": "execute_result"
    }
   ],
   "source": [
    "nx_comm.modularity(G, party_communities)"
   ]
  },
  {
   "cell_type": "markdown",
   "id": "495e2320-8af1-4a72-b50e-66ce0efdbce6",
   "metadata": {},
   "source": [
    "# To learn more\n",
    "* How well can you predict the party of a politician from its neighbors in the network? Here you can use the rule of predicting the party as the majority party among its neighbors and evaluate the accuracy of this approach.\n",
    "* What would be the results if we use the network of replies? Do you expect assortativity and modularity to be higher or lower?\n",
    "* If you retrieved data of follower links, you can repeat the above analysis for undirected following relationships. Do you expect a higher or lower assortativity?"
   ]
  },
  {
   "cell_type": "markdown",
   "id": "dfa256bd-71fa-4979-9cf5-700c79dfd2a8",
   "metadata": {},
   "source": [
    "# Appendix: constructing the timelines of Twitter users"
   ]
  },
  {
   "cell_type": "code",
   "execution_count": null,
   "id": "0b6a0b9c-564a-4a07-abfd-066dc2bd10cd",
   "metadata": {},
   "outputs": [],
   "source": [
    "! pip install twarc"
   ]
  },
  {
   "cell_type": "code",
   "execution_count": null,
   "id": "81ab5877-feb6-4f67-851b-e4c97a44dbb8",
   "metadata": {},
   "outputs": [],
   "source": [
    "from twarc import Twarc2\n",
    "from datetime import datetime, timezone"
   ]
  },
  {
   "cell_type": "markdown",
   "id": "a4435a3d-5afe-434b-94c1-6e564d7d3e40",
   "metadata": {},
   "source": [
    "First connect to the Twitter API using your credentials."
   ]
  },
  {
   "cell_type": "code",
   "execution_count": 2,
   "id": "24a8bdf3-c0c7-4028-b09e-0b789566b7ff",
   "metadata": {},
   "outputs": [],
   "source": [
    "bearer_token = \"XXX\" # replace the XXX with your bearer token\n",
    "twarc_client = Twarc2(bearer_token=bearer_token)"
   ]
  },
  {
   "cell_type": "markdown",
   "id": "9af3a105-6fce-4c64-bbf4-287a14dfbf44",
   "metadata": {},
   "source": [
    "## Download users"
   ]
  },
  {
   "cell_type": "markdown",
   "id": "5f2ac0fe-ca5b-4276-8cd3-3f8a0ff7acf2",
   "metadata": {},
   "source": [
    "Import the file SwissPoliticians.csv and read it as a csv. Take into account that separators are tabs."
   ]
  },
  {
   "cell_type": "code",
   "execution_count": 262,
   "id": "dc9df31c-a7ea-4bdf-853b-71cd3bc9fe77",
   "metadata": {},
   "outputs": [
    {
     "data": {
      "text/html": [
       "<div>\n",
       "<style scoped>\n",
       "    .dataframe tbody tr th:only-of-type {\n",
       "        vertical-align: middle;\n",
       "    }\n",
       "\n",
       "    .dataframe tbody tr th {\n",
       "        vertical-align: top;\n",
       "    }\n",
       "\n",
       "    .dataframe thead th {\n",
       "        text-align: right;\n",
       "    }\n",
       "</style>\n",
       "<table border=\"1\" class=\"dataframe\">\n",
       "  <thead>\n",
       "    <tr style=\"text-align: right;\">\n",
       "      <th></th>\n",
       "      <th>screenName</th>\n",
       "      <th>party</th>\n",
       "    </tr>\n",
       "  </thead>\n",
       "  <tbody>\n",
       "    <tr>\n",
       "      <th>0</th>\n",
       "      <td>andreaskirstein</td>\n",
       "      <td>AL</td>\n",
       "    </tr>\n",
       "    <tr>\n",
       "      <th>1</th>\n",
       "      <td>bergerwthur</td>\n",
       "      <td>AL</td>\n",
       "    </tr>\n",
       "    <tr>\n",
       "      <th>2</th>\n",
       "      <td>MaeniJ</td>\n",
       "      <td>AL</td>\n",
       "    </tr>\n",
       "    <tr>\n",
       "      <th>3</th>\n",
       "      <td>WalterAngst</td>\n",
       "      <td>AL</td>\n",
       "    </tr>\n",
       "    <tr>\n",
       "      <th>4</th>\n",
       "      <td>asba_j</td>\n",
       "      <td>BDP</td>\n",
       "    </tr>\n",
       "  </tbody>\n",
       "</table>\n",
       "</div>"
      ],
      "text/plain": [
       "        screenName party\n",
       "0  andreaskirstein    AL\n",
       "1      bergerwthur    AL\n",
       "2           MaeniJ    AL\n",
       "3      WalterAngst    AL\n",
       "4           asba_j   BDP"
      ]
     },
     "execution_count": 262,
     "metadata": {},
     "output_type": "execute_result"
    }
   ],
   "source": [
    "screen_names = pd.read_csv(\"SwissPoliticians.csv\", sep=\"\\t\")\n",
    "screen_names.head()"
   ]
  },
  {
   "cell_type": "markdown",
   "id": "c0c6e28e-1796-4e41-aff3-d4fd5dfe5a37",
   "metadata": {},
   "source": [
    "Download the basic profile information of each user by screenname. See function `user_lookup()` in [twarc2](https://twarc-project.readthedocs.io/en/latest/api/client2/#twarc.client2.Twarc2.user_lookup)."
   ]
  },
  {
   "cell_type": "code",
   "execution_count": 263,
   "id": "31e223bb-fd99-484d-9d5f-e1752fc6a463",
   "metadata": {},
   "outputs": [
    {
     "data": {
      "text/html": [
       "<div>\n",
       "<style scoped>\n",
       "    .dataframe tbody tr th:only-of-type {\n",
       "        vertical-align: middle;\n",
       "    }\n",
       "\n",
       "    .dataframe tbody tr th {\n",
       "        vertical-align: top;\n",
       "    }\n",
       "\n",
       "    .dataframe thead th {\n",
       "        text-align: right;\n",
       "    }\n",
       "</style>\n",
       "<table border=\"1\" class=\"dataframe\">\n",
       "  <thead>\n",
       "    <tr style=\"text-align: right;\">\n",
       "      <th></th>\n",
       "      <th>verified</th>\n",
       "      <th>username</th>\n",
       "      <th>pinned_tweet_id</th>\n",
       "      <th>name</th>\n",
       "      <th>profile_image_url</th>\n",
       "      <th>id</th>\n",
       "      <th>description</th>\n",
       "      <th>url</th>\n",
       "      <th>location</th>\n",
       "      <th>protected</th>\n",
       "      <th>created_at</th>\n",
       "      <th>entities.url.urls</th>\n",
       "      <th>public_metrics.followers_count</th>\n",
       "      <th>public_metrics.following_count</th>\n",
       "      <th>public_metrics.tweet_count</th>\n",
       "      <th>public_metrics.listed_count</th>\n",
       "      <th>entities.description.mentions</th>\n",
       "      <th>entities.description.urls</th>\n",
       "      <th>entities.description.hashtags</th>\n",
       "    </tr>\n",
       "  </thead>\n",
       "  <tbody>\n",
       "    <tr>\n",
       "      <th>0</th>\n",
       "      <td>False</td>\n",
       "      <td>andreaskirstein</td>\n",
       "      <td>1180883993480323073</td>\n",
       "      <td>Andreas Kirstein</td>\n",
       "      <td>https://pbs.twimg.com/profile_images/149375950...</td>\n",
       "      <td>25254764</td>\n",
       "      <td>Gemeinderat. Arbeitet in der ETH-Bibliothek. T...</td>\n",
       "      <td>https://t.co/pbzTpZ2ztz</td>\n",
       "      <td>Zürich</td>\n",
       "      <td>False</td>\n",
       "      <td>2009-03-19T07:21:05.000Z</td>\n",
       "      <td>[{'start': 0, 'end': 23, 'url': 'https://t.co/...</td>\n",
       "      <td>734</td>\n",
       "      <td>518</td>\n",
       "      <td>13312</td>\n",
       "      <td>37</td>\n",
       "      <td>NaN</td>\n",
       "      <td>NaN</td>\n",
       "      <td>NaN</td>\n",
       "    </tr>\n",
       "    <tr>\n",
       "      <th>1</th>\n",
       "      <td>False</td>\n",
       "      <td>BergerWthur</td>\n",
       "      <td>1489912638012276737</td>\n",
       "      <td>David B. aus W. 📠 🚱🦬✭</td>\n",
       "      <td>https://pbs.twimg.com/profile_images/131178937...</td>\n",
       "      <td>472372843</td>\n",
       "      <td>Alt-Gemeinderat Winterthur (Alternative Liste)...</td>\n",
       "      <td>https://t.co/O4Ttdturoi</td>\n",
       "      <td>Winterthur</td>\n",
       "      <td>False</td>\n",
       "      <td>2012-01-23T21:48:27.000Z</td>\n",
       "      <td>[{'start': 0, 'end': 23, 'url': 'https://t.co/...</td>\n",
       "      <td>525</td>\n",
       "      <td>373</td>\n",
       "      <td>8181</td>\n",
       "      <td>17</td>\n",
       "      <td>NaN</td>\n",
       "      <td>NaN</td>\n",
       "      <td>NaN</td>\n",
       "    </tr>\n",
       "  </tbody>\n",
       "</table>\n",
       "</div>"
      ],
      "text/plain": [
       "   verified         username      pinned_tweet_id                   name  \\\n",
       "0     False  andreaskirstein  1180883993480323073       Andreas Kirstein   \n",
       "1     False      BergerWthur  1489912638012276737  David B. aus W. 📠 🚱🦬✭   \n",
       "\n",
       "                                   profile_image_url         id  \\\n",
       "0  https://pbs.twimg.com/profile_images/149375950...   25254764   \n",
       "1  https://pbs.twimg.com/profile_images/131178937...  472372843   \n",
       "\n",
       "                                         description                      url  \\\n",
       "0  Gemeinderat. Arbeitet in der ETH-Bibliothek. T...  https://t.co/pbzTpZ2ztz   \n",
       "1  Alt-Gemeinderat Winterthur (Alternative Liste)...  https://t.co/O4Ttdturoi   \n",
       "\n",
       "     location  protected                created_at  \\\n",
       "0      Zürich      False  2009-03-19T07:21:05.000Z   \n",
       "1  Winterthur      False  2012-01-23T21:48:27.000Z   \n",
       "\n",
       "                                   entities.url.urls  \\\n",
       "0  [{'start': 0, 'end': 23, 'url': 'https://t.co/...   \n",
       "1  [{'start': 0, 'end': 23, 'url': 'https://t.co/...   \n",
       "\n",
       "   public_metrics.followers_count  public_metrics.following_count  \\\n",
       "0                             734                             518   \n",
       "1                             525                             373   \n",
       "\n",
       "   public_metrics.tweet_count  public_metrics.listed_count  \\\n",
       "0                       13312                           37   \n",
       "1                        8181                           17   \n",
       "\n",
       "  entities.description.mentions entities.description.urls  \\\n",
       "0                           NaN                       NaN   \n",
       "1                           NaN                       NaN   \n",
       "\n",
       "  entities.description.hashtags  \n",
       "0                           NaN  \n",
       "1                           NaN  "
      ]
     },
     "execution_count": 263,
     "metadata": {},
     "output_type": "execute_result"
    }
   ],
   "source": [
    "users = []\n",
    "for user in twarc_client.user_lookup(screen_names[\"screenName\"], usernames=True):\n",
    "    users.append(user)\n",
    "users = pd.json_normalize(users, record_path=['data'])\n",
    "users.head(2)"
   ]
  },
  {
   "cell_type": "markdown",
   "id": "b62ed5b6-8dbd-4536-b472-59c8b3b30108",
   "metadata": {},
   "source": [
    "Merge the user information you retrieved from Twitter with the party affiliations from the `SwissPoliticians.csv` file. Remove all protected users from the dataset and save the user dataset to disk. To prevent merging issues, convert the screen names in both data frames to lower case."
   ]
  },
  {
   "cell_type": "code",
   "execution_count": 264,
   "id": "9b0aa70e-cbc2-4494-b088-69d4a8d36b86",
   "metadata": {},
   "outputs": [],
   "source": [
    "screen_names[\"screenName\"] = screen_names[\"screenName\"].str.lower()\n",
    "users[\"username\"] = users[\"username\"].str.lower()\n",
    "users = pd.merge(users, screen_names, how=\"right\", left_on=\"username\", right_on=\"screenName\")"
   ]
  },
  {
   "cell_type": "code",
   "execution_count": 271,
   "id": "d3401d0c-0bc9-4206-8467-371ed5d4c4a8",
   "metadata": {},
   "outputs": [
    {
     "name": "stdout",
     "output_type": "stream",
     "text": [
      "removed 55 protected accounts\n"
     ]
    }
   ],
   "source": [
    "N = len(users)\n",
    "users = users[users[\"protected\"] == False]\n",
    "print(f\"removed {N - len(users)} protected accounts\")"
   ]
  },
  {
   "cell_type": "code",
   "execution_count": 58,
   "id": "87c9b761-b5c0-4b63-96a8-8908e015e903",
   "metadata": {},
   "outputs": [],
   "source": [
    "# save the cleaned and merged user file for later use\n",
    "users.to_csv(\"users.csv\", index=False)"
   ]
  },
  {
   "cell_type": "markdown",
   "id": "a0118e2b-b7cf-46f7-843a-11afeff35be1",
   "metadata": {},
   "source": [
    "## Download timelines"
   ]
  },
  {
   "cell_type": "markdown",
   "id": "97dd6414-f16f-4e75-8264-43c8d9466baf",
   "metadata": {},
   "source": [
    "Now retrieve the all tweets from the last 5 days for each user using [twarc](https://twarc-project.readthedocs.io/en/latest/api/client2/#twarc.client2.Twarc2.timeline)'s `timeline()` function. Since we want to build a retweet network, we need to know the user ID of the original tweet for every retweet. To get this information, we need to request an *[expansion](https://developer.twitter.com/en/docs/twitter-api/expansions)*.\n",
    "\n",
    "It might take a bit to get data. If you run unto the [rate limit](https://developer.twitter.com/en/docs/twitter-api/rate-limits) of the Twitter API, you might have to wait up to 15 min to retrieve all tweets. Twarc will wait and resume the request automatically and print a warning.\n",
    "\n",
    "Save the result in a file called `timelines_raw.csv` so you can reload it at a later point in time."
   ]
  },
  {
   "cell_type": "code",
   "execution_count": null,
   "id": "cc66dc46-ae30-4604-8f01-0b2de1465400",
   "metadata": {},
   "outputs": [],
   "source": [
    "start = datetime(2021, 7, 12, 0, 0, 0, 0, tzinfo=timezone.utc)\n",
    "end = datetime(2022, 7, 12, 0, 0, 0, 0, tzinfo=timezone.utc)\n",
    "\n",
    "timelines = []\n",
    "for i, userID in enumerate(users[\"id\"]):\n",
    "    if i%50 == 0:\n",
    "        print(f\"{i}/{len(users)}\")\n",
    "    for timeline in twarc_client.timeline(\n",
    "        userID,\n",
    "        exclude_retweets=False,\n",
    "        exclude_replies=False,\n",
    "        start_time=start,\n",
    "        end_time=end,\n",
    "        expansions=[\"referenced_tweets.id\"]\n",
    "        ):\n",
    "        timelines.append(timeline)"
   ]
  },
  {
   "cell_type": "code",
   "execution_count": 274,
   "id": "eeed8d0f-12a7-49e8-82c0-bb2e4057e77b",
   "metadata": {},
   "outputs": [],
   "source": [
    "# since we requested an expansion in the referenced_tweets.id field, we have a \n",
    "# rather complicated nested JSON structure now. We use the ensure_flattened\n",
    "# utility to flatten the JSON structure into a more manageable format\n",
    "from twarc.expansions import ensure_flattened\n",
    "timelines = ensure_flattened(timelines)"
   ]
  },
  {
   "cell_type": "code",
   "execution_count": 275,
   "id": "9b2f4388-121d-42a0-aa89-f52048da576e",
   "metadata": {},
   "outputs": [],
   "source": [
    "# parse the JSON into a .csv (still not completely flat) and save\n",
    "timelines = pd.json_normalize(timelines)\n",
    "timelines.to_csv(\"timelines_raw.csv\", index=False)"
   ]
  },
  {
   "cell_type": "markdown",
   "id": "9f5401ca-3080-4a8e-b82c-dc10d4a024eb",
   "metadata": {},
   "source": [
    "## Clean timelines"
   ]
  },
  {
   "cell_type": "code",
   "execution_count": 3,
   "id": "731d605d-3e1c-4237-8442-6fcb73074dea",
   "metadata": {},
   "outputs": [
    {
     "name": "stderr",
     "output_type": "stream",
     "text": [
      "/tmp/ipykernel_697369/812648354.py:2: DtypeWarning: Columns (25,26,28,30,31) have mixed types. Specify dtype option on import or set low_memory=False.\n",
      "  timelines = pd.read_csv(\n"
     ]
    }
   ],
   "source": [
    "# load timelines and users from file\n",
    "timelines = pd.read_csv(\n",
    "    \"timelines_raw.csv\",\n",
    "    dtype={\"id\":str, \"author_id\":str, \"conversation_id\":str}, # load all IDs as string to prevent long integer overflows\n",
    "    parse_dates=[\"created_at\"] # parse the tweet creation date as datetime\n",
    ")\n",
    "users = pd.read_csv(\n",
    "    \"users.csv\",\n",
    "    dtype={\"id\":str},\n",
    "    parse_dates=[\"created_at\"]\n",
    ")\n",
    "\n",
    "# since the referenced_tweets field contains a list of dictionaries that is \n",
    "# stored as a string, we need to parse it first to restore its structure as\n",
    "# list of dictionaries to interact with it\n",
    "timelines[\"referenced_tweets\"] = timelines[\"referenced_tweets\"]\\\n",
    "    .apply(lambda x: eval(x) if x == x else np.nan)"
   ]
  },
  {
   "cell_type": "markdown",
   "id": "64e07686-9c7e-440b-9535-0079c9959291",
   "metadata": {},
   "source": [
    "The field `referenced_tweets` currently contains a list where each entry is a tweet object (since we requested the expansion on the field `referenced_tweets.id`:"
   ]
  },
  {
   "cell_type": "code",
   "execution_count": 4,
   "id": "c7c66645-cb68-4bbc-9f33-226c5f3fae11",
   "metadata": {},
   "outputs": [
    {
     "data": {
      "text/plain": [
       "[{'type': 'retweeted',\n",
       "  'id': '1546388828667006977',\n",
       "  'author_id': '1391450099205779456',\n",
       "  'entities': {'urls': [{'start': 209,\n",
       "     'end': 232,\n",
       "     'url': 'https://t.co/GGIk9ne4KI',\n",
       "     'expanded_url': 'https://doi.org/10.35016/ethz-cs-22047-de',\n",
       "     'display_url': 'doi.org/10.35016/ethz-…'},\n",
       "    {'start': 233,\n",
       "     'end': 256,\n",
       "     'url': 'https://t.co/6OBB5pJQkh',\n",
       "     'expanded_url': 'https://twitter.com/ETHBildarchiv/status/1546388828667006977/photo/1',\n",
       "     'display_url': 'pic.twitter.com/6OBB5pJQkh',\n",
       "     'media_key': '3_1546383410716938241'}],\n",
       "   'hashtags': [{'start': 174, 'end': 179, 'tag': 'Blog'},\n",
       "    {'start': 180, 'end': 194, 'tag': 'Crowdsourcing'},\n",
       "    {'start': 195, 'end': 208, 'tag': 'WerWeissMehr'}],\n",
       "   'mentions': [{'start': 29,\n",
       "     'end': 41,\n",
       "     'username': 'zrh_airport',\n",
       "     'id': '282510542'}]},\n",
       "  'source': 'Twitter Web App',\n",
       "  'possibly_sensitive': False,\n",
       "  'attachments': {'media_keys': ['3_1546383410716938241'], 'media': [{}]},\n",
       "  'reply_settings': 'everyone',\n",
       "  'public_metrics': {'retweet_count': 2,\n",
       "   'reply_count': 0,\n",
       "   'like_count': 6,\n",
       "   'quote_count': 1},\n",
       "  'created_at': '2022-07-11T07:00:01.000Z',\n",
       "  'conversation_id': '1546388828667006977',\n",
       "  'lang': 'de',\n",
       "  'text': 'Am 23. Dezember 1983 fand am @zrh_airport eine PK der El Al statt. Leider wissen wir (noch) nicht mehr über den Inhalt der PK. Wer erkennt Personen auf den Bildern?\\nHeute im #Blog #Crowdsourcing #WerWeissMehr\\nhttps://t.co/GGIk9ne4KI https://t.co/6OBB5pJQkh',\n",
       "  'author': {}}]"
      ]
     },
     "execution_count": 4,
     "metadata": {},
     "output_type": "execute_result"
    }
   ],
   "source": [
    "timelines.loc[0, \"referenced_tweets\"]"
   ]
  },
  {
   "cell_type": "markdown",
   "id": "6055c1e4-ce0d-414a-8cb8-53afede0e9bd",
   "metadata": {},
   "source": [
    "To construct our retweet network, we need to know (a) whether a tweet was a retweet and (b) the ID of the account that posted the tweet that was retweeted. Below we define two functions that help us extract this information from the `referenced_tweets` field:"
   ]
  },
  {
   "cell_type": "code",
   "execution_count": 5,
   "id": "0ce16548-973a-4d78-90d9-7111e8c9f17c",
   "metadata": {},
   "outputs": [],
   "source": [
    "def check_retweet(entry):\n",
    "    '''Checks whether a tweet is a retweet'''\n",
    "    if entry != entry: # NaN check\n",
    "        return False\n",
    "    for reference in entry:\n",
    "        if reference[\"type\"] == \"retweeted\":\n",
    "            return True\n",
    "    return False\n",
    "\n",
    "def get_retweet_author(entry):\n",
    "    '''Returns the author ID of the retweeted tweet'''\n",
    "    if entry != entry: # NaN check\n",
    "        return np.nan\n",
    "    for reference in entry:\n",
    "        if reference[\"type\"] == \"retweeted\":\n",
    "            return reference[\"author_id\"]\n",
    "    return np.nan"
   ]
  },
  {
   "cell_type": "markdown",
   "id": "52c05144-1303-470b-951e-b7bd60b925c8",
   "metadata": {},
   "source": [
    "Apply the functions `check_retweet()` and `get_retweet_author` to the column `referenced_tweets` and create two new columns `retweeted` and `retweet_user_id` containing the relevant information."
   ]
  },
  {
   "cell_type": "code",
   "execution_count": 6,
   "id": "53d217d6-6a89-4f08-9beb-847ff6a07805",
   "metadata": {},
   "outputs": [],
   "source": [
    "# create reference type columns\n",
    "timelines[\"retweeted\"] = timelines[\"referenced_tweets\"].apply(check_retweet)\n",
    "# create referenced tweet ID columns\n",
    "timelines[\"retweet_user_id\"] = timelines[\"referenced_tweets\"].apply(get_retweet_author)"
   ]
  },
  {
   "cell_type": "code",
   "execution_count": 12,
   "id": "ef0d3fdb-1c5c-4b0d-8872-c260eb34ff8a",
   "metadata": {},
   "outputs": [],
   "source": [
    "# save the file with the columns of interest\n",
    "cols = [\"author_id\", \"id\", \"lang\", \"text\", \"retweeted\", \"retweet_user_id\", \n",
    "        \"created_at\", 'public_metrics.retweet_count', 'public_metrics.reply_count',\n",
    "       'public_metrics.like_count', 'public_metrics.quote_count']\n",
    "timelines[cols].to_csv(\"timelines.csv\", index=False)"
   ]
  }
 ],
 "metadata": {
  "kernelspec": {
   "display_name": "Python 3 (ipykernel)",
   "language": "python",
   "name": "python3"
  },
  "language_info": {
   "codemirror_mode": {
    "name": "ipython",
    "version": 3
   },
   "file_extension": ".py",
   "mimetype": "text/x-python",
   "name": "python",
   "nbconvert_exporter": "python",
   "pygments_lexer": "ipython3",
   "version": "3.8.5"
  }
 },
 "nbformat": 4,
 "nbformat_minor": 5
}
