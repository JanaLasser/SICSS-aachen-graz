{
 "cells": [
  {
   "cell_type": "markdown",
   "id": "56db05a7-0392-4f83-b125-d19cfcf176b2",
   "metadata": {},
   "source": [
    "# Web scraping with BeautifulSoup"
   ]
  },
  {
   "cell_type": "markdown",
   "id": "d41b48b1-5bb0-46d8-a80c-4265061b19ef",
   "metadata": {},
   "source": [
    "Based on this excellent [article](https://www.dataquest.io/blog/web-scraping-python-using-beautiful-soup/)."
   ]
  },
  {
   "cell_type": "code",
   "execution_count": null,
   "id": "35e46fdb-1deb-40cc-84cd-9939d72026f4",
   "metadata": {},
   "outputs": [],
   "source": [
    "! pip install bs4"
   ]
  },
  {
   "cell_type": "code",
   "execution_count": 3,
   "id": "6b45af83-4d1d-4d9f-a7bc-c65adb1b976a",
   "metadata": {},
   "outputs": [],
   "source": [
    "import requests\n",
    "from bs4 import BeautifulSoup"
   ]
  },
  {
   "cell_type": "markdown",
   "id": "475bd4cc-fd7b-4f0b-82a4-821416253193",
   "metadata": {},
   "source": [
    "## Getting the seven-day weather forecast in the US"
   ]
  },
  {
   "cell_type": "code",
   "execution_count": null,
   "id": "0da2aa42-d141-403c-86b7-0798dd916c3c",
   "metadata": {},
   "outputs": [],
   "source": [
    "# get the HTML\n",
    "page = requests.get(\"https://forecast.weather.gov/MapClick.php?lat=37.7772&lon=-122.4168\")"
   ]
  },
  {
   "cell_type": "code",
   "execution_count": 26,
   "id": "e242b146-f0e4-4c50-85a1-7ec10f5c4656",
   "metadata": {},
   "outputs": [
    {
     "name": "stdout",
     "output_type": "stream",
     "text": [
      "<div class=\"tombstone-container\">\n",
      " <p class=\"period-name\">\n",
      "  Overnight\n",
      "  <br/>\n",
      "  <br/>\n",
      " </p>\n",
      " <p>\n",
      "  <img alt=\"Overnight: Mostly clear, with a steady temperature around 60. West wind 18 to 21 mph, with gusts as high as 28 mph. \" class=\"forecast-icon\" src=\"newimages/medium/nfew.png\" title=\"Overnight: Mostly clear, with a steady temperature around 60. West wind 18 to 21 mph, with gusts as high as 28 mph. \"/>\n",
      " </p>\n",
      " <p class=\"short-desc\">\n",
      "  Mostly Clear\n",
      " </p>\n",
      " <p class=\"temp temp-low\">\n",
      "  Low: 60 °F\n",
      " </p>\n",
      "</div>\n"
     ]
    }
   ],
   "source": [
    "# parse the HTML with BeautifulSoup\n",
    "soup = BeautifulSoup(page.content, 'html.parser')\n",
    "# find the \n",
    "seven_day = soup.find(id=\"seven-day-forecast\")\n",
    "forecast_items = seven_day.find_all(class_=\"tombstone-container\")\n",
    "tonight = forecast_items[0]\n",
    "print(tonight.prettify())"
   ]
  },
  {
   "cell_type": "code",
   "execution_count": null,
   "id": "1fdb1443-50eb-466e-a77b-816bc30389c1",
   "metadata": {},
   "outputs": [],
   "source": [
    "page.content"
   ]
  },
  {
   "cell_type": "code",
   "execution_count": 28,
   "id": "dd523734-0964-461f-b15b-66b842a6b80a",
   "metadata": {},
   "outputs": [],
   "source": [
    "from bs4 import BeautifulSoup\n",
    "soup = BeautifulSoup(page.content, \"html.parser\")"
   ]
  },
  {
   "cell_type": "code",
   "execution_count": null,
   "id": "dda1b1af-a54a-4699-b938-abd3bba2d48f",
   "metadata": {},
   "outputs": [],
   "source": [
    "print(soup.prettify())"
   ]
  },
  {
   "cell_type": "code",
   "execution_count": 30,
   "id": "2a8df1ae-343b-4548-a64f-e9edd3fc182e",
   "metadata": {},
   "outputs": [
    {
     "name": "stdout",
     "output_type": "stream",
     "text": [
      "Overnight\n",
      "Mostly Clear\n",
      "Low: 60 °F\n"
     ]
    }
   ],
   "source": [
    "period = tonight.find(class_=\"period-name\").get_text()\n",
    "short_desc = tonight.find(class_=\"short-desc\").get_text()\n",
    "temp = tonight.find(class_=\"temp\").get_text()\n",
    "print(period)\n",
    "print(short_desc)\n",
    "print(temp)"
   ]
  },
  {
   "cell_type": "code",
   "execution_count": 19,
   "id": "5ac4dd01-91a2-4096-ab0e-6ef1a254c539",
   "metadata": {},
   "outputs": [
    {
     "data": {
      "text/plain": [
       "['Overnight',\n",
       " 'Saturday',\n",
       " 'SaturdayNight',\n",
       " 'Sunday',\n",
       " 'SundayNight',\n",
       " 'Monday',\n",
       " 'MondayNight',\n",
       " 'Tuesday',\n",
       " 'TuesdayNight']"
      ]
     },
     "execution_count": 19,
     "metadata": {},
     "output_type": "execute_result"
    }
   ],
   "source": [
    "period_tags = seven_day.select(\".tombstone-container .period-name\")\n",
    "periods = [pt.get_text() for pt in period_tags]\n",
    "periods"
   ]
  },
  {
   "cell_type": "code",
   "execution_count": 23,
   "id": "c60b2a48-abb7-434c-852d-9b471d0aa00c",
   "metadata": {},
   "outputs": [
    {
     "name": "stdout",
     "output_type": "stream",
     "text": [
      "['Mostly Clear', 'Sunny andBreezy', 'Mostly Clearand Breezythen MostlyCloudy', 'Mostly Sunny', 'Mostly Clearand Breezythen PartlyCloudy', 'Mostly Sunnythen Sunnyand Breezy', 'Partly Cloudyand Breezythen MostlyCloudy', 'Mostly Sunny', 'Mostly Cloudy']\n",
      "['Low: 60 °F', 'High: 69 °F', 'Low: 56 °F', 'High: 74 °F', 'Low: 57 °F', 'High: 75 °F', 'Low: 57 °F', 'High: 70 °F', 'Low: 57 °F']\n",
      "['Overnight: Mostly clear, with a steady temperature around 60. West wind 18 to 21 mph, with gusts as high as 28 mph. ', 'Saturday: Sunny, with a high near 69. Breezy, with a west wind 20 to 26 mph, with gusts as high as 34 mph. ', 'Saturday Night: Increasing clouds, with a low around 56. Breezy, with a west wind 20 to 25 mph decreasing to 9 to 14 mph after midnight. Winds could gust as high as 33 mph. ', 'Sunday: Mostly sunny, with a high near 74. West wind 5 to 10 mph increasing to 16 to 21 mph in the afternoon. Winds could gust as high as 26 mph. ', 'Sunday Night: Mostly clear, with a low around 57. Breezy, with a west southwest wind 17 to 22 mph decreasing to 10 to 15 mph in the evening. Winds could gust as high as 29 mph. ', 'Monday: Sunny, with a high near 75. Breezy. ', 'Monday Night: Partly cloudy, with a low around 57. Breezy. ', 'Tuesday: Mostly sunny, with a high near 70.', 'Tuesday Night: Mostly cloudy, with a low around 57.']\n"
     ]
    }
   ],
   "source": [
    "short_descs = [sd.get_text() for sd in seven_day.select(\".tombstone-container .short-desc\")]\n",
    "temps = [t.get_text() for t in seven_day.select(\".tombstone-container .temp\")]\n",
    "descs = [d[\"title\"] for d in seven_day.select(\".tombstone-container img\")]\n",
    "print(short_descs)\n",
    "print(temps)\n",
    "print(descs)"
   ]
  },
  {
   "cell_type": "code",
   "execution_count": 24,
   "id": "89e710cf-f111-4ae4-825f-22dd459b78ca",
   "metadata": {},
   "outputs": [
    {
     "data": {
      "text/html": [
       "<div>\n",
       "<style scoped>\n",
       "    .dataframe tbody tr th:only-of-type {\n",
       "        vertical-align: middle;\n",
       "    }\n",
       "\n",
       "    .dataframe tbody tr th {\n",
       "        vertical-align: top;\n",
       "    }\n",
       "\n",
       "    .dataframe thead th {\n",
       "        text-align: right;\n",
       "    }\n",
       "</style>\n",
       "<table border=\"1\" class=\"dataframe\">\n",
       "  <thead>\n",
       "    <tr style=\"text-align: right;\">\n",
       "      <th></th>\n",
       "      <th>period</th>\n",
       "      <th>short_desc</th>\n",
       "      <th>temp</th>\n",
       "      <th>desc</th>\n",
       "    </tr>\n",
       "  </thead>\n",
       "  <tbody>\n",
       "    <tr>\n",
       "      <th>0</th>\n",
       "      <td>Overnight</td>\n",
       "      <td>Mostly Clear</td>\n",
       "      <td>Low: 60 °F</td>\n",
       "      <td>Overnight: Mostly clear, with a steady tempera...</td>\n",
       "    </tr>\n",
       "    <tr>\n",
       "      <th>1</th>\n",
       "      <td>Saturday</td>\n",
       "      <td>Sunny andBreezy</td>\n",
       "      <td>High: 69 °F</td>\n",
       "      <td>Saturday: Sunny, with a high near 69. Breezy, ...</td>\n",
       "    </tr>\n",
       "    <tr>\n",
       "      <th>2</th>\n",
       "      <td>SaturdayNight</td>\n",
       "      <td>Mostly Clearand Breezythen MostlyCloudy</td>\n",
       "      <td>Low: 56 °F</td>\n",
       "      <td>Saturday Night: Increasing clouds, with a low ...</td>\n",
       "    </tr>\n",
       "    <tr>\n",
       "      <th>3</th>\n",
       "      <td>Sunday</td>\n",
       "      <td>Mostly Sunny</td>\n",
       "      <td>High: 74 °F</td>\n",
       "      <td>Sunday: Mostly sunny, with a high near 74. Wes...</td>\n",
       "    </tr>\n",
       "    <tr>\n",
       "      <th>4</th>\n",
       "      <td>SundayNight</td>\n",
       "      <td>Mostly Clearand Breezythen PartlyCloudy</td>\n",
       "      <td>Low: 57 °F</td>\n",
       "      <td>Sunday Night: Mostly clear, with a low around ...</td>\n",
       "    </tr>\n",
       "    <tr>\n",
       "      <th>5</th>\n",
       "      <td>Monday</td>\n",
       "      <td>Mostly Sunnythen Sunnyand Breezy</td>\n",
       "      <td>High: 75 °F</td>\n",
       "      <td>Monday: Sunny, with a high near 75. Breezy.</td>\n",
       "    </tr>\n",
       "    <tr>\n",
       "      <th>6</th>\n",
       "      <td>MondayNight</td>\n",
       "      <td>Partly Cloudyand Breezythen MostlyCloudy</td>\n",
       "      <td>Low: 57 °F</td>\n",
       "      <td>Monday Night: Partly cloudy, with a low around...</td>\n",
       "    </tr>\n",
       "    <tr>\n",
       "      <th>7</th>\n",
       "      <td>Tuesday</td>\n",
       "      <td>Mostly Sunny</td>\n",
       "      <td>High: 70 °F</td>\n",
       "      <td>Tuesday: Mostly sunny, with a high near 70.</td>\n",
       "    </tr>\n",
       "    <tr>\n",
       "      <th>8</th>\n",
       "      <td>TuesdayNight</td>\n",
       "      <td>Mostly Cloudy</td>\n",
       "      <td>Low: 57 °F</td>\n",
       "      <td>Tuesday Night: Mostly cloudy, with a low aroun...</td>\n",
       "    </tr>\n",
       "  </tbody>\n",
       "</table>\n",
       "</div>"
      ],
      "text/plain": [
       "          period                                short_desc         temp  \\\n",
       "0      Overnight                              Mostly Clear   Low: 60 °F   \n",
       "1       Saturday                           Sunny andBreezy  High: 69 °F   \n",
       "2  SaturdayNight   Mostly Clearand Breezythen MostlyCloudy   Low: 56 °F   \n",
       "3         Sunday                              Mostly Sunny  High: 74 °F   \n",
       "4    SundayNight   Mostly Clearand Breezythen PartlyCloudy   Low: 57 °F   \n",
       "5         Monday          Mostly Sunnythen Sunnyand Breezy  High: 75 °F   \n",
       "6    MondayNight  Partly Cloudyand Breezythen MostlyCloudy   Low: 57 °F   \n",
       "7        Tuesday                              Mostly Sunny  High: 70 °F   \n",
       "8   TuesdayNight                             Mostly Cloudy   Low: 57 °F   \n",
       "\n",
       "                                                desc  \n",
       "0  Overnight: Mostly clear, with a steady tempera...  \n",
       "1  Saturday: Sunny, with a high near 69. Breezy, ...  \n",
       "2  Saturday Night: Increasing clouds, with a low ...  \n",
       "3  Sunday: Mostly sunny, with a high near 74. Wes...  \n",
       "4  Sunday Night: Mostly clear, with a low around ...  \n",
       "5       Monday: Sunny, with a high near 75. Breezy.   \n",
       "6  Monday Night: Partly cloudy, with a low around...  \n",
       "7        Tuesday: Mostly sunny, with a high near 70.  \n",
       "8  Tuesday Night: Mostly cloudy, with a low aroun...  "
      ]
     },
     "execution_count": 24,
     "metadata": {},
     "output_type": "execute_result"
    }
   ],
   "source": [
    "import pandas as pd\n",
    "weather = pd.DataFrame({\n",
    "    \"period\": periods,\n",
    "    \"short_desc\": short_descs,\n",
    "    \"temp\": temps,\n",
    "    \"desc\":descs\n",
    "})\n",
    "weather"
   ]
  },
  {
   "cell_type": "markdown",
   "id": "41edde57-a824-462d-a353-ff3d5e8bd697",
   "metadata": {},
   "source": [
    "## Getting live weather updates for any location"
   ]
  },
  {
   "cell_type": "markdown",
   "id": "167c0089-48af-4beb-91ff-c94b88e296f4",
   "metadata": {},
   "source": [
    "Adapted from [this tweet](https://twitter.com/clcoding/status/1547948222978850818?t=G1tRopbPHl-sch3_z8CB2A&s=09). "
   ]
  },
  {
   "cell_type": "code",
   "execution_count": 1,
   "id": "53e940c4-4515-4d08-a784-15f74cfd6e0e",
   "metadata": {},
   "outputs": [],
   "source": [
    "headers = {'User-Agent':'Mozilla/5.0 (Windows NT 10.0; Win64; x64)\\\n",
    "            AppleWebKit/537.36 (KHTML, like Gecko) \\\n",
    "            Chrome/58.0.3029.110 Safari/537.3'}"
   ]
  },
  {
   "cell_type": "code",
   "execution_count": 4,
   "id": "411a77c8-d2af-41d7-9187-d368dee54dde",
   "metadata": {},
   "outputs": [],
   "source": [
    "city = \"Graz\"\n",
    "request = f\"{city}+weather\"\n",
    "res = requests.get(f\"https://www.google.com/search?q={request}\\\n",
    "                    &oq={request}&aqs=chrome.0.35i3912j014j46j69i60.6128j1j7&sourceid=\\\n",
    "                    chrome&ie=UTF-8\", headers=headers)"
   ]
  },
  {
   "cell_type": "code",
   "execution_count": 6,
   "id": "76b85175-9fd8-49b0-9ba4-aec53f057629",
   "metadata": {},
   "outputs": [],
   "source": [
    "soup = BeautifulSoup(res.text, \"html.parser\")"
   ]
  },
  {
   "cell_type": "code",
   "execution_count": 9,
   "id": "bc6812d9-6472-4132-a991-b232a3e4c094",
   "metadata": {},
   "outputs": [],
   "source": [
    "location = soup.select(\"#wob_loc\")[0].getText().strip()\n",
    "time = soup.select(\"#wob_dts\")[0].getText().strip()\n",
    "info = soup.select(\"#wob_dc\")[0].getText().strip()\n",
    "weather = soup.select(\"#wob_tm\")[0].getText().strip()"
   ]
  },
  {
   "cell_type": "code",
   "execution_count": 10,
   "id": "24207b16-70bf-4127-b824-d4e89222248d",
   "metadata": {},
   "outputs": [
    {
     "name": "stdout",
     "output_type": "stream",
     "text": [
      "Graz at Montag, 12:00: Sonnig 27°C\n"
     ]
    }
   ],
   "source": [
    "print(f\"{location} at {time}: {info} {weather}°C\")"
   ]
  }
 ],
 "metadata": {
  "kernelspec": {
   "display_name": "Python 3 (ipykernel)",
   "language": "python",
   "name": "python3"
  },
  "language_info": {
   "codemirror_mode": {
    "name": "ipython",
    "version": 3
   },
   "file_extension": ".py",
   "mimetype": "text/x-python",
   "name": "python",
   "nbconvert_exporter": "python",
   "pygments_lexer": "ipython3",
   "version": "3.8.5"
  }
 },
 "nbformat": 4,
 "nbformat_minor": 5
}
