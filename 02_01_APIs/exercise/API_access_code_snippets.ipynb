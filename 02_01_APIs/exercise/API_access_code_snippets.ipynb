{
 "cells": [
  {
   "cell_type": "code",
   "execution_count": 1,
   "id": "d1fafd63-904a-47f2-a00e-71c42f09f68c",
   "metadata": {
    "tags": []
   },
   "outputs": [],
   "source": [
    "# general imports\n",
    "from datetime import date, datetime, timezone\n",
    "import asyncio\n",
    "import json\n",
    "import pandas as pd\n",
    "import numpy as np\n",
    "import matplotlib.pyplot as plt"
   ]
  },
  {
   "cell_type": "markdown",
   "id": "30d4c75b-8d94-4230-b5f4-90fff6d793ec",
   "metadata": {},
   "source": [
    "**General useful links**\n",
    "* Community sourced [list](https://docs.google.com/spreadsheets/d/1ZEr3okdlb0zctmX0MZKo-gZKPsq5WGn1nJOxPV7al-Q/edit#gid=0) of useful APIs\n",
    "* [Slides by Chris Bail on how to use APIs](https://sicss.io/2020/materials/day2-digital-trace-data/apis/Rpres/APIs.html#/52)"
   ]
  },
  {
   "cell_type": "markdown",
   "id": "d8b6af39-827d-4076-96b2-03ec7893e333",
   "metadata": {},
   "source": [
    "# Google Trends"
   ]
  },
  {
   "cell_type": "markdown",
   "id": "0c22ae00-faad-45db-a938-c1619e674e7e",
   "metadata": {},
   "source": [
    "Wrapper [documentation](https://pypi.org/project/pytrends/)"
   ]
  },
  {
   "cell_type": "code",
   "execution_count": null,
   "id": "7c36cded-d3cf-4de3-ac93-239c052110a3",
   "metadata": {},
   "outputs": [],
   "source": [
    "# install python wrapper\n",
    "! pip install pytrends"
   ]
  },
  {
   "cell_type": "code",
   "execution_count": 8,
   "id": "c5b461e9-0d2d-4919-b126-a96f3e553303",
   "metadata": {},
   "outputs": [],
   "source": [
    "# import python wrapper\n",
    "from pytrends.request import TrendReq"
   ]
  },
  {
   "cell_type": "code",
   "execution_count": 9,
   "id": "f8077a8f-420d-4c50-b293-3a990d8ebe10",
   "metadata": {},
   "outputs": [],
   "source": [
    "# initialize the client\n",
    "trend_client = TrendReq()"
   ]
  },
  {
   "cell_type": "code",
   "execution_count": null,
   "id": "47500a6b-070f-4c93-9d0a-1ead421bfb96",
   "metadata": {},
   "outputs": [],
   "source": [
    "kw_list = [\"Blockchain\"] # list of keywords we want to get search trends for\n",
    "timeframe = \"today 5-y\" # timeframe for which we want to request the trend\n",
    "geo = \"AT\" # geographical scope for wich we want to request the trend\n",
    "\n",
    "trend_client.build_payload(\n",
    "    kw_list, \n",
    "    timeframe=timeframe,\n",
    "    geo='AT'\n",
    ")"
   ]
  },
  {
   "cell_type": "code",
   "execution_count": null,
   "id": "64de1d88-dd7c-4013-9501-0eb0d4d8e9cf",
   "metadata": {},
   "outputs": [],
   "source": [
    "# the request directly returns a pandas DataFrame - very convenient!\n",
    "df = trend_client.interest_over_time()\n",
    "df.head(2)"
   ]
  },
  {
   "cell_type": "code",
   "execution_count": 25,
   "id": "119680e6-c7b8-4edc-9eb3-43723bc17ca6",
   "metadata": {},
   "outputs": [
    {
     "data": {
      "image/png": "[encoded data removed]",
      "text/plain": [
       "<Figure size 432x288 with 1 Axes>"
      ]
     },
     "metadata": {
      "needs_background": "light"
     },
     "output_type": "display_data"
    }
   ],
   "source": [
    "# visualize the result\n",
    "fig, ax = plt.subplots()\n",
    "kw = kw_list[0]\n",
    "ax.plot(df.index, df[kw])\n",
    "ax.set_ylabel(\"scaled search volume\")\n",
    "ax.set_title(f'Google searches for \"{kw}\" in {geo}');"
   ]
  },
  {
   "cell_type": "markdown",
   "id": "982c8f95-8557-472a-9d5e-7901624ce6ff",
   "metadata": {},
   "source": [
    "# Telegram"
   ]
  },
  {
   "cell_type": "markdown",
   "id": "3b2e932f-7b19-4cf2-bb95-1282a9e68603",
   "metadata": {},
   "source": [
    "Prerequisites: valid phone number, Telegram account & Telegram application  \n",
    "Sign up for API access following this [guide](https://core.telegram.org/api/obtaining_api_id)."
   ]
  },
  {
   "cell_type": "markdown",
   "id": "4dedc57b-b4f7-4992-82d9-0ac3570e0312",
   "metadata": {},
   "source": [
    "**Useful links**\n",
    "* [Blog post](https://betterprogramming.pub/how-to-get-data-from-telegram-82af55268a4b) explaining how to get messages from a channel and corresponding [code repository](https://github.com/amiryousefi/telegram-analysis/blob/master/ChannelMessages.py). **Note**: the code in the blogpost is outdated and does not work anymore. Refer to the code in the repository, which is up-to-date.\n",
    "* Wrapper [documentation](https://docs.telethon.dev/en/stable/)\n",
    "* [Tool](https://telegramchannels.me/) to discover telegram channels."
   ]
  },
  {
   "cell_type": "code",
   "execution_count": null,
   "id": "5e6fce9a-a143-4671-b64b-a0382d094453",
   "metadata": {},
   "outputs": [],
   "source": [
    "# install python wrapper\n",
    "! pip install telethon\n",
    "! pip install nest_asyncio"
   ]
  },
  {
   "cell_type": "code",
   "execution_count": 7,
   "id": "ac33d776-66f3-4bb9-88e9-da6bc55c5063",
   "metadata": {},
   "outputs": [
    {
     "name": "stdout",
     "output_type": "stream",
     "text": [
      "Requirement already satisfied: nest_asyncio in /home/jana/.local/lib/python3.9/site-packages (1.5.5)\n"
     ]
    }
   ],
   "source": [
    "# the below code is necessary for asyncio to be able to run a \n",
    "# second event loop inside a JupyterNotebook.\n",
    "import nest_asyncio\n",
    "nest_asyncio.apply()"
   ]
  },
  {
   "cell_type": "code",
   "execution_count": 3,
   "id": "bfcc8b62-4229-4595-8736-329825088bb5",
   "metadata": {},
   "outputs": [],
   "source": [
    "# import the wrapper\n",
    "from telethon import TelegramClient\n",
    "from telethon.errors import SessionPasswordNeededError\n",
    "from telethon.tl.functions.messages import (GetHistoryRequest)\n",
    "from telethon.tl.types import (\n",
    "    PeerChannel\n",
    ")"
   ]
  },
  {
   "cell_type": "code",
   "execution_count": 11,
   "id": "2c9dd64d-55db-4bb9-8708-f7de2a14478d",
   "metadata": {},
   "outputs": [],
   "source": [
    "# function to parse a JSON date\n",
    "class DateTimeEncoder(json.JSONEncoder):\n",
    "    def default(self, o):\n",
    "        if isinstance(o, datetime):\n",
    "            return o.isoformat()\n",
    "\n",
    "        if isinstance(o, bytes):\n",
    "            return list(o)\n",
    "\n",
    "        return json.JSONEncoder.default(self, o)"
   ]
  },
  {
   "cell_type": "code",
   "execution_count": 6,
   "id": "4c0831e4-2a7e-4bf7-9f24-34ea47342875",
   "metadata": {},
   "outputs": [],
   "source": [
    "api_id = 1234 # your api ID goes here\n",
    "api_hash = 'XXX' # your api hash goes here\n",
    "phone = '+4367012345678' # your phone number goes here, including \"+\" and country code\n",
    "username = 'Jana' # your Telegram username goes here\n",
    "\n",
    "# create the client and connect\n",
    "telclient = TelegramClient(username, api_id, api_hash)"
   ]
  },
  {
   "cell_type": "code",
   "execution_count": 54,
   "id": "edb22b8e-cf8c-41b8-9c28-9301ec8f03de",
   "metadata": {},
   "outputs": [],
   "source": [
    "async def main(phone):\n",
    "    await client.start()\n",
    "    print(\"Client Created\")\n",
    "    \n",
    "    # ensure you're authorized: this will send a code to your phone and ask you\n",
    "    # to enter it if you are not authorized yet\n",
    "    if await client.is_user_authorized() == False:\n",
    "        await client.send_code_request(phone)\n",
    "        try:\n",
    "            await client.sign_in(phone, input('Enter the code: '))\n",
    "        except SessionPasswordNeededError:\n",
    "            await client.sign_in(password=input('Password: '))\n",
    "\n",
    "    me = await client.get_me()\n",
    "    \n",
    "    # enter a channel URL or ID, for example https://t.me/nytimes\n",
    "    user_input_channel = input('enter entity(telegram URL or entity id):')\n",
    "\n",
    "    if user_input_channel.isdigit():\n",
    "        entity = PeerChannel(int(user_input_channel))\n",
    "    else:\n",
    "        entity = user_input_channel\n",
    "\n",
    "    my_channel = await client.get_entity(entity)\n",
    "\n",
    "    offset_id = 0\n",
    "    limit = 100\n",
    "    all_messages = []\n",
    "    total_messages = 0\n",
    "    total_count_limit = 0\n",
    "\n",
    "    # get all messages from the given channel\n",
    "    while True:\n",
    "        print(\"Current Offset ID is:\", offset_id, \"; Total Messages:\", total_messages)\n",
    "        history = await client(GetHistoryRequest(\n",
    "            peer=my_channel,\n",
    "            offset_id=offset_id,\n",
    "            offset_date=None,\n",
    "            add_offset=0,\n",
    "            limit=limit,\n",
    "            max_id=0,\n",
    "            min_id=0,\n",
    "            hash=0\n",
    "        ))\n",
    "        if not history.messages:\n",
    "            break\n",
    "        messages = history.messages\n",
    "        for message in messages:\n",
    "            all_messages.append(message.to_dict())\n",
    "        offset_id = messages[len(messages) - 1].id\n",
    "        total_messages = len(all_messages)\n",
    "        if total_count_limit != 0 and total_messages >= total_count_limit:\n",
    "            break\n",
    "\n",
    "    # save the messages to a JSON file\n",
    "    with open('channel_messages.json', 'w') as outfile:\n",
    "        json.dump(all_messages, outfile, cls=DateTimeEncoder)\n",
    "\n",
    "async with client:\n",
    "    client.loop.run_until_complete(main(phone))\n"
   ]
  },
  {
   "cell_type": "code",
   "execution_count": 55,
   "id": "8a12d5ad-db80-4b1b-9a0e-2b4075410468",
   "metadata": {},
   "outputs": [],
   "source": [
    "# read the saved messages\n",
    "with open(\"channel_messages.json\", \"r\") as infile:\n",
    "    content = infile.read()\n",
    "    messages = json.loads(content)"
   ]
  },
  {
   "cell_type": "code",
   "execution_count": null,
   "id": "29151ad0-1eee-45dc-84d5-c620af238565",
   "metadata": {},
   "outputs": [],
   "source": [
    "# inspect a single message\n",
    "messages[0]"
   ]
  },
  {
   "cell_type": "code",
   "execution_count": 56,
   "id": "636f1c18-d8f3-4048-98b4-bc497a34ba34",
   "metadata": {},
   "outputs": [
    {
     "data": {
      "text/html": [
       "<div>\n",
       "<style scoped>\n",
       "    .dataframe tbody tr th:only-of-type {\n",
       "        vertical-align: middle;\n",
       "    }\n",
       "\n",
       "    .dataframe tbody tr th {\n",
       "        vertical-align: top;\n",
       "    }\n",
       "\n",
       "    .dataframe thead th {\n",
       "        text-align: right;\n",
       "    }\n",
       "</style>\n",
       "<table border=\"1\" class=\"dataframe\">\n",
       "  <thead>\n",
       "    <tr style=\"text-align: right;\">\n",
       "      <th></th>\n",
       "      <th>_</th>\n",
       "      <th>id</th>\n",
       "      <th>date</th>\n",
       "      <th>message</th>\n",
       "      <th>out</th>\n",
       "      <th>mentioned</th>\n",
       "      <th>media_unread</th>\n",
       "      <th>silent</th>\n",
       "      <th>post</th>\n",
       "      <th>from_scheduled</th>\n",
       "      <th>...</th>\n",
       "      <th>media.poll.close_period</th>\n",
       "      <th>media.poll.close_date</th>\n",
       "      <th>media.results._</th>\n",
       "      <th>media.results.min</th>\n",
       "      <th>media.results.results</th>\n",
       "      <th>media.results.total_voters</th>\n",
       "      <th>media.results.recent_voters</th>\n",
       "      <th>media.results.solution</th>\n",
       "      <th>media.results.solution_entities</th>\n",
       "      <th>action.title</th>\n",
       "    </tr>\n",
       "  </thead>\n",
       "  <tbody>\n",
       "    <tr>\n",
       "      <th>0</th>\n",
       "      <td>Message</td>\n",
       "      <td>7141</td>\n",
       "      <td>2022-07-09T04:30:32+00:00</td>\n",
       "      <td>We can't help everyone, but everyone can help ...</td>\n",
       "      <td>False</td>\n",
       "      <td>False</td>\n",
       "      <td>False</td>\n",
       "      <td>False</td>\n",
       "      <td>True</td>\n",
       "      <td>False</td>\n",
       "      <td>...</td>\n",
       "      <td>NaN</td>\n",
       "      <td>NaN</td>\n",
       "      <td>NaN</td>\n",
       "      <td>NaN</td>\n",
       "      <td>NaN</td>\n",
       "      <td>NaN</td>\n",
       "      <td>NaN</td>\n",
       "      <td>NaN</td>\n",
       "      <td>NaN</td>\n",
       "      <td>NaN</td>\n",
       "    </tr>\n",
       "    <tr>\n",
       "      <th>1</th>\n",
       "      <td>Message</td>\n",
       "      <td>7140</td>\n",
       "      <td>2022-07-08T08:00:04+00:00</td>\n",
       "      <td>You may be deceived if you trust too much, but...</td>\n",
       "      <td>False</td>\n",
       "      <td>False</td>\n",
       "      <td>False</td>\n",
       "      <td>False</td>\n",
       "      <td>True</td>\n",
       "      <td>False</td>\n",
       "      <td>...</td>\n",
       "      <td>NaN</td>\n",
       "      <td>NaN</td>\n",
       "      <td>NaN</td>\n",
       "      <td>NaN</td>\n",
       "      <td>NaN</td>\n",
       "      <td>NaN</td>\n",
       "      <td>NaN</td>\n",
       "      <td>NaN</td>\n",
       "      <td>NaN</td>\n",
       "      <td>NaN</td>\n",
       "    </tr>\n",
       "  </tbody>\n",
       "</table>\n",
       "<p>2 rows × 163 columns</p>\n",
       "</div>"
      ],
      "text/plain": [
       "         _    id                       date  \\\n",
       "0  Message  7141  2022-07-09T04:30:32+00:00   \n",
       "1  Message  7140  2022-07-08T08:00:04+00:00   \n",
       "\n",
       "                                             message    out  mentioned  \\\n",
       "0  We can't help everyone, but everyone can help ...  False      False   \n",
       "1  You may be deceived if you trust too much, but...  False      False   \n",
       "\n",
       "   media_unread  silent  post from_scheduled  ...  media.poll.close_period  \\\n",
       "0         False   False  True          False  ...                      NaN   \n",
       "1         False   False  True          False  ...                      NaN   \n",
       "\n",
       "  media.poll.close_date media.results._ media.results.min  \\\n",
       "0                   NaN             NaN               NaN   \n",
       "1                   NaN             NaN               NaN   \n",
       "\n",
       "   media.results.results  media.results.total_voters  \\\n",
       "0                    NaN                         NaN   \n",
       "1                    NaN                         NaN   \n",
       "\n",
       "   media.results.recent_voters  media.results.solution  \\\n",
       "0                          NaN                     NaN   \n",
       "1                          NaN                     NaN   \n",
       "\n",
       "  media.results.solution_entities  action.title  \n",
       "0                             NaN           NaN  \n",
       "1                             NaN           NaN  \n",
       "\n",
       "[2 rows x 163 columns]"
      ]
     },
     "execution_count": 56,
     "metadata": {},
     "output_type": "execute_result"
    }
   ],
   "source": [
    "# parse the messages into a pandas data frame\n",
    "df = pd.json_normalize(messages)\n",
    "df.head(2)"
   ]
  },
  {
   "cell_type": "markdown",
   "id": "93b7df99-b23d-4089-b575-313c64b889f7",
   "metadata": {},
   "source": [
    "# YouTube Comments"
   ]
  },
  {
   "cell_type": "markdown",
   "id": "a760411c-f776-4096-be5e-d9deb1c51938",
   "metadata": {},
   "source": [
    "**Note:** Didn't get it to work yet"
   ]
  },
  {
   "cell_type": "markdown",
   "id": "0edb6722-eb54-4872-a3dc-70be7137f7b1",
   "metadata": {},
   "source": [
    "Prerequisites: Google account  \n",
    "\n",
    "**Useful links**\n",
    "* Follow this [guide](https://www.geeksforgeeks.org/youtube-data-api-set-1/) to create your access credentials.\n",
    "* The below code is part of this [tutorial](https://www.geeksforgeeks.org/how-to-extract-youtube-comments-using-youtube-api-python/) on downloading comments from videos."
   ]
  },
  {
   "cell_type": "code",
   "execution_count": null,
   "id": "5be1e813-5589-4da2-b356-458d916553e6",
   "metadata": {},
   "outputs": [],
   "source": [
    "# install the wrapper\n",
    "! pip install --upgrade google-api-python-client"
   ]
  },
  {
   "cell_type": "code",
   "execution_count": 10,
   "id": "bfa2a969-99eb-4a58-b239-5c82a318c1c2",
   "metadata": {},
   "outputs": [],
   "source": [
    "# import the wrapper\n",
    "from apiclient.discovery import build"
   ]
  },
  {
   "cell_type": "code",
   "execution_count": 11,
   "id": "0d33a3e4-2c14-4c0f-acd6-e3859c64f9eb",
   "metadata": {},
   "outputs": [],
   "source": [
    "# your API key goes here\n",
    "api_key = \"XXX\" "
   ]
  },
  {
   "cell_type": "code",
   "execution_count": 12,
   "id": "22dfffaf-4f0f-445b-aea5-07fd6e8bac74",
   "metadata": {},
   "outputs": [],
   "source": [
    "# create the YouTube API client\n",
    "youtube_client = build('youtube', 'v3', developerKey=api_key)"
   ]
  },
  {
   "cell_type": "code",
   "execution_count": null,
   "id": "07a20b28-de8a-442c-836c-7c6e52a40978",
   "metadata": {},
   "outputs": [],
   "source": [
    "# copy the video ID from a YouTube search, for example \n",
    "# https://www.youtube.com/watch?v=iRXJXaLV0n4\n",
    "video_id = \"iRXJXaLV0n4\"\n",
    "\n",
    "# empty list for storing the replies\n",
    "replies = []\n",
    "\n",
    "# retrieve YouTube video comments\n",
    "video_response=youtube_client.commentThreads().list(\n",
    "part='snippet,replies',\n",
    "videoId=video_id\n",
    ").execute()\n",
    "\n",
    "# iterate video response\n",
    "while video_response:\n",
    "\n",
    "    # extracting required info from each result object \n",
    "    for item in video_response['items']:\n",
    "        # extracting comments\n",
    "        comment = item['snippet']['topLevelComment']['snippet']['textDisplay']\n",
    "        # counting the number of reply of comment\n",
    "        replycount = item['snippet']['totalReplyCount']\n",
    "        # if there is a reply\n",
    "        if replycount > 0:\n",
    "            # iterate through all replies\n",
    "            for reply in item['replies']['comments']:\n",
    "                # extract the reply\n",
    "                reply = reply['snippet']['textDisplay']\n",
    "                replies.append(reply)\n",
    "\n",
    "        replies = []\n",
    "\n",
    "    # repeat for each batch of replies\n",
    "    if 'nextPageToken' in video_response:\n",
    "        video_response = youtube_client.commentThreads().list(\n",
    "                part = 'snippet,replies',\n",
    "                videoId = video_id\n",
    "            ).execute()\n",
    "    else:\n",
    "        break"
   ]
  },
  {
   "cell_type": "markdown",
   "id": "e72bbeea-bb2e-4a0a-b458-a6db522099fd",
   "metadata": {},
   "source": [
    "# New York Times"
   ]
  },
  {
   "cell_type": "markdown",
   "id": "db8e1f2f-1ab6-4215-8649-b1a118fb7fd4",
   "metadata": {},
   "source": [
    "Follow [these](https://developer.nytimes.com/get-started) instructions to create a developer account and get an API key.  "
   ]
  },
  {
   "cell_type": "markdown",
   "id": "accb6009-91d4-4aa6-a8ce-06fc93377448",
   "metadata": {},
   "source": [
    "**Useful links**\n",
    "* API [Documentation](https://developer.nytimes.com/)\n",
    "* Wrapper [Documentation](https://github.com/michadenheijer/pynytimes) of the `pynytimes` package."
   ]
  },
  {
   "cell_type": "code",
   "execution_count": 3,
   "id": "de70167c-7c4f-4a5f-b849-d38b64cb5426",
   "metadata": {},
   "outputs": [
    {
     "name": "stdout",
     "output_type": "stream",
     "text": [
      "Collecting pynytimes\n",
      "  Using cached pynytimes-0.8.0-py3-none-any.whl (21 kB)\n",
      "Requirement already satisfied: requests<3.0.0,>=2.10.0 in /home/jana/anaconda3/lib/python3.8/site-packages (from pynytimes) (2.28.1)\n",
      "Requirement already satisfied: urllib3 in /home/jana/anaconda3/lib/python3.8/site-packages (from pynytimes) (1.26.11)\n",
      "Requirement already satisfied: certifi>=2017.4.17 in /home/jana/anaconda3/lib/python3.8/site-packages (from requests<3.0.0,>=2.10.0->pynytimes) (2023.5.7)\n",
      "Requirement already satisfied: idna<4,>=2.5 in /home/jana/anaconda3/lib/python3.8/site-packages (from requests<3.0.0,>=2.10.0->pynytimes) (3.3)\n",
      "Requirement already satisfied: charset-normalizer<3,>=2 in /home/jana/anaconda3/lib/python3.8/site-packages (from requests<3.0.0,>=2.10.0->pynytimes) (2.0.4)\n",
      "Installing collected packages: pynytimes\n",
      "Successfully installed pynytimes-0.8.0\n"
     ]
    }
   ],
   "source": [
    "# install python wrapper\n",
    "! pip install pynytimes"
   ]
  },
  {
   "cell_type": "code",
   "execution_count": 4,
   "id": "29c939a0-cce2-47e1-9816-dfcabc1cd13b",
   "metadata": {},
   "outputs": [],
   "source": [
    "# import python wrapper\n",
    "from pynytimes import NYTAPI"
   ]
  },
  {
   "cell_type": "code",
   "execution_count": 5,
   "id": "27a52850-d32e-4c1e-b7ca-1ea0d76e5cd9",
   "metadata": {},
   "outputs": [],
   "source": [
    "# initialize client - paste your key here\n",
    "API_key = \"G2tGIPRUksLfB4mfPeawbZCpgZk43inE\"\n",
    "client = NYTAPI(API_key, parse_dates=True)"
   ]
  },
  {
   "cell_type": "code",
   "execution_count": 7,
   "id": "65fd16fa-a32c-445b-9e85-04736aa273be",
   "metadata": {},
   "outputs": [],
   "source": [
    "# get the latest articles for a given query\n",
    "articles = client.article_search(\n",
    "    query = \"Obama\",\n",
    "    results = 30,\n",
    "    dates = {\n",
    "        \"begin\": datetime(2019, 1, 31),\n",
    "        \"end\": datetime(2019, 2, 28)\n",
    "    },\n",
    "    options = {\n",
    "        \"sort\": \"oldest\",\n",
    "        \"sources\": [\n",
    "            \"New York Times\",\n",
    "            \"AP\",\n",
    "            \"Reuters\",\n",
    "            \"International Herald Tribune\"\n",
    "        ],\n",
    "        \"news_desk\": [\n",
    "            \"Politics\"\n",
    "        ],\n",
    "        \"type_of_material\": [\n",
    "            \"News Analysis\"\n",
    "        ]\n",
    "    }\n",
    ")"
   ]
  },
  {
   "cell_type": "code",
   "execution_count": 104,
   "id": "b991b502-6958-4196-82f1-5010937da4a8",
   "metadata": {},
   "outputs": [
    {
     "data": {
      "text/html": [
       "<div>\n",
       "<style scoped>\n",
       "    .dataframe tbody tr th:only-of-type {\n",
       "        vertical-align: middle;\n",
       "    }\n",
       "\n",
       "    .dataframe tbody tr th {\n",
       "        vertical-align: top;\n",
       "    }\n",
       "\n",
       "    .dataframe thead th {\n",
       "        text-align: right;\n",
       "    }\n",
       "</style>\n",
       "<table border=\"1\" class=\"dataframe\">\n",
       "  <thead>\n",
       "    <tr style=\"text-align: right;\">\n",
       "      <th></th>\n",
       "      <th>abstract</th>\n",
       "      <th>uri</th>\n",
       "      <th>pub_date</th>\n",
       "      <th>word_count</th>\n",
       "      <th>document_type</th>\n",
       "      <th>news_desk</th>\n",
       "      <th>section_name</th>\n",
       "      <th>subsection_name</th>\n",
       "      <th>type_of_material</th>\n",
       "    </tr>\n",
       "  </thead>\n",
       "  <tbody>\n",
       "    <tr>\n",
       "      <th>0</th>\n",
       "      <td>President Trump’s divisive behavior on race ha...</td>\n",
       "      <td>nyt://article/dc2ce387-1f03-5336-be0f-38da6275...</td>\n",
       "      <td>2019-02-04 01:02:16+00:00</td>\n",
       "      <td>1496</td>\n",
       "      <td>article</td>\n",
       "      <td>Politics</td>\n",
       "      <td>U.S.</td>\n",
       "      <td>Politics</td>\n",
       "      <td>News Analysis</td>\n",
       "    </tr>\n",
       "    <tr>\n",
       "      <th>1</th>\n",
       "      <td>On one side of the debate, Bernie Sanders prom...</td>\n",
       "      <td>nyt://article/5fe4f5e9-8435-5d9c-bb3e-4fc0ea5c...</td>\n",
       "      <td>2019-02-20 10:00:08+00:00</td>\n",
       "      <td>1662</td>\n",
       "      <td>article</td>\n",
       "      <td>Politics</td>\n",
       "      <td>U.S.</td>\n",
       "      <td>Politics</td>\n",
       "      <td>News Analysis</td>\n",
       "    </tr>\n",
       "  </tbody>\n",
       "</table>\n",
       "</div>"
      ],
      "text/plain": [
       "                                            abstract  \\\n",
       "0  President Trump’s divisive behavior on race ha...   \n",
       "1  On one side of the debate, Bernie Sanders prom...   \n",
       "\n",
       "                                                 uri  \\\n",
       "0  nyt://article/dc2ce387-1f03-5336-be0f-38da6275...   \n",
       "1  nyt://article/5fe4f5e9-8435-5d9c-bb3e-4fc0ea5c...   \n",
       "\n",
       "                   pub_date  word_count document_type news_desk section_name  \\\n",
       "0 2019-02-04 01:02:16+00:00        1496       article  Politics         U.S.   \n",
       "1 2019-02-20 10:00:08+00:00        1662       article  Politics         U.S.   \n",
       "\n",
       "  subsection_name type_of_material  \n",
       "0        Politics    News Analysis  \n",
       "1        Politics    News Analysis  "
      ]
     },
     "execution_count": 104,
     "metadata": {},
     "output_type": "execute_result"
    }
   ],
   "source": [
    "# convert the JSON into a pandas DataFrame\n",
    "fields = [\"abstract\", \"uri\", \"pub_date\", \"word_count\", \"document_type\",\n",
    "          \"news_desk\", \"section_name\", \"subsection_name\", \"type_of_material\"]\n",
    "df = pd.DataFrame({field:[article[field] for article in articles] for field in fields})\n",
    "df.head(2)"
   ]
  },
  {
   "cell_type": "markdown",
   "id": "16d477af-7b26-48ab-83fd-b977cba6dda8",
   "metadata": {},
   "source": [
    "# MediaWiki"
   ]
  },
  {
   "cell_type": "markdown",
   "id": "88c128c8-9b67-4cf1-afcc-21215002cd55",
   "metadata": {},
   "source": [
    "## Basic access"
   ]
  },
  {
   "cell_type": "markdown",
   "id": "7d4a36d2-f840-4a83-81a7-9391853d7949",
   "metadata": {},
   "source": [
    "Basic access to Wikipedia page content.\n",
    "\n",
    "See also [this](https://pdf.co/blog/python-wikipedia-module-for-scraping-wikipedia-articles) page for other useful code snippets."
   ]
  },
  {
   "cell_type": "code",
   "execution_count": null,
   "id": "735486b4-e1e8-458a-94f0-1e675467010c",
   "metadata": {},
   "outputs": [],
   "source": [
    "# install Python API wrapper\n",
    "! pip install wikipedia"
   ]
  },
  {
   "cell_type": "code",
   "execution_count": 105,
   "id": "507c19fc-f290-4cba-8567-a99ea3a9b81b",
   "metadata": {},
   "outputs": [],
   "source": [
    "# import Python API wrapper\n",
    "import wikipedia"
   ]
  },
  {
   "cell_type": "code",
   "execution_count": 106,
   "id": "a27dac83-88ed-4741-ba00-e445d0455649",
   "metadata": {},
   "outputs": [
    {
     "name": "stdout",
     "output_type": "stream",
     "text": [
      "['Computational social science', 'Computational science', 'Computational sociology', 'Theoretical computer science', 'Computational physics', 'Social computing', 'Computer science', 'Computational linguistics', 'Outline of computer science', 'Social science']\n"
     ]
    }
   ],
   "source": [
    "# search for page suggestions given a search term\n",
    "search_term = \"computational social science\"\n",
    "print(wikipedia.search(search_term))"
   ]
  },
  {
   "cell_type": "code",
   "execution_count": 107,
   "id": "18348a03-af5d-4ab9-a53e-fe48bff867e6",
   "metadata": {},
   "outputs": [
    {
     "name": "stdout",
     "output_type": "stream",
     "text": [
      "computational social science\n"
     ]
    }
   ],
   "source": [
    "# suggest pages given a search term\n",
    "search_term = \"computational social scince\"\n",
    "print(wikipedia.suggest(search_term))"
   ]
  },
  {
   "cell_type": "code",
   "execution_count": 108,
   "id": "d867af38-83b3-4673-80d4-f21500160fb3",
   "metadata": {},
   "outputs": [
    {
     "name": "stdout",
     "output_type": "stream",
     "text": [
      "Computational social science is the academic sub-discipline concerned with computational approaches to the social sciences. This means that computers are used to model, simulate, and analyze social phenomena. While large scale computational methods have been applied to natural sciences for decades, interest in applying data science to social sciences has grown significantly in the last decade. Fields include computational economics, computational sociology, cliodynamics, culturomics,  and the automated analysis of contents, in social and traditional media. It focuses on investigating social and behavioral relationships and interactions through social simulation, modeling, network analysis, and media analysis.\n",
      "\n",
      "\n"
     ]
    }
   ],
   "source": [
    "# get the summary of a page given it's name\n",
    "page_name = \"computational social science\"\n",
    "print(wikipedia.summary(page_name))"
   ]
  },
  {
   "cell_type": "code",
   "execution_count": 109,
   "id": "826aac78-5708-43b7-b26a-b225d50a1010",
   "metadata": {},
   "outputs": [
    {
     "name": "stdout",
     "output_type": "stream",
     "text": [
      "Bibcode (identifier)\n",
      "Big data\n",
      "Cliodynamics\n",
      "Computational cognition\n",
      "Computational economics\n",
      "Computational politics\n",
      "Computational sociology\n",
      "Computer simulation\n",
      "Culturomics\n",
      "Digital footprint\n",
      "Digital humanities\n",
      "Digital sociology\n",
      "Doi (identifier)\n",
      "Empirical research\n",
      "European Social Simulation Association\n",
      "Evolution Institute\n",
      "Google Books\n",
      "Google Ngram Viewer\n",
      "Human Relations Area Files\n",
      "ISBN (identifier)\n",
      "ISSN (identifier)\n",
      "Online content analysis\n",
      "PMC (identifier)\n",
      "PMID (identifier)\n",
      "Peter N. Peregrine\n",
      "Predictive analytics\n",
      "Quantitative social research\n",
      "S2CID (identifier)\n",
      "Scientific method\n",
      "Scientific theory\n",
      "Seshat (project)\n",
      "Social informatics\n",
      "Social network analysis\n",
      "Social science\n",
      "Social simulation\n",
      "Social web\n",
      "University of Pittsburgh\n",
      "Wayback Machine\n",
      "Wiley Interdisciplinary Reviews: Computational Statistics\n"
     ]
    }
   ],
   "source": [
    "# retrieve a page object and iterate through all references on the page\n",
    "page_name = \"computational social science\"\n",
    "page = wikipedia.page(page_name)\n",
    "references = page.links\n",
    " \n",
    "for reference in references:\n",
    "    print(reference)"
   ]
  },
  {
   "cell_type": "markdown",
   "id": "9f2e416f-88e2-454f-b614-8df2dbe0d77e",
   "metadata": {},
   "source": [
    "## Access for more serious scraping jobs"
   ]
  },
  {
   "cell_type": "markdown",
   "id": "78f67d13-0772-41d5-b431-770ca461f86c",
   "metadata": {},
   "source": [
    "See also the [documentation](https://github.com/wikimedia/pywikibot) of the Python wrapper."
   ]
  },
  {
   "cell_type": "code",
   "execution_count": null,
   "id": "71edb2f1-d11b-4e41-a431-df03bea5c398",
   "metadata": {},
   "outputs": [],
   "source": [
    "# install Python wrapper for the API\n",
    "! pip install pywikibot"
   ]
  },
  {
   "cell_type": "code",
   "execution_count": null,
   "id": "a17d35a4-76eb-4f3a-972a-13ae2ac7083f",
   "metadata": {},
   "outputs": [],
   "source": [
    "# install MediaWiki markup parser (used under the hood to parse content)\n",
    "! pip install mwparserfromhell"
   ]
  },
  {
   "cell_type": "code",
   "execution_count": 110,
   "id": "8d919ce8-82f9-4c1e-9f3d-2c85ffcc0223",
   "metadata": {},
   "outputs": [],
   "source": [
    "# import Python wrapper\n",
    "import pywikibot"
   ]
  },
  {
   "cell_type": "code",
   "execution_count": 111,
   "id": "d11fcbf9-e8da-406e-a554-34504e1dea6b",
   "metadata": {},
   "outputs": [],
   "source": [
    "# get all revisions for a given page and site\n",
    "site = \"wikipedia\"\n",
    "page_name = \"computational social science\"\n",
    "\n",
    "# establish access to the site\n",
    "site = pywikibot.Site(\"en\", site) \n",
    "\n",
    "# establish access to the page on the site\n",
    "page = pywikibot.Page(site, page_name) \n",
    "\n",
    "# create a generator object that iterates through all revisions of the given page\n",
    "revisions = page.revisions(content=True) \n",
    "revs = [rev for rev in revisions] # get all revisions from the generator object"
   ]
  },
  {
   "cell_type": "code",
   "execution_count": 155,
   "id": "05dc459a-9c6b-4def-827e-8d619b2151b5",
   "metadata": {},
   "outputs": [
    {
     "data": {
      "text/plain": [
       "ValuesView(Revision({'revid': 565929711, 'parentid': 0, 'user': 'DaveDixon', 'userid': 1118943, 'timestamp': Timestamp(2013, 7, 26, 19, 52, 43), 'size': 217, 'sha1': '57bbeda8a90ee83c3bb64f5dcd32a06121fe0d8a', 'roles': ['main'], 'slots': {'main': {'contentmodel': 'wikitext', 'contentformat': 'text/x-wiki', '*': \"'''Computational Social Science''' refers to the academic sub-disciplines concerned with computational approaches to the [[Social Science]]s. Fields include [[Computational Economics]] and [[Computational Sociology]].\"}}, 'comment': 'Created the page', 'parsedcomment': 'Created the page', 'tags': [], 'anon': False, 'minor': False, 'userhidden': False, 'commenthidden': False, 'text': \"'''Computational Social Science''' refers to the academic sub-disciplines concerned with computational approaches to the [[Social Science]]s. Fields include [[Computational Economics]] and [[Computational Sociology]].\", 'contentmodel': 'wikitext'}))"
      ]
     },
     "execution_count": 155,
     "metadata": {},
     "output_type": "execute_result"
    }
   ],
   "source": [
    "# inspect the earliest revision\n",
    "revs[-1].values()"
   ]
  },
  {
   "cell_type": "code",
   "execution_count": 156,
   "id": "e9c21f70-e3a3-4e2a-8445-5de75dd5cb16",
   "metadata": {},
   "outputs": [
    {
     "data": {
      "text/html": [
       "<div>\n",
       "<style scoped>\n",
       "    .dataframe tbody tr th:only-of-type {\n",
       "        vertical-align: middle;\n",
       "    }\n",
       "\n",
       "    .dataframe tbody tr th {\n",
       "        vertical-align: top;\n",
       "    }\n",
       "\n",
       "    .dataframe thead th {\n",
       "        text-align: right;\n",
       "    }\n",
       "</style>\n",
       "<table border=\"1\" class=\"dataframe\">\n",
       "  <thead>\n",
       "    <tr style=\"text-align: right;\">\n",
       "      <th></th>\n",
       "      <th>revid</th>\n",
       "      <th>parentid</th>\n",
       "      <th>user</th>\n",
       "      <th>userid</th>\n",
       "      <th>timestamp</th>\n",
       "      <th>size</th>\n",
       "      <th>comment</th>\n",
       "      <th>revision</th>\n",
       "    </tr>\n",
       "  </thead>\n",
       "  <tbody>\n",
       "    <tr>\n",
       "      <th>96</th>\n",
       "      <td>565929711</td>\n",
       "      <td>0</td>\n",
       "      <td>DaveDixon</td>\n",
       "      <td>1118943</td>\n",
       "      <td>2013-07-26 19:52:43</td>\n",
       "      <td>217</td>\n",
       "      <td>Created the page</td>\n",
       "      <td>'''Computational Social Science''' refers to t...</td>\n",
       "    </tr>\n",
       "    <tr>\n",
       "      <th>95</th>\n",
       "      <td>565930062</td>\n",
       "      <td>565929711</td>\n",
       "      <td>DaveDixon</td>\n",
       "      <td>1118943</td>\n",
       "      <td>2013-07-26 19:55:43</td>\n",
       "      <td>280</td>\n",
       "      <td>Changed case</td>\n",
       "      <td>'''Computational social science''' refers to t...</td>\n",
       "    </tr>\n",
       "  </tbody>\n",
       "</table>\n",
       "</div>"
      ],
      "text/plain": [
       "        revid   parentid       user   userid           timestamp  size  \\\n",
       "96  565929711          0  DaveDixon  1118943 2013-07-26 19:52:43   217   \n",
       "95  565930062  565929711  DaveDixon  1118943 2013-07-26 19:55:43   280   \n",
       "\n",
       "             comment                                           revision  \n",
       "96  Created the page  '''Computational Social Science''' refers to t...  \n",
       "95      Changed case  '''Computational social science''' refers to t...  "
      ]
     },
     "execution_count": 156,
     "metadata": {},
     "output_type": "execute_result"
    }
   ],
   "source": [
    "# parse the JSON into a Pandas DataFrame\n",
    "\n",
    "# fields of interest\n",
    "fields = [\"revid\", \"parentid\", \"user\", \"userid\", \"timestamp\", \"size\", \"comment\"]\n",
    "df = pd.DataFrame({field:[rev[field] for rev in revs] for field in fields})\n",
    "\n",
    "# extract the revision text from the nested JSON\n",
    "revtext = []\n",
    "for rev in revs:\n",
    "    try:\n",
    "        revtext.append(rev[\"slots\"][\"main\"][\"*\"])\n",
    "    except KeyError:\n",
    "        revtext.append(np.nan)\n",
    "df[\"revision\"] = revtext\n",
    "\n",
    "# convert the datetime string to a datetime object, sort by earliest entry first\n",
    "df[\"timestamp\"] = pd.to_datetime(df[\"timestamp\"])\n",
    "df = df.sort_values(by=\"timestamp\", ascending=True)\n",
    "\n",
    "df.head(2)"
   ]
  },
  {
   "cell_type": "markdown",
   "id": "5479904a-e05f-4488-a8e2-5889ee38f0be",
   "metadata": {},
   "source": [
    "# Steam ratings & comments"
   ]
  },
  {
   "cell_type": "markdown",
   "id": "0a36fce9-4ef3-4645-9d2c-da75badf88fb",
   "metadata": {},
   "source": [
    "**Useful links**\n",
    "* API [documentation](https://partner.steamgames.com/doc/store/getreviews)\n",
    "* Wrapper [documentation](https://pypi.org/project/steamreviews/) of the `steamreviews` library."
   ]
  },
  {
   "cell_type": "code",
   "execution_count": null,
   "id": "597b02b7-c272-48c5-97f6-13f3918c8965",
   "metadata": {},
   "outputs": [],
   "source": [
    "# install the Python wrapper for the Steam API\n",
    "! pip install steamreviews"
   ]
  },
  {
   "cell_type": "code",
   "execution_count": 157,
   "id": "cd0cea27-8d64-4658-97e5-5f3d9abf25dd",
   "metadata": {},
   "outputs": [],
   "source": [
    "# import the Python wrapperand\n",
    "import steamreviews"
   ]
  },
  {
   "cell_type": "code",
   "execution_count": 183,
   "id": "3dbc1f38-8e95-423e-83a2-a13e840df853",
   "metadata": {},
   "outputs": [
    {
     "name": "stdout",
     "output_type": "stream",
     "text": [
      "[appID = 271590] expected #reviews = 302764\n"
     ]
    }
   ],
   "source": [
    "request_params = dict()\n",
    "# Reference: https://partner.steamgames.com/doc/store/localization#supported_languages\n",
    "request_params['language'] = 'english'\n",
    "# Reference: https://partner.steamgames.com/doc/store/getreviews\n",
    "request_params['review_type'] = 'positive'\n",
    "request_params['purchase_type'] = 'steam'\n",
    "# focus on reviews which were published during the past four weeks\n",
    "request_params['day_range'] = '28'  \n",
    "\n",
    "# search for the game you are interested in and get the app ID from the URL\n",
    "# in the steam store. For example \"GTA V\":\n",
    "# https://store.steampowered.com/agecheck/app/271590/\n",
    "app_id = 271590\n",
    "\n",
    "# get reviews for the given game\n",
    "review_dict, query_count = steamreviews.download_reviews_for_app_id(\n",
    "    app_id,\n",
    "    chosen_request_params=request_params)"
   ]
  },
  {
   "cell_type": "code",
   "execution_count": null,
   "id": "616a315c-a09d-4f0a-9323-35c23bce5427",
   "metadata": {},
   "outputs": [],
   "source": [
    "# inspect reviews\n",
    "review_dict[\"reviews\"]"
   ]
  },
  {
   "cell_type": "code",
   "execution_count": 185,
   "id": "9ef51d6e-d77a-4057-822a-79a57089a093",
   "metadata": {},
   "outputs": [
    {
     "data": {
      "text/html": [
       "<div>\n",
       "<style scoped>\n",
       "    .dataframe tbody tr th:only-of-type {\n",
       "        vertical-align: middle;\n",
       "    }\n",
       "\n",
       "    .dataframe tbody tr th {\n",
       "        vertical-align: top;\n",
       "    }\n",
       "\n",
       "    .dataframe thead th {\n",
       "        text-align: right;\n",
       "    }\n",
       "</style>\n",
       "<table border=\"1\" class=\"dataframe\">\n",
       "  <thead>\n",
       "    <tr style=\"text-align: right;\">\n",
       "      <th></th>\n",
       "      <th>id</th>\n",
       "      <th>author.steamid</th>\n",
       "      <th>author.num_games_owned</th>\n",
       "      <th>author.num_reviews</th>\n",
       "      <th>author.playtime_forever</th>\n",
       "      <th>language</th>\n",
       "      <th>review</th>\n",
       "      <th>votes_up</th>\n",
       "      <th>votes_funny</th>\n",
       "      <th>comment_count</th>\n",
       "    </tr>\n",
       "  </thead>\n",
       "  <tbody>\n",
       "    <tr>\n",
       "      <th>0</th>\n",
       "      <td>118467684</td>\n",
       "      <td>76561199199962489</td>\n",
       "      <td>2</td>\n",
       "      <td>1</td>\n",
       "      <td>187</td>\n",
       "      <td>english</td>\n",
       "      <td>Yes but get a good pc</td>\n",
       "      <td>0</td>\n",
       "      <td>0</td>\n",
       "      <td>0</td>\n",
       "    </tr>\n",
       "    <tr>\n",
       "      <th>1</th>\n",
       "      <td>118467472</td>\n",
       "      <td>76561199229476445</td>\n",
       "      <td>22</td>\n",
       "      <td>3</td>\n",
       "      <td>1112</td>\n",
       "      <td>english</td>\n",
       "      <td>noice</td>\n",
       "      <td>0</td>\n",
       "      <td>0</td>\n",
       "      <td>0</td>\n",
       "    </tr>\n",
       "  </tbody>\n",
       "</table>\n",
       "</div>"
      ],
      "text/plain": [
       "          id     author.steamid  author.num_games_owned  author.num_reviews  \\\n",
       "0  118467684  76561199199962489                       2                   1   \n",
       "1  118467472  76561199229476445                      22                   3   \n",
       "\n",
       "   author.playtime_forever language                 review  votes_up  \\\n",
       "0                      187  english  Yes but get a good pc         0   \n",
       "1                     1112  english                  noice         0   \n",
       "\n",
       "   votes_funny  comment_count  \n",
       "0            0              0  \n",
       "1            0              0  "
      ]
     },
     "execution_count": 185,
     "metadata": {},
     "output_type": "execute_result"
    }
   ],
   "source": [
    "# convert the (nested) JSON entries to a pandas DataFrame\n",
    "df = pd.DataFrame()\n",
    "df[\"id\"] = list(review_dict[\"reviews\"].keys())\n",
    "\n",
    "author_fields = [\"steamid\", \"num_games_owned\", \"num_reviews\", \"playtime_forever\"]\n",
    "for author_field in author_fields:\n",
    "    df[f\"author.{author_field}\"] = \\\n",
    "        [review_dict[\"reviews\"][ID][\"author\"][author_field] for ID in df[\"id\"]]\n",
    "    \n",
    "review_fields = [\"language\", \"review\", \"votes_up\", \"votes_funny\", \"comment_count\"]\n",
    "for review_field in review_fields:\n",
    "    df[review_field] = [review_dict[\"reviews\"][ID][review_field] for ID in df[\"id\"]]\n",
    "    \n",
    "df.head(2)"
   ]
  },
  {
   "cell_type": "code",
   "execution_count": 186,
   "id": "463dd3ba-bbf5-4376-8f54-dbb9066c067a",
   "metadata": {},
   "outputs": [
    {
     "data": {
      "text/plain": [
       "{'num_reviews': 100,\n",
       " 'review_score': 6,\n",
       " 'review_score_desc': 'Mostly Positive',\n",
       " 'total_positive': 302764,\n",
       " 'total_negative': 76285,\n",
       " 'total_reviews': 302764}"
      ]
     },
     "execution_count": 186,
     "metadata": {},
     "output_type": "execute_result"
    }
   ],
   "source": [
    "# inspect query summary\n",
    "review_dict[\"query_summary\"]"
   ]
  },
  {
   "cell_type": "markdown",
   "id": "04557574-75a1-4117-ba1f-3cf9d978a587",
   "metadata": {},
   "source": [
    "Note that we only got 100 out of the promised 10k reviews. This is because the API returns a maximum of 100 reviews in one batch. To get the rest of the reviews, we need to iterate over batches using the \"cursor\":"
   ]
  },
  {
   "cell_type": "code",
   "execution_count": 187,
   "id": "43921965-771e-4ae9-b7a5-d8b074b562d3",
   "metadata": {},
   "outputs": [
    {
     "data": {
      "text/plain": [
       "{'AoJw5pL2pIEDfqCnvQM=': 'Fri Jul  8 21:30:15 2022'}"
      ]
     },
     "execution_count": 187,
     "metadata": {},
     "output_type": "execute_result"
    }
   ],
   "source": [
    "# inspect query summary\n",
    "review_dict[\"cursors\"]"
   ]
  },
  {
   "cell_type": "code",
   "execution_count": 195,
   "id": "0bb62b6b-7c0a-49dd-baf9-959ab02c658c",
   "metadata": {},
   "outputs": [
    {
     "name": "stdout",
     "output_type": "stream",
     "text": [
      "AoJw5pL2pIEDfqCnvQM=\n"
     ]
    }
   ],
   "source": [
    "# create a DataFrame with all current cursors to select the latest one\n",
    "\n",
    "# parse cursors into a DataFrame\n",
    "cursors = []\n",
    "dates = []\n",
    "for key, val in review_dict[\"cursors\"].items():\n",
    "    cursors.append(key)\n",
    "    dates.append(val)\n",
    "cursors = pd.DataFrame({\"cursor\":cursors, \"date\":dates})\n",
    "\n",
    "# parse strings into datetime objects and sort by newest first\n",
    "cursors[\"date\"] = pd.to_datetime(cursors[\"date\"])\n",
    "cursors = cursors.sort_values(by=\"date\", ascending=False)\n",
    "\n",
    "# print most recent cursor\n",
    "latest_cursor = cursors.iloc[0][\"cursor\"]\n",
    "print(latest_cursor)"
   ]
  },
  {
   "cell_type": "code",
   "execution_count": 196,
   "id": "48a67525-c842-45fc-ba1e-e76fd01f79f2",
   "metadata": {},
   "outputs": [],
   "source": [
    "# get the next batch of reviews\n",
    "review_dict, query_count = steamreviews.download_reviews_for_app_id(\n",
    "    app_id,\n",
    "    chosen_request_params=request_params,\n",
    "    start_cursor=latest_cursor\n",
    ")"
   ]
  },
  {
   "cell_type": "code",
   "execution_count": 197,
   "id": "5b37aa31-0549-4c75-b2ac-249f838e2d3d",
   "metadata": {},
   "outputs": [
    {
     "data": {
      "text/plain": [
       "{'AoJw5pL2pIEDfqCnvQM=': 'Fri Jul  8 21:30:15 2022',\n",
       " 'AoJ4xPCRo4EDdrOYvQM=': 'Fri Jul  8 21:33:12 2022'}"
      ]
     },
     "execution_count": 197,
     "metadata": {},
     "output_type": "execute_result"
    }
   ],
   "source": [
    "# now we have two cursors and a total of 200 reviews\n",
    "review_dict[\"cursors\"]"
   ]
  },
  {
   "cell_type": "markdown",
   "id": "3aebf6dd-4538-425f-8b2f-a89660fac9d7",
   "metadata": {},
   "source": [
    "# OpenStreetMaps"
   ]
  },
  {
   "cell_type": "markdown",
   "id": "0fe9609c-f00b-4d8b-b6a1-36164700c34f",
   "metadata": {},
   "source": [
    "**Useful links**\n",
    "* API [documentation](https://wiki.openstreetmap.org/wiki/API)\n",
    "* Helpful [code snippets](https://wiki.openstreetmap.org/wiki/OSMPythonTools)."
   ]
  },
  {
   "cell_type": "markdown",
   "id": "fb0e4b1f-ec46-464b-9496-292263a0a86c",
   "metadata": {},
   "source": [
    "Answer the question of whether Graz or Salzburg has more trees."
   ]
  },
  {
   "cell_type": "code",
   "execution_count": null,
   "id": "7237a153-e53b-4eab-85d6-1a9d98c2bfe6",
   "metadata": {},
   "outputs": [],
   "source": [
    "# install the Python wrapper\n",
    "! pip install OSMPythonTools"
   ]
  },
  {
   "cell_type": "code",
   "execution_count": 1,
   "id": "d2a56907-a8a7-4e5b-9c42-492f6cae1d43",
   "metadata": {},
   "outputs": [],
   "source": [
    "# get the area IDs for Graz and Salzburg using the nominatim API endpoint\n",
    "\n",
    "# import and initialize the nominatim endpoint\n",
    "from OSMPythonTools.nominatim import Nominatim\n",
    "nominatim = Nominatim()\n",
    "\n",
    "# get the area IDs\n",
    "areaId_graz = nominatim.query('Graz, Austria').areaId()\n",
    "areaId_salzburg = nominatim.query('Salzburg, Austria').areaId()"
   ]
  },
  {
   "cell_type": "code",
   "execution_count": 2,
   "id": "ec552e79-25a4-436d-879d-efd3625b6757",
   "metadata": {},
   "outputs": [],
   "source": [
    "# get the tree counts for Graz and Salzburg using the overpass API endpoint\n",
    "\n",
    "# import and initialize the overpass endpoint\n",
    "from OSMPythonTools.overpass import Overpass\n",
    "overpass = Overpass()\n",
    "\n",
    "# build a query for Graz\n",
    "from OSMPythonTools.overpass import overpassQueryBuilder\n",
    "query_graz = overpassQueryBuilder(\n",
    "    area=areaId_graz,\n",
    "    elementType='node',\n",
    "    selector='\"natural\"=\"tree\"',\n",
    "    out='count'\n",
    ")\n",
    "\n",
    "# query the API \n",
    "result_graz = overpass.query(query_graz)"
   ]
  },
  {
   "cell_type": "code",
   "execution_count": 3,
   "id": "c243457f-4747-4775-af2f-55b17aacc052",
   "metadata": {},
   "outputs": [],
   "source": [
    "# build a query for Salzburg\n",
    "query_salzburg = overpassQueryBuilder(\n",
    "    area=areaId_salzburg,\n",
    "    elementType='node',\n",
    "    selector='\"natural\"=\"tree\"',\n",
    "    out='count'\n",
    ")\n",
    "\n",
    "# query the API\n",
    "result_salzburg = overpass.query(query_salzburg)"
   ]
  },
  {
   "cell_type": "code",
   "execution_count": 6,
   "id": "561695cb-7a05-4c54-862f-7804d718d8d7",
   "metadata": {},
   "outputs": [
    {
     "name": "stdout",
     "output_type": "stream",
     "text": [
      "Trees in Graz: 8380\n",
      "Trees in Salzburg: 3937\n"
     ]
    }
   ],
   "source": [
    "# count the number of trees for both cities given the query result\n",
    "count_graz = result_graz.countElements()\n",
    "count_salzburg = result_salzburg.countElements()\n",
    "\n",
    "print(f\"Trees in Graz: {count_graz}\")\n",
    "print(f\"Trees in Salzburg: {count_salzburg}\")"
   ]
  },
  {
   "cell_type": "markdown",
   "id": "ee4a426c-4d49-417c-9c98-04860743b70a",
   "metadata": {},
   "source": [
    "# Crossref"
   ]
  },
  {
   "cell_type": "markdown",
   "id": "24f0e1ec-728d-4b9c-bee3-5e137559ac5a",
   "metadata": {},
   "source": [
    "**Useful links**\n",
    "* API [documentation](https://www.crossref.org/documentation/retrieve-metadata/rest-api/)\n",
    "* Wrapper [documentation](https://pypi.org/project/crossrefapi/1.0.3/)\n",
    "* Recent article: [Crossref as a source of open bibliographic metadata](https://osf.io/preprints/metaarxiv/smxe5/)"
   ]
  },
  {
   "cell_type": "code",
   "execution_count": null,
   "id": "50c2a6ad-9d2e-4982-a989-bbfa8fee986f",
   "metadata": {},
   "outputs": [],
   "source": [
    "# install the wrapper\n",
    "! pip install crossrefapi"
   ]
  },
  {
   "cell_type": "code",
   "execution_count": 13,
   "id": "32b7c1a6-0c7c-4c64-9248-6edb6802cfd4",
   "metadata": {},
   "outputs": [],
   "source": [
    "# import the wrapper\n",
    "from crossref.restful import Works"
   ]
  },
  {
   "cell_type": "code",
   "execution_count": 14,
   "id": "ee57230a-1c34-4f71-9aa1-9d6d19d08bd8",
   "metadata": {},
   "outputs": [],
   "source": [
    "# set up a client\n",
    "works_client = Works()\n",
    "# querying the client returns a generator\n",
    "works = works_client.query('zika')"
   ]
  },
  {
   "cell_type": "code",
   "execution_count": 15,
   "id": "072c3425-0099-4887-b520-04c5aec4ee59",
   "metadata": {},
   "outputs": [],
   "source": [
    "# iterate over the generator to store a list of works-items\n",
    "works_list = []\n",
    "for item in works:\n",
    "    works_list.append(item)"
   ]
  },
  {
   "cell_type": "code",
   "execution_count": 17,
   "id": "a63749d6-2289-4d4f-a111-d09281c0282f",
   "metadata": {},
   "outputs": [
    {
     "data": {
      "text/plain": [
       "{'indexed': {'date-parts': [[2022, 3, 30]],\n",
       "  'date-time': '2022-03-30T01:40:28Z',\n",
       "  'timestamp': 1648604428644},\n",
       " 'reference-count': 0,\n",
       " 'publisher': 'American Public Health Association',\n",
       " 'content-domain': {'domain': [], 'crossmark-restriction': False},\n",
       " 'published-print': {'date-parts': [[2020, 1]]},\n",
       " 'DOI': '10.2105/ccdmc.3087.144',\n",
       " 'type': 'book-chapter',\n",
       " 'created': {'date-parts': [[2020, 8, 21]],\n",
       "  'date-time': '2020-08-21T13:34:00Z',\n",
       "  'timestamp': 1598016840000},\n",
       " 'source': 'Crossref',\n",
       " 'is-referenced-by-count': 1,\n",
       " 'title': ['Zika'],\n",
       " 'prefix': '10.2105',\n",
       " 'author': [{'given': 'L.',\n",
       "   'family': 'Yee-Sin',\n",
       "   'sequence': 'first',\n",
       "   'affiliation': []}],\n",
       " 'member': '844',\n",
       " 'published-online': {'date-parts': [[2020, 8, 21]]},\n",
       " 'container-title': ['Control of Communicable Diseases Clinical Practice'],\n",
       " 'deposited': {'date-parts': [[2020, 8, 21]],\n",
       "  'date-time': '2020-08-21T13:34:27Z',\n",
       "  'timestamp': 1598016867000},\n",
       " 'score': 16.392893,\n",
       " 'resource': {'primary': {'URL': 'https://ajph.aphapublications.org/doi/full/10.2105/CCDMC.3087.144'}},\n",
       " 'subtitle': ['(Zika virus disease, Zika virus infection, Zika fever)'],\n",
       " 'issued': {'date-parts': [[2020, 1]]},\n",
       " 'references-count': 0,\n",
       " 'alternative-id': ['10.2105/CCDMC.3087.144', '10.2105/CCDMC.3087'],\n",
       " 'URL': 'http://dx.doi.org/10.2105/ccdmc.3087.144',\n",
       " 'published': {'date-parts': [[2020, 1]]}}"
      ]
     },
     "execution_count": 17,
     "metadata": {},
     "output_type": "execute_result"
    }
   ],
   "source": [
    "# inspect a work\n",
    "works_list[0]"
   ]
  },
  {
   "cell_type": "code",
   "execution_count": 19,
   "id": "4b1683b6-86a5-4d3e-864b-5433fbef88ee",
   "metadata": {},
   "outputs": [
    {
     "data": {
      "text/html": [
       "<div>\n",
       "<style scoped>\n",
       "    .dataframe tbody tr th:only-of-type {\n",
       "        vertical-align: middle;\n",
       "    }\n",
       "\n",
       "    .dataframe tbody tr th {\n",
       "        vertical-align: top;\n",
       "    }\n",
       "\n",
       "    .dataframe thead th {\n",
       "        text-align: right;\n",
       "    }\n",
       "</style>\n",
       "<table border=\"1\" class=\"dataframe\">\n",
       "  <thead>\n",
       "    <tr style=\"text-align: right;\">\n",
       "      <th></th>\n",
       "      <th>reference-count</th>\n",
       "      <th>publisher</th>\n",
       "      <th>DOI</th>\n",
       "      <th>type</th>\n",
       "      <th>source</th>\n",
       "      <th>is-referenced-by-count</th>\n",
       "      <th>title</th>\n",
       "      <th>prefix</th>\n",
       "      <th>author</th>\n",
       "      <th>member</th>\n",
       "      <th>...</th>\n",
       "      <th>relation.is-reply-to</th>\n",
       "      <th>event.sponsor</th>\n",
       "      <th>resource.secondary</th>\n",
       "      <th>event.number</th>\n",
       "      <th>relation.is-identical-to</th>\n",
       "      <th>relation.has-reply</th>\n",
       "      <th>relation.is-supplemented-by</th>\n",
       "      <th>chair</th>\n",
       "      <th>relation.has-comment</th>\n",
       "      <th>clinical-trial-number</th>\n",
       "    </tr>\n",
       "  </thead>\n",
       "  <tbody>\n",
       "    <tr>\n",
       "      <th>0</th>\n",
       "      <td>0.0</td>\n",
       "      <td>American Public Health Association</td>\n",
       "      <td>10.2105/ccdmc.3087.144</td>\n",
       "      <td>book-chapter</td>\n",
       "      <td>Crossref</td>\n",
       "      <td>1.0</td>\n",
       "      <td>[Zika]</td>\n",
       "      <td>10.2105</td>\n",
       "      <td>[{'given': 'L.', 'family': 'Yee-Sin', 'sequenc...</td>\n",
       "      <td>844</td>\n",
       "      <td>...</td>\n",
       "      <td>NaN</td>\n",
       "      <td>NaN</td>\n",
       "      <td>NaN</td>\n",
       "      <td>NaN</td>\n",
       "      <td>NaN</td>\n",
       "      <td>NaN</td>\n",
       "      <td>NaN</td>\n",
       "      <td>NaN</td>\n",
       "      <td>NaN</td>\n",
       "      <td>NaN</td>\n",
       "    </tr>\n",
       "    <tr>\n",
       "      <th>1</th>\n",
       "      <td>1.0</td>\n",
       "      <td>American Public Health Association</td>\n",
       "      <td>10.2105/ccdml.2868.145</td>\n",
       "      <td>book-chapter</td>\n",
       "      <td>Crossref</td>\n",
       "      <td>2.0</td>\n",
       "      <td>[Zika]</td>\n",
       "      <td>10.2105</td>\n",
       "      <td>[{'given': 'D. W.', 'family': 'Brown', 'sequen...</td>\n",
       "      <td>844</td>\n",
       "      <td>...</td>\n",
       "      <td>NaN</td>\n",
       "      <td>NaN</td>\n",
       "      <td>NaN</td>\n",
       "      <td>NaN</td>\n",
       "      <td>NaN</td>\n",
       "      <td>NaN</td>\n",
       "      <td>NaN</td>\n",
       "      <td>NaN</td>\n",
       "      <td>NaN</td>\n",
       "      <td>NaN</td>\n",
       "    </tr>\n",
       "  </tbody>\n",
       "</table>\n",
       "<p>2 rows × 105 columns</p>\n",
       "</div>"
      ],
      "text/plain": [
       "   reference-count                           publisher  \\\n",
       "0              0.0  American Public Health Association   \n",
       "1              1.0  American Public Health Association   \n",
       "\n",
       "                      DOI          type    source  is-referenced-by-count  \\\n",
       "0  10.2105/ccdmc.3087.144  book-chapter  Crossref                     1.0   \n",
       "1  10.2105/ccdml.2868.145  book-chapter  Crossref                     2.0   \n",
       "\n",
       "    title   prefix                                             author member  \\\n",
       "0  [Zika]  10.2105  [{'given': 'L.', 'family': 'Yee-Sin', 'sequenc...    844   \n",
       "1  [Zika]  10.2105  [{'given': 'D. W.', 'family': 'Brown', 'sequen...    844   \n",
       "\n",
       "   ... relation.is-reply-to  event.sponsor resource.secondary  event.number  \\\n",
       "0  ...                  NaN            NaN                NaN           NaN   \n",
       "1  ...                  NaN            NaN                NaN           NaN   \n",
       "\n",
       "  relation.is-identical-to relation.has-reply relation.is-supplemented-by  \\\n",
       "0                      NaN                NaN                         NaN   \n",
       "1                      NaN                NaN                         NaN   \n",
       "\n",
       "  chair  relation.has-comment clinical-trial-number  \n",
       "0   NaN                   NaN                   NaN  \n",
       "1   NaN                   NaN                   NaN  \n",
       "\n",
       "[2 rows x 105 columns]"
      ]
     },
     "execution_count": 19,
     "metadata": {},
     "output_type": "execute_result"
    }
   ],
   "source": [
    "# convert to a pandas DataFrame\n",
    "df = pd.json_normalize(works_list)\n",
    "df.head(2)"
   ]
  },
  {
   "cell_type": "markdown",
   "id": "9e02fd0c-b5f6-49db-8c8c-b9f1dc84f5ea",
   "metadata": {},
   "source": [
    "# OpenCitations"
   ]
  },
  {
   "cell_type": "markdown",
   "id": "1186ba6a-6f79-4927-9c01-97a1ea849c0d",
   "metadata": {},
   "source": [
    "**Useful links**\n",
    "* API [Documentation](https://opencitations.net/api/v1)  \n",
    "* Wrapper [Documentation](https://pypi.org/project/opencitingpy/)"
   ]
  },
  {
   "cell_type": "code",
   "execution_count": null,
   "id": "bcd54ea9-7b4f-47c8-831f-b7087bbeaee7",
   "metadata": {},
   "outputs": [],
   "source": [
    "# install the Pyhton API wrapper\n",
    "! pip install opencitingpy"
   ]
  },
  {
   "cell_type": "code",
   "execution_count": null,
   "id": "28fec81c-faa6-4100-b8b5-80f57819a5f8",
   "metadata": {},
   "outputs": [],
   "source": [
    "# import the API wrapper\n",
    "import opencitingpy"
   ]
  },
  {
   "cell_type": "code",
   "execution_count": 199,
   "id": "cd13e1c1-a840-4c67-bd80-137e2f0a0c21",
   "metadata": {},
   "outputs": [],
   "source": [
    "# initialize the API client\n",
    "client = opencitingpy.client.Client()\n",
    "\n",
    "# list of DOIs of articles we are interested in\n",
    "dois = ['10.1038/s41586-021-03659-0',\n",
    "        '10.1038/s41586-021-03660-7',\n",
    "        '10.1038/s41586-021-03666-1',\n",
    "        '10.1038/s41586-021-03694-x',\n",
    "        '10.1038/s41586-021-03649-2'\n",
    "       ]\n",
    "\n",
    "# get metadata of a list of articles, including title, publication year, \n",
    "# number of citing and cited documents, etc.\n",
    "metadata = client.get_metadata(dois)"
   ]
  },
  {
   "cell_type": "code",
   "execution_count": null,
   "id": "5896e000-71ff-4d6d-b1fa-c04912ad9655",
   "metadata": {},
   "outputs": [],
   "source": [
    "# inspect the results\n",
    "for entry in metadata:\n",
    "    print(f\"author: {entry.title}\")\n",
    "    print(f\"journal: {entry.source_title}\")\n",
    "    print(f\"citations: {entry.citation_count}\")\n",
    "    print(f\"open access link: {entry.oa_link}\")\n",
    "    print()"
   ]
  },
  {
   "cell_type": "markdown",
   "id": "bf4d0d94-0819-4629-92e0-06ba4b9cf138",
   "metadata": {},
   "source": [
    "# Spotify"
   ]
  },
  {
   "cell_type": "markdown",
   "id": "f3c30a30-dbd6-4430-9a39-c2db8e999a84",
   "metadata": {},
   "source": [
    "To get access credentials, create a Spotify account and go to the developer [dashboard](https://developer.spotify.com/dashboard). Create an app and copy the `client id`and `client secrret`below."
   ]
  },
  {
   "cell_type": "code",
   "execution_count": null,
   "id": "be15e9c8-f47b-4b2b-ad86-6cf213938374",
   "metadata": {},
   "outputs": [],
   "source": [
    "client_id = \"XXX\"\n",
    "client_secret = \"XXX\""
   ]
  },
  {
   "cell_type": "markdown",
   "id": "36ffca9a-cf93-4949-81b5-b15253a18164",
   "metadata": {},
   "source": [
    "**Useful links**\n",
    "* API [documentation](https://developer.spotify.com/documentation/web-api/)\n",
    "* Wrapper [documentation](https://spotipy.readthedocs.io/en/master/)"
   ]
  },
  {
   "cell_type": "code",
   "execution_count": null,
   "id": "19aadfdc-34d6-4903-85ac-684aa9a5597e",
   "metadata": {},
   "outputs": [],
   "source": [
    "# install the wrapper\n",
    "! pip install spotipy"
   ]
  },
  {
   "cell_type": "code",
   "execution_count": 1,
   "id": "aabc7444-7c7b-4c25-997e-c864bdf528e7",
   "metadata": {},
   "outputs": [],
   "source": [
    "# import the wrapper and the authentification module\n",
    "import spotipy\n",
    "from spotipy.oauth2 import SpotifyClientCredentials"
   ]
  },
  {
   "cell_type": "code",
   "execution_count": 2,
   "id": "e97fb71f-7390-4b0c-b263-b0cc271b0e2c",
   "metadata": {},
   "outputs": [],
   "source": [
    "# create a client and authenticate with your credentials\n",
    "credentials = SpotifyClientCredentials(\n",
    "    client_id=client_id,\n",
    "    client_secret=client_secret\n",
    ")\n",
    "spotify_client= spotipy.Spotify(client_credentials_manager=credentials)"
   ]
  },
  {
   "cell_type": "code",
   "execution_count": 4,
   "id": "bc714501-0ee7-423b-a04f-5b1dbef9deb3",
   "metadata": {},
   "outputs": [],
   "source": [
    "# to analyze individual tracks, we first need to get track IDs. An easy way\n",
    "# to do this is to first get a playlist ID and then iterate over all its tracks.\n",
    "# Get a playlist ID by searching for something using Spotify's search. For \n",
    "# example a search for \"metal\" yields the \"metal essentials\" playlist\n",
    "# https://open.spotify.com/playlist/37i9dQZF1DWWOaP4H0w5b0\n",
    "playlist_uri = \"spotify:playlist:37i9dQZF1DWWOaP4H0w5b0\""
   ]
  },
  {
   "cell_type": "code",
   "execution_count": 5,
   "id": "ddd72c6e-224a-4bd8-861e-629e454b99e2",
   "metadata": {},
   "outputs": [],
   "source": [
    "playlist = spotify_client.playlist_items(playlist_uri)"
   ]
  },
  {
   "cell_type": "code",
   "execution_count": 6,
   "id": "b8054905-88ed-4fc1-815c-dfe2dca90b2b",
   "metadata": {},
   "outputs": [
    {
     "data": {
      "text/plain": [
       "'spotify:track:2MuWTIM3b0YEAskbeeFE1i'"
      ]
     },
     "execution_count": 6,
     "metadata": {},
     "output_type": "execute_result"
    }
   ],
   "source": [
    "# this is how you get to the URI (uniform resource identifier) of an\n",
    "# individual track\n",
    "playlist[\"items\"][0][\"track\"][\"uri\"]"
   ]
  },
  {
   "cell_type": "code",
   "execution_count": 18,
   "id": "8ebf2f7f-6c7c-4687-bfaa-ccd7dee08955",
   "metadata": {},
   "outputs": [],
   "source": [
    "# get the URIs of all tracks in the playlist\n",
    "track_URIs = [entry[\"track\"][\"uri\"] for entry in playlist[\"items\"]]"
   ]
  },
  {
   "cell_type": "code",
   "execution_count": 20,
   "id": "195a7443-b176-466b-b524-1eb2934b1bd3",
   "metadata": {},
   "outputs": [],
   "source": [
    "# get the audio features for all tracks\n",
    "tracks = []\n",
    "for track_URI in track_URIs:\n",
    "    track = spotify_client.audio_features(track_URI)\n",
    "    tracks.extend(track)"
   ]
  },
  {
   "cell_type": "code",
   "execution_count": 22,
   "id": "c41cba05-502f-4a62-a0e1-854446514dc2",
   "metadata": {},
   "outputs": [
    {
     "data": {
      "text/plain": [
       "{'danceability': 0.543,\n",
       " 'energy': 0.836,\n",
       " 'key': 4,\n",
       " 'loudness': -9.11,\n",
       " 'mode': 0,\n",
       " 'speechiness': 0.0353,\n",
       " 'acousticness': 0.000647,\n",
       " 'instrumentalness': 0.431,\n",
       " 'liveness': 0.153,\n",
       " 'valence': 0.56,\n",
       " 'tempo': 105.173,\n",
       " 'type': 'audio_features',\n",
       " 'id': '2MuWTIM3b0YEAskbeeFE1i',\n",
       " 'uri': 'spotify:track:2MuWTIM3b0YEAskbeeFE1i',\n",
       " 'track_href': 'https://api.spotify.com/v1/tracks/2MuWTIM3b0YEAskbeeFE1i',\n",
       " 'analysis_url': 'https://api.spotify.com/v1/audio-analysis/2MuWTIM3b0YEAskbeeFE1i',\n",
       " 'duration_ms': 515387,\n",
       " 'time_signature': 4}"
      ]
     },
     "execution_count": 22,
     "metadata": {},
     "output_type": "execute_result"
    }
   ],
   "source": [
    "# inspect the audio features of an individual track\n",
    "tracks[0]"
   ]
  },
  {
   "cell_type": "code",
   "execution_count": 27,
   "id": "e972ea49-4dc2-4bd1-8ca6-8e14b04af4c1",
   "metadata": {},
   "outputs": [
    {
     "data": {
      "text/html": [
       "<div>\n",
       "<style scoped>\n",
       "    .dataframe tbody tr th:only-of-type {\n",
       "        vertical-align: middle;\n",
       "    }\n",
       "\n",
       "    .dataframe tbody tr th {\n",
       "        vertical-align: top;\n",
       "    }\n",
       "\n",
       "    .dataframe thead th {\n",
       "        text-align: right;\n",
       "    }\n",
       "</style>\n",
       "<table border=\"1\" class=\"dataframe\">\n",
       "  <thead>\n",
       "    <tr style=\"text-align: right;\">\n",
       "      <th></th>\n",
       "      <th>danceability</th>\n",
       "      <th>energy</th>\n",
       "      <th>key</th>\n",
       "      <th>loudness</th>\n",
       "      <th>mode</th>\n",
       "      <th>speechiness</th>\n",
       "      <th>acousticness</th>\n",
       "      <th>instrumentalness</th>\n",
       "      <th>liveness</th>\n",
       "      <th>valence</th>\n",
       "      <th>tempo</th>\n",
       "      <th>type</th>\n",
       "      <th>id</th>\n",
       "      <th>uri</th>\n",
       "      <th>track_href</th>\n",
       "      <th>analysis_url</th>\n",
       "      <th>duration_ms</th>\n",
       "      <th>time_signature</th>\n",
       "    </tr>\n",
       "  </thead>\n",
       "  <tbody>\n",
       "    <tr>\n",
       "      <th>0</th>\n",
       "      <td>0.543</td>\n",
       "      <td>0.836</td>\n",
       "      <td>4</td>\n",
       "      <td>-9.110</td>\n",
       "      <td>0</td>\n",
       "      <td>0.0353</td>\n",
       "      <td>0.000647</td>\n",
       "      <td>0.431000</td>\n",
       "      <td>0.153</td>\n",
       "      <td>0.560</td>\n",
       "      <td>105.173</td>\n",
       "      <td>audio_features</td>\n",
       "      <td>2MuWTIM3b0YEAskbeeFE1i</td>\n",
       "      <td>spotify:track:2MuWTIM3b0YEAskbeeFE1i</td>\n",
       "      <td>https://api.spotify.com/v1/tracks/2MuWTIM3b0YE...</td>\n",
       "      <td>https://api.spotify.com/v1/audio-analysis/2MuW...</td>\n",
       "      <td>515387</td>\n",
       "      <td>4</td>\n",
       "    </tr>\n",
       "    <tr>\n",
       "      <th>1</th>\n",
       "      <td>0.354</td>\n",
       "      <td>0.982</td>\n",
       "      <td>4</td>\n",
       "      <td>-3.026</td>\n",
       "      <td>0</td>\n",
       "      <td>0.1680</td>\n",
       "      <td>0.000237</td>\n",
       "      <td>0.000294</td>\n",
       "      <td>0.204</td>\n",
       "      <td>0.194</td>\n",
       "      <td>143.772</td>\n",
       "      <td>audio_features</td>\n",
       "      <td>61mWefnWQOLf90gepjOCb3</td>\n",
       "      <td>spotify:track:61mWefnWQOLf90gepjOCb3</td>\n",
       "      <td>https://api.spotify.com/v1/tracks/61mWefnWQOLf...</td>\n",
       "      <td>https://api.spotify.com/v1/audio-analysis/61mW...</td>\n",
       "      <td>252613</td>\n",
       "      <td>4</td>\n",
       "    </tr>\n",
       "  </tbody>\n",
       "</table>\n",
       "</div>"
      ],
      "text/plain": [
       "   danceability  energy  key  loudness  mode  speechiness  acousticness  \\\n",
       "0         0.543   0.836    4    -9.110     0       0.0353      0.000647   \n",
       "1         0.354   0.982    4    -3.026     0       0.1680      0.000237   \n",
       "\n",
       "   instrumentalness  liveness  valence    tempo            type  \\\n",
       "0          0.431000     0.153    0.560  105.173  audio_features   \n",
       "1          0.000294     0.204    0.194  143.772  audio_features   \n",
       "\n",
       "                       id                                   uri  \\\n",
       "0  2MuWTIM3b0YEAskbeeFE1i  spotify:track:2MuWTIM3b0YEAskbeeFE1i   \n",
       "1  61mWefnWQOLf90gepjOCb3  spotify:track:61mWefnWQOLf90gepjOCb3   \n",
       "\n",
       "                                          track_href  \\\n",
       "0  https://api.spotify.com/v1/tracks/2MuWTIM3b0YE...   \n",
       "1  https://api.spotify.com/v1/tracks/61mWefnWQOLf...   \n",
       "\n",
       "                                        analysis_url  duration_ms  \\\n",
       "0  https://api.spotify.com/v1/audio-analysis/2MuW...       515387   \n",
       "1  https://api.spotify.com/v1/audio-analysis/61mW...       252613   \n",
       "\n",
       "   time_signature  \n",
       "0               4  \n",
       "1               4  "
      ]
     },
     "execution_count": 27,
     "metadata": {},
     "output_type": "execute_result"
    }
   ],
   "source": [
    "# convert the audio features to a pandas DataFrame\n",
    "df = pd.json_normalize(tracks)\n",
    "df.head(2)"
   ]
  },
  {
   "cell_type": "markdown",
   "id": "668d6c01-7a85-4809-8b98-6935a62c9e67",
   "metadata": {},
   "source": [
    "# Yahoo finance via Pandas datareader"
   ]
  },
  {
   "cell_type": "markdown",
   "id": "874d8306-65a4-4a77-a994-f3a344500769",
   "metadata": {},
   "source": [
    "**Useful links**\n",
    "* An [index](https://pandas-datareader.readthedocs.io/en/latest/remote_data.html) of data sources available through the data reader."
   ]
  },
  {
   "cell_type": "code",
   "execution_count": null,
   "id": "0fd514dc-d6cc-4e51-a696-47ea973f076b",
   "metadata": {},
   "outputs": [],
   "source": [
    "# install the datareader\n",
    "! pip install pandas-datareader"
   ]
  },
  {
   "cell_type": "code",
   "execution_count": 37,
   "id": "ab395532-7ed2-496d-a93a-6949c2514cf2",
   "metadata": {},
   "outputs": [],
   "source": [
    "# import the data reader\n",
    "from pandas_datareader import data, wb"
   ]
  },
  {
   "cell_type": "code",
   "execution_count": 41,
   "id": "bea66fab-da57-433b-afdc-3010f99b36f0",
   "metadata": {},
   "outputs": [
    {
     "data": {
      "text/html": [
       "<div>\n",
       "<style scoped>\n",
       "    .dataframe tbody tr th:only-of-type {\n",
       "        vertical-align: middle;\n",
       "    }\n",
       "\n",
       "    .dataframe tbody tr th {\n",
       "        vertical-align: top;\n",
       "    }\n",
       "\n",
       "    .dataframe thead th {\n",
       "        text-align: right;\n",
       "    }\n",
       "</style>\n",
       "<table border=\"1\" class=\"dataframe\">\n",
       "  <thead>\n",
       "    <tr style=\"text-align: right;\">\n",
       "      <th></th>\n",
       "      <th>High</th>\n",
       "      <th>Low</th>\n",
       "      <th>Open</th>\n",
       "      <th>Close</th>\n",
       "      <th>Volume</th>\n",
       "      <th>Adj Close</th>\n",
       "    </tr>\n",
       "    <tr>\n",
       "      <th>Date</th>\n",
       "      <th></th>\n",
       "      <th></th>\n",
       "      <th></th>\n",
       "      <th></th>\n",
       "      <th></th>\n",
       "      <th></th>\n",
       "    </tr>\n",
       "  </thead>\n",
       "  <tbody>\n",
       "    <tr>\n",
       "      <th>2020-01-02</th>\n",
       "      <td>86.139999</td>\n",
       "      <td>84.342003</td>\n",
       "      <td>84.900002</td>\n",
       "      <td>86.052002</td>\n",
       "      <td>47660500.0</td>\n",
       "      <td>86.052002</td>\n",
       "    </tr>\n",
       "    <tr>\n",
       "      <th>2020-01-03</th>\n",
       "      <td>90.800003</td>\n",
       "      <td>87.384003</td>\n",
       "      <td>88.099998</td>\n",
       "      <td>88.601997</td>\n",
       "      <td>88892500.0</td>\n",
       "      <td>88.601997</td>\n",
       "    </tr>\n",
       "  </tbody>\n",
       "</table>\n",
       "</div>"
      ],
      "text/plain": [
       "                 High        Low       Open      Close      Volume  Adj Close\n",
       "Date                                                                         \n",
       "2020-01-02  86.139999  84.342003  84.900002  86.052002  47660500.0  86.052002\n",
       "2020-01-03  90.800003  87.384003  88.099998  88.601997  88892500.0  88.601997"
      ]
     },
     "execution_count": 41,
     "metadata": {},
     "output_type": "execute_result"
    }
   ],
   "source": [
    "# specify start date, end date and stock\n",
    "start_date = pd.to_datetime(\"2020-01-01\")\n",
    "end_date = pd.to_datetime(\"2020-12-31\")\n",
    "stock = \"TSLA\"\n",
    "\n",
    "# get the data\n",
    "df = data.DataReader(stock, \"yahoo\", start_date, end_date)\n",
    "df.head(2)"
   ]
  },
  {
   "cell_type": "markdown",
   "id": "c36d65ba-4ddc-4b01-bde0-2ee97bce9acc",
   "metadata": {},
   "source": [
    "# StackOverflow"
   ]
  },
  {
   "cell_type": "markdown",
   "id": "947410ff-184c-4bfe-8521-47bef77c4a76",
   "metadata": {},
   "source": [
    "**Useful links**\n",
    "* API [documentation](https://api.stackexchange.com/docs)\n",
    "* Wrapper [documentation](https://stackapi.readthedocs.io/en/latest/user/intro.html)"
   ]
  },
  {
   "cell_type": "code",
   "execution_count": null,
   "id": "7ffcf1e5-75d6-44a3-b37b-a17462e6d8fd",
   "metadata": {},
   "outputs": [],
   "source": [
    "# install the wrapper\n",
    "! pip install stackapi"
   ]
  },
  {
   "cell_type": "code",
   "execution_count": 43,
   "id": "9c9d4259-c04b-4315-9dbb-1e09757b35db",
   "metadata": {},
   "outputs": [],
   "source": [
    "# import the wrapper\n",
    "from stackapi import StackAPI"
   ]
  },
  {
   "cell_type": "code",
   "execution_count": 44,
   "id": "bda06711-13d5-449c-893b-ade24353f41f",
   "metadata": {},
   "outputs": [],
   "source": [
    "# get the 500 most recent comments\n",
    "SITE = StackAPI('stackoverflow')\n",
    "comments = SITE.fetch('comments')"
   ]
  },
  {
   "cell_type": "code",
   "execution_count": 48,
   "id": "765b32b0-2c46-4f3a-a51c-2eff88b30662",
   "metadata": {},
   "outputs": [
    {
     "data": {
      "text/plain": [
       "{'owner': {'reputation': 482,\n",
       "  'user_id': 18311567,\n",
       "  'user_type': 'registered',\n",
       "  'profile_image': 'https://i.stack.imgur.com/Kt0lV.jpg?s=256&g=1',\n",
       "  'display_name': 'akaAbdullahMateen',\n",
       "  'link': 'https://stackoverflow.com/users/18311567/akaabdullahmateen'},\n",
       " 'edited': False,\n",
       " 'score': 0,\n",
       " 'creation_date': 1657322294,\n",
       " 'post_id': 72917807,\n",
       " 'comment_id': 128791092,\n",
       " 'content_license': 'CC BY-SA 4.0'}"
      ]
     },
     "execution_count": 48,
     "metadata": {},
     "output_type": "execute_result"
    }
   ],
   "source": [
    "# inspect a comment\n",
    "comments[\"items\"][0]"
   ]
  },
  {
   "cell_type": "code",
   "execution_count": 51,
   "id": "fe246996-4695-4d15-ac69-4d2a24df0f49",
   "metadata": {},
   "outputs": [
    {
     "data": {
      "text/html": [
       "<div>\n",
       "<style scoped>\n",
       "    .dataframe tbody tr th:only-of-type {\n",
       "        vertical-align: middle;\n",
       "    }\n",
       "\n",
       "    .dataframe tbody tr th {\n",
       "        vertical-align: top;\n",
       "    }\n",
       "\n",
       "    .dataframe thead th {\n",
       "        text-align: right;\n",
       "    }\n",
       "</style>\n",
       "<table border=\"1\" class=\"dataframe\">\n",
       "  <thead>\n",
       "    <tr style=\"text-align: right;\">\n",
       "      <th></th>\n",
       "      <th>edited</th>\n",
       "      <th>score</th>\n",
       "      <th>creation_date</th>\n",
       "      <th>post_id</th>\n",
       "      <th>comment_id</th>\n",
       "      <th>content_license</th>\n",
       "      <th>owner.reputation</th>\n",
       "      <th>owner.user_id</th>\n",
       "      <th>owner.user_type</th>\n",
       "      <th>owner.profile_image</th>\n",
       "      <th>owner.display_name</th>\n",
       "      <th>owner.link</th>\n",
       "      <th>owner.accept_rate</th>\n",
       "      <th>reply_to_user.reputation</th>\n",
       "      <th>reply_to_user.user_id</th>\n",
       "      <th>reply_to_user.user_type</th>\n",
       "      <th>reply_to_user.accept_rate</th>\n",
       "      <th>reply_to_user.profile_image</th>\n",
       "      <th>reply_to_user.display_name</th>\n",
       "      <th>reply_to_user.link</th>\n",
       "    </tr>\n",
       "  </thead>\n",
       "  <tbody>\n",
       "    <tr>\n",
       "      <th>0</th>\n",
       "      <td>False</td>\n",
       "      <td>0</td>\n",
       "      <td>1657322294</td>\n",
       "      <td>72917807</td>\n",
       "      <td>128791092</td>\n",
       "      <td>CC BY-SA 4.0</td>\n",
       "      <td>482</td>\n",
       "      <td>18311567</td>\n",
       "      <td>registered</td>\n",
       "      <td>https://i.stack.imgur.com/Kt0lV.jpg?s=256&amp;g=1</td>\n",
       "      <td>akaAbdullahMateen</td>\n",
       "      <td>https://stackoverflow.com/users/18311567/akaab...</td>\n",
       "      <td>NaN</td>\n",
       "      <td>NaN</td>\n",
       "      <td>NaN</td>\n",
       "      <td>NaN</td>\n",
       "      <td>NaN</td>\n",
       "      <td>NaN</td>\n",
       "      <td>NaN</td>\n",
       "      <td>NaN</td>\n",
       "    </tr>\n",
       "    <tr>\n",
       "      <th>1</th>\n",
       "      <td>False</td>\n",
       "      <td>0</td>\n",
       "      <td>1657322288</td>\n",
       "      <td>72917736</td>\n",
       "      <td>128791091</td>\n",
       "      <td>CC BY-SA 4.0</td>\n",
       "      <td>129</td>\n",
       "      <td>11931524</td>\n",
       "      <td>registered</td>\n",
       "      <td>https://www.gravatar.com/avatar/9ebb6fc797fd74...</td>\n",
       "      <td>HEllRZA</td>\n",
       "      <td>https://stackoverflow.com/users/11931524/hellrza</td>\n",
       "      <td>NaN</td>\n",
       "      <td>NaN</td>\n",
       "      <td>NaN</td>\n",
       "      <td>NaN</td>\n",
       "      <td>NaN</td>\n",
       "      <td>NaN</td>\n",
       "      <td>NaN</td>\n",
       "      <td>NaN</td>\n",
       "    </tr>\n",
       "  </tbody>\n",
       "</table>\n",
       "</div>"
      ],
      "text/plain": [
       "   edited  score  creation_date   post_id  comment_id content_license  \\\n",
       "0   False      0     1657322294  72917807   128791092    CC BY-SA 4.0   \n",
       "1   False      0     1657322288  72917736   128791091    CC BY-SA 4.0   \n",
       "\n",
       "   owner.reputation  owner.user_id owner.user_type  \\\n",
       "0               482       18311567      registered   \n",
       "1               129       11931524      registered   \n",
       "\n",
       "                                 owner.profile_image owner.display_name  \\\n",
       "0      https://i.stack.imgur.com/Kt0lV.jpg?s=256&g=1  akaAbdullahMateen   \n",
       "1  https://www.gravatar.com/avatar/9ebb6fc797fd74...            HEllRZA   \n",
       "\n",
       "                                          owner.link  owner.accept_rate  \\\n",
       "0  https://stackoverflow.com/users/18311567/akaab...                NaN   \n",
       "1   https://stackoverflow.com/users/11931524/hellrza                NaN   \n",
       "\n",
       "   reply_to_user.reputation  reply_to_user.user_id reply_to_user.user_type  \\\n",
       "0                       NaN                    NaN                     NaN   \n",
       "1                       NaN                    NaN                     NaN   \n",
       "\n",
       "   reply_to_user.accept_rate reply_to_user.profile_image  \\\n",
       "0                        NaN                         NaN   \n",
       "1                        NaN                         NaN   \n",
       "\n",
       "  reply_to_user.display_name reply_to_user.link  \n",
       "0                        NaN                NaN  \n",
       "1                        NaN                NaN  "
      ]
     },
     "execution_count": 51,
     "metadata": {},
     "output_type": "execute_result"
    }
   ],
   "source": [
    "# convert parse JSON into a pandas DataFrame\n",
    "df = pd.json_normalize(comments[\"items\"])\n",
    "df.head(2)"
   ]
  },
  {
   "cell_type": "markdown",
   "id": "acb555ae-3ca5-47e9-8542-8b968a174bbf",
   "metadata": {},
   "source": [
    "# Mastodon"
   ]
  },
  {
   "cell_type": "markdown",
   "id": "238f1dd7-6e8b-4ac5-93ac-9a8df3485af7",
   "metadata": {},
   "source": [
    "See also [documentation](https://mastodonpy.readthedocs.io/en/stable/index.html)."
   ]
  },
  {
   "cell_type": "code",
   "execution_count": null,
   "id": "33f3e397-a009-4948-bf75-bce1fd436387",
   "metadata": {},
   "outputs": [],
   "source": [
    "! pip3 install Mastodon.py"
   ]
  },
  {
   "cell_type": "code",
   "execution_count": 22,
   "id": "1d8660da-370b-4cbb-bc54-0ed915348f3b",
   "metadata": {},
   "outputs": [],
   "source": [
    "from mastodon import Mastodon"
   ]
  },
  {
   "cell_type": "code",
   "execution_count": 28,
   "id": "4fee295a-cef3-4dbf-a368-d63a29fd3403",
   "metadata": {},
   "outputs": [],
   "source": [
    "# note: create an application in your mastodon account to get an access token\n",
    "mastodon = Mastodon(\n",
    "    access_token=\"XXX\",\n",
    "    api_base_url=\"https://mastodon.social/\"\n",
    ")"
   ]
  },
  {
   "cell_type": "code",
   "execution_count": 31,
   "id": "da5d204e-9fa2-4d9d-a020-f2b57aa78df8",
   "metadata": {},
   "outputs": [
    {
     "ename": "MastodonNetworkError",
     "evalue": "Could not complete request: ('Connection aborted.', ConnectionResetError(104, 'Connection reset by peer'))",
     "output_type": "error",
     "traceback": [
      "\u001b[0;31m---------------------------------------------------------------------------\u001b[0m",
      "\u001b[0;31mConnectionResetError\u001b[0m                      Traceback (most recent call last)",
      "File \u001b[0;32m~/anaconda3/lib/python3.8/site-packages/urllib3/connectionpool.py:703\u001b[0m, in \u001b[0;36mHTTPConnectionPool.urlopen\u001b[0;34m(self, method, url, body, headers, retries, redirect, assert_same_host, timeout, pool_timeout, release_conn, chunked, body_pos, **response_kw)\u001b[0m\n\u001b[1;32m    702\u001b[0m \u001b[38;5;66;03m# Make the request on the httplib connection object.\u001b[39;00m\n\u001b[0;32m--> 703\u001b[0m httplib_response \u001b[38;5;241m=\u001b[39m \u001b[38;5;28;43mself\u001b[39;49m\u001b[38;5;241;43m.\u001b[39;49m\u001b[43m_make_request\u001b[49m\u001b[43m(\u001b[49m\n\u001b[1;32m    704\u001b[0m \u001b[43m    \u001b[49m\u001b[43mconn\u001b[49m\u001b[43m,\u001b[49m\n\u001b[1;32m    705\u001b[0m \u001b[43m    \u001b[49m\u001b[43mmethod\u001b[49m\u001b[43m,\u001b[49m\n\u001b[1;32m    706\u001b[0m \u001b[43m    \u001b[49m\u001b[43murl\u001b[49m\u001b[43m,\u001b[49m\n\u001b[1;32m    707\u001b[0m \u001b[43m    \u001b[49m\u001b[43mtimeout\u001b[49m\u001b[38;5;241;43m=\u001b[39;49m\u001b[43mtimeout_obj\u001b[49m\u001b[43m,\u001b[49m\n\u001b[1;32m    708\u001b[0m \u001b[43m    \u001b[49m\u001b[43mbody\u001b[49m\u001b[38;5;241;43m=\u001b[39;49m\u001b[43mbody\u001b[49m\u001b[43m,\u001b[49m\n\u001b[1;32m    709\u001b[0m \u001b[43m    \u001b[49m\u001b[43mheaders\u001b[49m\u001b[38;5;241;43m=\u001b[39;49m\u001b[43mheaders\u001b[49m\u001b[43m,\u001b[49m\n\u001b[1;32m    710\u001b[0m \u001b[43m    \u001b[49m\u001b[43mchunked\u001b[49m\u001b[38;5;241;43m=\u001b[39;49m\u001b[43mchunked\u001b[49m\u001b[43m,\u001b[49m\n\u001b[1;32m    711\u001b[0m \u001b[43m\u001b[49m\u001b[43m)\u001b[49m\n\u001b[1;32m    713\u001b[0m \u001b[38;5;66;03m# If we're going to release the connection in ``finally:``, then\u001b[39;00m\n\u001b[1;32m    714\u001b[0m \u001b[38;5;66;03m# the response doesn't need to know about the connection. Otherwise\u001b[39;00m\n\u001b[1;32m    715\u001b[0m \u001b[38;5;66;03m# it will also try to release it and we'll have a double-release\u001b[39;00m\n\u001b[1;32m    716\u001b[0m \u001b[38;5;66;03m# mess.\u001b[39;00m\n",
      "File \u001b[0;32m~/anaconda3/lib/python3.8/site-packages/urllib3/connectionpool.py:449\u001b[0m, in \u001b[0;36mHTTPConnectionPool._make_request\u001b[0;34m(self, conn, method, url, timeout, chunked, **httplib_request_kw)\u001b[0m\n\u001b[1;32m    445\u001b[0m         \u001b[38;5;28;01mexcept\u001b[39;00m \u001b[38;5;167;01mBaseException\u001b[39;00m \u001b[38;5;28;01mas\u001b[39;00m e:\n\u001b[1;32m    446\u001b[0m             \u001b[38;5;66;03m# Remove the TypeError from the exception chain in\u001b[39;00m\n\u001b[1;32m    447\u001b[0m             \u001b[38;5;66;03m# Python 3 (including for exceptions like SystemExit).\u001b[39;00m\n\u001b[1;32m    448\u001b[0m             \u001b[38;5;66;03m# Otherwise it looks like a bug in the code.\u001b[39;00m\n\u001b[0;32m--> 449\u001b[0m             \u001b[43msix\u001b[49m\u001b[38;5;241;43m.\u001b[39;49m\u001b[43mraise_from\u001b[49m\u001b[43m(\u001b[49m\u001b[43me\u001b[49m\u001b[43m,\u001b[49m\u001b[43m \u001b[49m\u001b[38;5;28;43;01mNone\u001b[39;49;00m\u001b[43m)\u001b[49m\n\u001b[1;32m    450\u001b[0m \u001b[38;5;28;01mexcept\u001b[39;00m (SocketTimeout, BaseSSLError, SocketError) \u001b[38;5;28;01mas\u001b[39;00m e:\n",
      "File \u001b[0;32m<string>:3\u001b[0m, in \u001b[0;36mraise_from\u001b[0;34m(value, from_value)\u001b[0m\n",
      "File \u001b[0;32m~/anaconda3/lib/python3.8/site-packages/urllib3/connectionpool.py:444\u001b[0m, in \u001b[0;36mHTTPConnectionPool._make_request\u001b[0;34m(self, conn, method, url, timeout, chunked, **httplib_request_kw)\u001b[0m\n\u001b[1;32m    443\u001b[0m \u001b[38;5;28;01mtry\u001b[39;00m:\n\u001b[0;32m--> 444\u001b[0m     httplib_response \u001b[38;5;241m=\u001b[39m \u001b[43mconn\u001b[49m\u001b[38;5;241;43m.\u001b[39;49m\u001b[43mgetresponse\u001b[49m\u001b[43m(\u001b[49m\u001b[43m)\u001b[49m\n\u001b[1;32m    445\u001b[0m \u001b[38;5;28;01mexcept\u001b[39;00m \u001b[38;5;167;01mBaseException\u001b[39;00m \u001b[38;5;28;01mas\u001b[39;00m e:\n\u001b[1;32m    446\u001b[0m     \u001b[38;5;66;03m# Remove the TypeError from the exception chain in\u001b[39;00m\n\u001b[1;32m    447\u001b[0m     \u001b[38;5;66;03m# Python 3 (including for exceptions like SystemExit).\u001b[39;00m\n\u001b[1;32m    448\u001b[0m     \u001b[38;5;66;03m# Otherwise it looks like a bug in the code.\u001b[39;00m\n",
      "File \u001b[0;32m~/anaconda3/lib/python3.8/http/client.py:1347\u001b[0m, in \u001b[0;36mHTTPConnection.getresponse\u001b[0;34m(self)\u001b[0m\n\u001b[1;32m   1346\u001b[0m \u001b[38;5;28;01mtry\u001b[39;00m:\n\u001b[0;32m-> 1347\u001b[0m     \u001b[43mresponse\u001b[49m\u001b[38;5;241;43m.\u001b[39;49m\u001b[43mbegin\u001b[49m\u001b[43m(\u001b[49m\u001b[43m)\u001b[49m\n\u001b[1;32m   1348\u001b[0m \u001b[38;5;28;01mexcept\u001b[39;00m \u001b[38;5;167;01mConnectionError\u001b[39;00m:\n",
      "File \u001b[0;32m~/anaconda3/lib/python3.8/http/client.py:307\u001b[0m, in \u001b[0;36mHTTPResponse.begin\u001b[0;34m(self)\u001b[0m\n\u001b[1;32m    306\u001b[0m \u001b[38;5;28;01mwhile\u001b[39;00m \u001b[38;5;28;01mTrue\u001b[39;00m:\n\u001b[0;32m--> 307\u001b[0m     version, status, reason \u001b[38;5;241m=\u001b[39m \u001b[38;5;28;43mself\u001b[39;49m\u001b[38;5;241;43m.\u001b[39;49m\u001b[43m_read_status\u001b[49m\u001b[43m(\u001b[49m\u001b[43m)\u001b[49m\n\u001b[1;32m    308\u001b[0m     \u001b[38;5;28;01mif\u001b[39;00m status \u001b[38;5;241m!=\u001b[39m CONTINUE:\n",
      "File \u001b[0;32m~/anaconda3/lib/python3.8/http/client.py:268\u001b[0m, in \u001b[0;36mHTTPResponse._read_status\u001b[0;34m(self)\u001b[0m\n\u001b[1;32m    267\u001b[0m \u001b[38;5;28;01mdef\u001b[39;00m \u001b[38;5;21m_read_status\u001b[39m(\u001b[38;5;28mself\u001b[39m):\n\u001b[0;32m--> 268\u001b[0m     line \u001b[38;5;241m=\u001b[39m \u001b[38;5;28mstr\u001b[39m(\u001b[38;5;28;43mself\u001b[39;49m\u001b[38;5;241;43m.\u001b[39;49m\u001b[43mfp\u001b[49m\u001b[38;5;241;43m.\u001b[39;49m\u001b[43mreadline\u001b[49m\u001b[43m(\u001b[49m\u001b[43m_MAXLINE\u001b[49m\u001b[43m \u001b[49m\u001b[38;5;241;43m+\u001b[39;49m\u001b[43m \u001b[49m\u001b[38;5;241;43m1\u001b[39;49m\u001b[43m)\u001b[49m, \u001b[38;5;124m\"\u001b[39m\u001b[38;5;124miso-8859-1\u001b[39m\u001b[38;5;124m\"\u001b[39m)\n\u001b[1;32m    269\u001b[0m     \u001b[38;5;28;01mif\u001b[39;00m \u001b[38;5;28mlen\u001b[39m(line) \u001b[38;5;241m>\u001b[39m _MAXLINE:\n",
      "File \u001b[0;32m~/anaconda3/lib/python3.8/socket.py:669\u001b[0m, in \u001b[0;36mSocketIO.readinto\u001b[0;34m(self, b)\u001b[0m\n\u001b[1;32m    668\u001b[0m \u001b[38;5;28;01mtry\u001b[39;00m:\n\u001b[0;32m--> 669\u001b[0m     \u001b[38;5;28;01mreturn\u001b[39;00m \u001b[38;5;28;43mself\u001b[39;49m\u001b[38;5;241;43m.\u001b[39;49m\u001b[43m_sock\u001b[49m\u001b[38;5;241;43m.\u001b[39;49m\u001b[43mrecv_into\u001b[49m\u001b[43m(\u001b[49m\u001b[43mb\u001b[49m\u001b[43m)\u001b[49m\n\u001b[1;32m    670\u001b[0m \u001b[38;5;28;01mexcept\u001b[39;00m timeout:\n",
      "File \u001b[0;32m~/anaconda3/lib/python3.8/ssl.py:1241\u001b[0m, in \u001b[0;36mSSLSocket.recv_into\u001b[0;34m(self, buffer, nbytes, flags)\u001b[0m\n\u001b[1;32m   1238\u001b[0m         \u001b[38;5;28;01mraise\u001b[39;00m \u001b[38;5;167;01mValueError\u001b[39;00m(\n\u001b[1;32m   1239\u001b[0m           \u001b[38;5;124m\"\u001b[39m\u001b[38;5;124mnon-zero flags not allowed in calls to recv_into() on \u001b[39m\u001b[38;5;132;01m%s\u001b[39;00m\u001b[38;5;124m\"\u001b[39m \u001b[38;5;241m%\u001b[39m\n\u001b[1;32m   1240\u001b[0m           \u001b[38;5;28mself\u001b[39m\u001b[38;5;241m.\u001b[39m\u001b[38;5;18m__class__\u001b[39m)\n\u001b[0;32m-> 1241\u001b[0m     \u001b[38;5;28;01mreturn\u001b[39;00m \u001b[38;5;28;43mself\u001b[39;49m\u001b[38;5;241;43m.\u001b[39;49m\u001b[43mread\u001b[49m\u001b[43m(\u001b[49m\u001b[43mnbytes\u001b[49m\u001b[43m,\u001b[49m\u001b[43m \u001b[49m\u001b[43mbuffer\u001b[49m\u001b[43m)\u001b[49m\n\u001b[1;32m   1242\u001b[0m \u001b[38;5;28;01melse\u001b[39;00m:\n",
      "File \u001b[0;32m~/anaconda3/lib/python3.8/ssl.py:1099\u001b[0m, in \u001b[0;36mSSLSocket.read\u001b[0;34m(self, len, buffer)\u001b[0m\n\u001b[1;32m   1098\u001b[0m \u001b[38;5;28;01mif\u001b[39;00m buffer \u001b[38;5;129;01mis\u001b[39;00m \u001b[38;5;129;01mnot\u001b[39;00m \u001b[38;5;28;01mNone\u001b[39;00m:\n\u001b[0;32m-> 1099\u001b[0m     \u001b[38;5;28;01mreturn\u001b[39;00m \u001b[38;5;28;43mself\u001b[39;49m\u001b[38;5;241;43m.\u001b[39;49m\u001b[43m_sslobj\u001b[49m\u001b[38;5;241;43m.\u001b[39;49m\u001b[43mread\u001b[49m\u001b[43m(\u001b[49m\u001b[38;5;28;43mlen\u001b[39;49m\u001b[43m,\u001b[49m\u001b[43m \u001b[49m\u001b[43mbuffer\u001b[49m\u001b[43m)\u001b[49m\n\u001b[1;32m   1100\u001b[0m \u001b[38;5;28;01melse\u001b[39;00m:\n",
      "\u001b[0;31mConnectionResetError\u001b[0m: [Errno 104] Connection reset by peer",
      "\nDuring handling of the above exception, another exception occurred:\n",
      "\u001b[0;31mProtocolError\u001b[0m                             Traceback (most recent call last)",
      "File \u001b[0;32m~/anaconda3/lib/python3.8/site-packages/requests/adapters.py:489\u001b[0m, in \u001b[0;36mHTTPAdapter.send\u001b[0;34m(self, request, stream, timeout, verify, cert, proxies)\u001b[0m\n\u001b[1;32m    488\u001b[0m \u001b[38;5;28;01mif\u001b[39;00m \u001b[38;5;129;01mnot\u001b[39;00m chunked:\n\u001b[0;32m--> 489\u001b[0m     resp \u001b[38;5;241m=\u001b[39m \u001b[43mconn\u001b[49m\u001b[38;5;241;43m.\u001b[39;49m\u001b[43murlopen\u001b[49m\u001b[43m(\u001b[49m\n\u001b[1;32m    490\u001b[0m \u001b[43m        \u001b[49m\u001b[43mmethod\u001b[49m\u001b[38;5;241;43m=\u001b[39;49m\u001b[43mrequest\u001b[49m\u001b[38;5;241;43m.\u001b[39;49m\u001b[43mmethod\u001b[49m\u001b[43m,\u001b[49m\n\u001b[1;32m    491\u001b[0m \u001b[43m        \u001b[49m\u001b[43murl\u001b[49m\u001b[38;5;241;43m=\u001b[39;49m\u001b[43murl\u001b[49m\u001b[43m,\u001b[49m\n\u001b[1;32m    492\u001b[0m \u001b[43m        \u001b[49m\u001b[43mbody\u001b[49m\u001b[38;5;241;43m=\u001b[39;49m\u001b[43mrequest\u001b[49m\u001b[38;5;241;43m.\u001b[39;49m\u001b[43mbody\u001b[49m\u001b[43m,\u001b[49m\n\u001b[1;32m    493\u001b[0m \u001b[43m        \u001b[49m\u001b[43mheaders\u001b[49m\u001b[38;5;241;43m=\u001b[39;49m\u001b[43mrequest\u001b[49m\u001b[38;5;241;43m.\u001b[39;49m\u001b[43mheaders\u001b[49m\u001b[43m,\u001b[49m\n\u001b[1;32m    494\u001b[0m \u001b[43m        \u001b[49m\u001b[43mredirect\u001b[49m\u001b[38;5;241;43m=\u001b[39;49m\u001b[38;5;28;43;01mFalse\u001b[39;49;00m\u001b[43m,\u001b[49m\n\u001b[1;32m    495\u001b[0m \u001b[43m        \u001b[49m\u001b[43massert_same_host\u001b[49m\u001b[38;5;241;43m=\u001b[39;49m\u001b[38;5;28;43;01mFalse\u001b[39;49;00m\u001b[43m,\u001b[49m\n\u001b[1;32m    496\u001b[0m \u001b[43m        \u001b[49m\u001b[43mpreload_content\u001b[49m\u001b[38;5;241;43m=\u001b[39;49m\u001b[38;5;28;43;01mFalse\u001b[39;49;00m\u001b[43m,\u001b[49m\n\u001b[1;32m    497\u001b[0m \u001b[43m        \u001b[49m\u001b[43mdecode_content\u001b[49m\u001b[38;5;241;43m=\u001b[39;49m\u001b[38;5;28;43;01mFalse\u001b[39;49;00m\u001b[43m,\u001b[49m\n\u001b[1;32m    498\u001b[0m \u001b[43m        \u001b[49m\u001b[43mretries\u001b[49m\u001b[38;5;241;43m=\u001b[39;49m\u001b[38;5;28;43mself\u001b[39;49m\u001b[38;5;241;43m.\u001b[39;49m\u001b[43mmax_retries\u001b[49m\u001b[43m,\u001b[49m\n\u001b[1;32m    499\u001b[0m \u001b[43m        \u001b[49m\u001b[43mtimeout\u001b[49m\u001b[38;5;241;43m=\u001b[39;49m\u001b[43mtimeout\u001b[49m\u001b[43m,\u001b[49m\n\u001b[1;32m    500\u001b[0m \u001b[43m    \u001b[49m\u001b[43m)\u001b[49m\n\u001b[1;32m    502\u001b[0m \u001b[38;5;66;03m# Send the request.\u001b[39;00m\n\u001b[1;32m    503\u001b[0m \u001b[38;5;28;01melse\u001b[39;00m:\n",
      "File \u001b[0;32m~/anaconda3/lib/python3.8/site-packages/urllib3/connectionpool.py:787\u001b[0m, in \u001b[0;36mHTTPConnectionPool.urlopen\u001b[0;34m(self, method, url, body, headers, retries, redirect, assert_same_host, timeout, pool_timeout, release_conn, chunked, body_pos, **response_kw)\u001b[0m\n\u001b[1;32m    785\u001b[0m     e \u001b[38;5;241m=\u001b[39m ProtocolError(\u001b[38;5;124m\"\u001b[39m\u001b[38;5;124mConnection aborted.\u001b[39m\u001b[38;5;124m\"\u001b[39m, e)\n\u001b[0;32m--> 787\u001b[0m retries \u001b[38;5;241m=\u001b[39m \u001b[43mretries\u001b[49m\u001b[38;5;241;43m.\u001b[39;49m\u001b[43mincrement\u001b[49m\u001b[43m(\u001b[49m\n\u001b[1;32m    788\u001b[0m \u001b[43m    \u001b[49m\u001b[43mmethod\u001b[49m\u001b[43m,\u001b[49m\u001b[43m \u001b[49m\u001b[43murl\u001b[49m\u001b[43m,\u001b[49m\u001b[43m \u001b[49m\u001b[43merror\u001b[49m\u001b[38;5;241;43m=\u001b[39;49m\u001b[43me\u001b[49m\u001b[43m,\u001b[49m\u001b[43m \u001b[49m\u001b[43m_pool\u001b[49m\u001b[38;5;241;43m=\u001b[39;49m\u001b[38;5;28;43mself\u001b[39;49m\u001b[43m,\u001b[49m\u001b[43m \u001b[49m\u001b[43m_stacktrace\u001b[49m\u001b[38;5;241;43m=\u001b[39;49m\u001b[43msys\u001b[49m\u001b[38;5;241;43m.\u001b[39;49m\u001b[43mexc_info\u001b[49m\u001b[43m(\u001b[49m\u001b[43m)\u001b[49m\u001b[43m[\u001b[49m\u001b[38;5;241;43m2\u001b[39;49m\u001b[43m]\u001b[49m\n\u001b[1;32m    789\u001b[0m \u001b[43m\u001b[49m\u001b[43m)\u001b[49m\n\u001b[1;32m    790\u001b[0m retries\u001b[38;5;241m.\u001b[39msleep()\n",
      "File \u001b[0;32m~/anaconda3/lib/python3.8/site-packages/urllib3/util/retry.py:550\u001b[0m, in \u001b[0;36mRetry.increment\u001b[0;34m(self, method, url, response, error, _pool, _stacktrace)\u001b[0m\n\u001b[1;32m    549\u001b[0m \u001b[38;5;28;01mif\u001b[39;00m read \u001b[38;5;129;01mis\u001b[39;00m \u001b[38;5;28;01mFalse\u001b[39;00m \u001b[38;5;129;01mor\u001b[39;00m \u001b[38;5;129;01mnot\u001b[39;00m \u001b[38;5;28mself\u001b[39m\u001b[38;5;241m.\u001b[39m_is_method_retryable(method):\n\u001b[0;32m--> 550\u001b[0m     \u001b[38;5;28;01mraise\u001b[39;00m \u001b[43msix\u001b[49m\u001b[38;5;241;43m.\u001b[39;49m\u001b[43mreraise\u001b[49m\u001b[43m(\u001b[49m\u001b[38;5;28;43mtype\u001b[39;49m\u001b[43m(\u001b[49m\u001b[43merror\u001b[49m\u001b[43m)\u001b[49m\u001b[43m,\u001b[49m\u001b[43m \u001b[49m\u001b[43merror\u001b[49m\u001b[43m,\u001b[49m\u001b[43m \u001b[49m\u001b[43m_stacktrace\u001b[49m\u001b[43m)\u001b[49m\n\u001b[1;32m    551\u001b[0m \u001b[38;5;28;01melif\u001b[39;00m read \u001b[38;5;129;01mis\u001b[39;00m \u001b[38;5;129;01mnot\u001b[39;00m \u001b[38;5;28;01mNone\u001b[39;00m:\n",
      "File \u001b[0;32m~/anaconda3/lib/python3.8/site-packages/urllib3/packages/six.py:769\u001b[0m, in \u001b[0;36mreraise\u001b[0;34m(tp, value, tb)\u001b[0m\n\u001b[1;32m    768\u001b[0m \u001b[38;5;28;01mif\u001b[39;00m value\u001b[38;5;241m.\u001b[39m__traceback__ \u001b[38;5;129;01mis\u001b[39;00m \u001b[38;5;129;01mnot\u001b[39;00m tb:\n\u001b[0;32m--> 769\u001b[0m     \u001b[38;5;28;01mraise\u001b[39;00m value\u001b[38;5;241m.\u001b[39mwith_traceback(tb)\n\u001b[1;32m    770\u001b[0m \u001b[38;5;28;01mraise\u001b[39;00m value\n",
      "File \u001b[0;32m~/anaconda3/lib/python3.8/site-packages/urllib3/connectionpool.py:703\u001b[0m, in \u001b[0;36mHTTPConnectionPool.urlopen\u001b[0;34m(self, method, url, body, headers, retries, redirect, assert_same_host, timeout, pool_timeout, release_conn, chunked, body_pos, **response_kw)\u001b[0m\n\u001b[1;32m    702\u001b[0m \u001b[38;5;66;03m# Make the request on the httplib connection object.\u001b[39;00m\n\u001b[0;32m--> 703\u001b[0m httplib_response \u001b[38;5;241m=\u001b[39m \u001b[38;5;28;43mself\u001b[39;49m\u001b[38;5;241;43m.\u001b[39;49m\u001b[43m_make_request\u001b[49m\u001b[43m(\u001b[49m\n\u001b[1;32m    704\u001b[0m \u001b[43m    \u001b[49m\u001b[43mconn\u001b[49m\u001b[43m,\u001b[49m\n\u001b[1;32m    705\u001b[0m \u001b[43m    \u001b[49m\u001b[43mmethod\u001b[49m\u001b[43m,\u001b[49m\n\u001b[1;32m    706\u001b[0m \u001b[43m    \u001b[49m\u001b[43murl\u001b[49m\u001b[43m,\u001b[49m\n\u001b[1;32m    707\u001b[0m \u001b[43m    \u001b[49m\u001b[43mtimeout\u001b[49m\u001b[38;5;241;43m=\u001b[39;49m\u001b[43mtimeout_obj\u001b[49m\u001b[43m,\u001b[49m\n\u001b[1;32m    708\u001b[0m \u001b[43m    \u001b[49m\u001b[43mbody\u001b[49m\u001b[38;5;241;43m=\u001b[39;49m\u001b[43mbody\u001b[49m\u001b[43m,\u001b[49m\n\u001b[1;32m    709\u001b[0m \u001b[43m    \u001b[49m\u001b[43mheaders\u001b[49m\u001b[38;5;241;43m=\u001b[39;49m\u001b[43mheaders\u001b[49m\u001b[43m,\u001b[49m\n\u001b[1;32m    710\u001b[0m \u001b[43m    \u001b[49m\u001b[43mchunked\u001b[49m\u001b[38;5;241;43m=\u001b[39;49m\u001b[43mchunked\u001b[49m\u001b[43m,\u001b[49m\n\u001b[1;32m    711\u001b[0m \u001b[43m\u001b[49m\u001b[43m)\u001b[49m\n\u001b[1;32m    713\u001b[0m \u001b[38;5;66;03m# If we're going to release the connection in ``finally:``, then\u001b[39;00m\n\u001b[1;32m    714\u001b[0m \u001b[38;5;66;03m# the response doesn't need to know about the connection. Otherwise\u001b[39;00m\n\u001b[1;32m    715\u001b[0m \u001b[38;5;66;03m# it will also try to release it and we'll have a double-release\u001b[39;00m\n\u001b[1;32m    716\u001b[0m \u001b[38;5;66;03m# mess.\u001b[39;00m\n",
      "File \u001b[0;32m~/anaconda3/lib/python3.8/site-packages/urllib3/connectionpool.py:449\u001b[0m, in \u001b[0;36mHTTPConnectionPool._make_request\u001b[0;34m(self, conn, method, url, timeout, chunked, **httplib_request_kw)\u001b[0m\n\u001b[1;32m    445\u001b[0m         \u001b[38;5;28;01mexcept\u001b[39;00m \u001b[38;5;167;01mBaseException\u001b[39;00m \u001b[38;5;28;01mas\u001b[39;00m e:\n\u001b[1;32m    446\u001b[0m             \u001b[38;5;66;03m# Remove the TypeError from the exception chain in\u001b[39;00m\n\u001b[1;32m    447\u001b[0m             \u001b[38;5;66;03m# Python 3 (including for exceptions like SystemExit).\u001b[39;00m\n\u001b[1;32m    448\u001b[0m             \u001b[38;5;66;03m# Otherwise it looks like a bug in the code.\u001b[39;00m\n\u001b[0;32m--> 449\u001b[0m             \u001b[43msix\u001b[49m\u001b[38;5;241;43m.\u001b[39;49m\u001b[43mraise_from\u001b[49m\u001b[43m(\u001b[49m\u001b[43me\u001b[49m\u001b[43m,\u001b[49m\u001b[43m \u001b[49m\u001b[38;5;28;43;01mNone\u001b[39;49;00m\u001b[43m)\u001b[49m\n\u001b[1;32m    450\u001b[0m \u001b[38;5;28;01mexcept\u001b[39;00m (SocketTimeout, BaseSSLError, SocketError) \u001b[38;5;28;01mas\u001b[39;00m e:\n",
      "File \u001b[0;32m<string>:3\u001b[0m, in \u001b[0;36mraise_from\u001b[0;34m(value, from_value)\u001b[0m\n",
      "File \u001b[0;32m~/anaconda3/lib/python3.8/site-packages/urllib3/connectionpool.py:444\u001b[0m, in \u001b[0;36mHTTPConnectionPool._make_request\u001b[0;34m(self, conn, method, url, timeout, chunked, **httplib_request_kw)\u001b[0m\n\u001b[1;32m    443\u001b[0m \u001b[38;5;28;01mtry\u001b[39;00m:\n\u001b[0;32m--> 444\u001b[0m     httplib_response \u001b[38;5;241m=\u001b[39m \u001b[43mconn\u001b[49m\u001b[38;5;241;43m.\u001b[39;49m\u001b[43mgetresponse\u001b[49m\u001b[43m(\u001b[49m\u001b[43m)\u001b[49m\n\u001b[1;32m    445\u001b[0m \u001b[38;5;28;01mexcept\u001b[39;00m \u001b[38;5;167;01mBaseException\u001b[39;00m \u001b[38;5;28;01mas\u001b[39;00m e:\n\u001b[1;32m    446\u001b[0m     \u001b[38;5;66;03m# Remove the TypeError from the exception chain in\u001b[39;00m\n\u001b[1;32m    447\u001b[0m     \u001b[38;5;66;03m# Python 3 (including for exceptions like SystemExit).\u001b[39;00m\n\u001b[1;32m    448\u001b[0m     \u001b[38;5;66;03m# Otherwise it looks like a bug in the code.\u001b[39;00m\n",
      "File \u001b[0;32m~/anaconda3/lib/python3.8/http/client.py:1347\u001b[0m, in \u001b[0;36mHTTPConnection.getresponse\u001b[0;34m(self)\u001b[0m\n\u001b[1;32m   1346\u001b[0m \u001b[38;5;28;01mtry\u001b[39;00m:\n\u001b[0;32m-> 1347\u001b[0m     \u001b[43mresponse\u001b[49m\u001b[38;5;241;43m.\u001b[39;49m\u001b[43mbegin\u001b[49m\u001b[43m(\u001b[49m\u001b[43m)\u001b[49m\n\u001b[1;32m   1348\u001b[0m \u001b[38;5;28;01mexcept\u001b[39;00m \u001b[38;5;167;01mConnectionError\u001b[39;00m:\n",
      "File \u001b[0;32m~/anaconda3/lib/python3.8/http/client.py:307\u001b[0m, in \u001b[0;36mHTTPResponse.begin\u001b[0;34m(self)\u001b[0m\n\u001b[1;32m    306\u001b[0m \u001b[38;5;28;01mwhile\u001b[39;00m \u001b[38;5;28;01mTrue\u001b[39;00m:\n\u001b[0;32m--> 307\u001b[0m     version, status, reason \u001b[38;5;241m=\u001b[39m \u001b[38;5;28;43mself\u001b[39;49m\u001b[38;5;241;43m.\u001b[39;49m\u001b[43m_read_status\u001b[49m\u001b[43m(\u001b[49m\u001b[43m)\u001b[49m\n\u001b[1;32m    308\u001b[0m     \u001b[38;5;28;01mif\u001b[39;00m status \u001b[38;5;241m!=\u001b[39m CONTINUE:\n",
      "File \u001b[0;32m~/anaconda3/lib/python3.8/http/client.py:268\u001b[0m, in \u001b[0;36mHTTPResponse._read_status\u001b[0;34m(self)\u001b[0m\n\u001b[1;32m    267\u001b[0m \u001b[38;5;28;01mdef\u001b[39;00m \u001b[38;5;21m_read_status\u001b[39m(\u001b[38;5;28mself\u001b[39m):\n\u001b[0;32m--> 268\u001b[0m     line \u001b[38;5;241m=\u001b[39m \u001b[38;5;28mstr\u001b[39m(\u001b[38;5;28;43mself\u001b[39;49m\u001b[38;5;241;43m.\u001b[39;49m\u001b[43mfp\u001b[49m\u001b[38;5;241;43m.\u001b[39;49m\u001b[43mreadline\u001b[49m\u001b[43m(\u001b[49m\u001b[43m_MAXLINE\u001b[49m\u001b[43m \u001b[49m\u001b[38;5;241;43m+\u001b[39;49m\u001b[43m \u001b[49m\u001b[38;5;241;43m1\u001b[39;49m\u001b[43m)\u001b[49m, \u001b[38;5;124m\"\u001b[39m\u001b[38;5;124miso-8859-1\u001b[39m\u001b[38;5;124m\"\u001b[39m)\n\u001b[1;32m    269\u001b[0m     \u001b[38;5;28;01mif\u001b[39;00m \u001b[38;5;28mlen\u001b[39m(line) \u001b[38;5;241m>\u001b[39m _MAXLINE:\n",
      "File \u001b[0;32m~/anaconda3/lib/python3.8/socket.py:669\u001b[0m, in \u001b[0;36mSocketIO.readinto\u001b[0;34m(self, b)\u001b[0m\n\u001b[1;32m    668\u001b[0m \u001b[38;5;28;01mtry\u001b[39;00m:\n\u001b[0;32m--> 669\u001b[0m     \u001b[38;5;28;01mreturn\u001b[39;00m \u001b[38;5;28;43mself\u001b[39;49m\u001b[38;5;241;43m.\u001b[39;49m\u001b[43m_sock\u001b[49m\u001b[38;5;241;43m.\u001b[39;49m\u001b[43mrecv_into\u001b[49m\u001b[43m(\u001b[49m\u001b[43mb\u001b[49m\u001b[43m)\u001b[49m\n\u001b[1;32m    670\u001b[0m \u001b[38;5;28;01mexcept\u001b[39;00m timeout:\n",
      "File \u001b[0;32m~/anaconda3/lib/python3.8/ssl.py:1241\u001b[0m, in \u001b[0;36mSSLSocket.recv_into\u001b[0;34m(self, buffer, nbytes, flags)\u001b[0m\n\u001b[1;32m   1238\u001b[0m         \u001b[38;5;28;01mraise\u001b[39;00m \u001b[38;5;167;01mValueError\u001b[39;00m(\n\u001b[1;32m   1239\u001b[0m           \u001b[38;5;124m\"\u001b[39m\u001b[38;5;124mnon-zero flags not allowed in calls to recv_into() on \u001b[39m\u001b[38;5;132;01m%s\u001b[39;00m\u001b[38;5;124m\"\u001b[39m \u001b[38;5;241m%\u001b[39m\n\u001b[1;32m   1240\u001b[0m           \u001b[38;5;28mself\u001b[39m\u001b[38;5;241m.\u001b[39m\u001b[38;5;18m__class__\u001b[39m)\n\u001b[0;32m-> 1241\u001b[0m     \u001b[38;5;28;01mreturn\u001b[39;00m \u001b[38;5;28;43mself\u001b[39;49m\u001b[38;5;241;43m.\u001b[39;49m\u001b[43mread\u001b[49m\u001b[43m(\u001b[49m\u001b[43mnbytes\u001b[49m\u001b[43m,\u001b[49m\u001b[43m \u001b[49m\u001b[43mbuffer\u001b[49m\u001b[43m)\u001b[49m\n\u001b[1;32m   1242\u001b[0m \u001b[38;5;28;01melse\u001b[39;00m:\n",
      "File \u001b[0;32m~/anaconda3/lib/python3.8/ssl.py:1099\u001b[0m, in \u001b[0;36mSSLSocket.read\u001b[0;34m(self, len, buffer)\u001b[0m\n\u001b[1;32m   1098\u001b[0m \u001b[38;5;28;01mif\u001b[39;00m buffer \u001b[38;5;129;01mis\u001b[39;00m \u001b[38;5;129;01mnot\u001b[39;00m \u001b[38;5;28;01mNone\u001b[39;00m:\n\u001b[0;32m-> 1099\u001b[0m     \u001b[38;5;28;01mreturn\u001b[39;00m \u001b[38;5;28;43mself\u001b[39;49m\u001b[38;5;241;43m.\u001b[39;49m\u001b[43m_sslobj\u001b[49m\u001b[38;5;241;43m.\u001b[39;49m\u001b[43mread\u001b[49m\u001b[43m(\u001b[49m\u001b[38;5;28;43mlen\u001b[39;49m\u001b[43m,\u001b[49m\u001b[43m \u001b[49m\u001b[43mbuffer\u001b[49m\u001b[43m)\u001b[49m\n\u001b[1;32m   1100\u001b[0m \u001b[38;5;28;01melse\u001b[39;00m:\n",
      "\u001b[0;31mProtocolError\u001b[0m: ('Connection aborted.', ConnectionResetError(104, 'Connection reset by peer'))",
      "\nDuring handling of the above exception, another exception occurred:\n",
      "\u001b[0;31mConnectionError\u001b[0m                           Traceback (most recent call last)",
      "File \u001b[0;32m~/anaconda3/lib/python3.8/site-packages/mastodon/internals.py:205\u001b[0m, in \u001b[0;36mMastodon.__api_request\u001b[0;34m(self, method, endpoint, params, files, headers, access_token_override, base_url_override, do_ratelimiting, use_json, parse, return_response_object, skip_error_check, lang_override)\u001b[0m\n\u001b[1;32m    203\u001b[0m         kwargs[\u001b[38;5;124m'\u001b[39m\u001b[38;5;124mdata\u001b[39m\u001b[38;5;124m'\u001b[39m] \u001b[38;5;241m=\u001b[39m params\n\u001b[0;32m--> 205\u001b[0m     response_object \u001b[38;5;241m=\u001b[39m \u001b[38;5;28;43mself\u001b[39;49m\u001b[38;5;241;43m.\u001b[39;49m\u001b[43msession\u001b[49m\u001b[38;5;241;43m.\u001b[39;49m\u001b[43mrequest\u001b[49m\u001b[43m(\u001b[49m\u001b[43mmethod\u001b[49m\u001b[43m,\u001b[49m\u001b[43m \u001b[49m\u001b[43mbase_url\u001b[49m\u001b[43m \u001b[49m\u001b[38;5;241;43m+\u001b[39;49m\u001b[43m \u001b[49m\u001b[43mendpoint\u001b[49m\u001b[43m,\u001b[49m\u001b[43m \u001b[49m\u001b[38;5;241;43m*\u001b[39;49m\u001b[38;5;241;43m*\u001b[39;49m\u001b[43mkwargs\u001b[49m\u001b[43m)\u001b[49m\n\u001b[1;32m    206\u001b[0m \u001b[38;5;28;01mexcept\u001b[39;00m \u001b[38;5;167;01mException\u001b[39;00m \u001b[38;5;28;01mas\u001b[39;00m e:\n",
      "File \u001b[0;32m~/anaconda3/lib/python3.8/site-packages/requests/sessions.py:587\u001b[0m, in \u001b[0;36mSession.request\u001b[0;34m(self, method, url, params, data, headers, cookies, files, auth, timeout, allow_redirects, proxies, hooks, stream, verify, cert, json)\u001b[0m\n\u001b[1;32m    586\u001b[0m send_kwargs\u001b[38;5;241m.\u001b[39mupdate(settings)\n\u001b[0;32m--> 587\u001b[0m resp \u001b[38;5;241m=\u001b[39m \u001b[38;5;28;43mself\u001b[39;49m\u001b[38;5;241;43m.\u001b[39;49m\u001b[43msend\u001b[49m\u001b[43m(\u001b[49m\u001b[43mprep\u001b[49m\u001b[43m,\u001b[49m\u001b[43m \u001b[49m\u001b[38;5;241;43m*\u001b[39;49m\u001b[38;5;241;43m*\u001b[39;49m\u001b[43msend_kwargs\u001b[49m\u001b[43m)\u001b[49m\n\u001b[1;32m    589\u001b[0m \u001b[38;5;28;01mreturn\u001b[39;00m resp\n",
      "File \u001b[0;32m~/anaconda3/lib/python3.8/site-packages/requests/sessions.py:701\u001b[0m, in \u001b[0;36mSession.send\u001b[0;34m(self, request, **kwargs)\u001b[0m\n\u001b[1;32m    700\u001b[0m \u001b[38;5;66;03m# Send the request\u001b[39;00m\n\u001b[0;32m--> 701\u001b[0m r \u001b[38;5;241m=\u001b[39m \u001b[43madapter\u001b[49m\u001b[38;5;241;43m.\u001b[39;49m\u001b[43msend\u001b[49m\u001b[43m(\u001b[49m\u001b[43mrequest\u001b[49m\u001b[43m,\u001b[49m\u001b[43m \u001b[49m\u001b[38;5;241;43m*\u001b[39;49m\u001b[38;5;241;43m*\u001b[39;49m\u001b[43mkwargs\u001b[49m\u001b[43m)\u001b[49m\n\u001b[1;32m    703\u001b[0m \u001b[38;5;66;03m# Total elapsed time of the request (approximately)\u001b[39;00m\n",
      "File \u001b[0;32m~/anaconda3/lib/python3.8/site-packages/requests/adapters.py:547\u001b[0m, in \u001b[0;36mHTTPAdapter.send\u001b[0;34m(self, request, stream, timeout, verify, cert, proxies)\u001b[0m\n\u001b[1;32m    546\u001b[0m \u001b[38;5;28;01mexcept\u001b[39;00m (ProtocolError, \u001b[38;5;167;01mOSError\u001b[39;00m) \u001b[38;5;28;01mas\u001b[39;00m err:\n\u001b[0;32m--> 547\u001b[0m     \u001b[38;5;28;01mraise\u001b[39;00m \u001b[38;5;167;01mConnectionError\u001b[39;00m(err, request\u001b[38;5;241m=\u001b[39mrequest)\n\u001b[1;32m    549\u001b[0m \u001b[38;5;28;01mexcept\u001b[39;00m MaxRetryError \u001b[38;5;28;01mas\u001b[39;00m e:\n",
      "\u001b[0;31mConnectionError\u001b[0m: ('Connection aborted.', ConnectionResetError(104, 'Connection reset by peer'))",
      "\nDuring handling of the above exception, another exception occurred:\n",
      "\u001b[0;31mMastodonNetworkError\u001b[0m                      Traceback (most recent call last)",
      "Input \u001b[0;32mIn [31]\u001b[0m, in \u001b[0;36m<cell line: 1>\u001b[0;34m()\u001b[0m\n\u001b[0;32m----> 1\u001b[0m result \u001b[38;5;241m=\u001b[39m \u001b[43mmastodon\u001b[49m\u001b[38;5;241;43m.\u001b[39;49m\u001b[43msearch\u001b[49m\u001b[43m(\u001b[49m\u001b[38;5;124;43m\"\u001b[39;49m\u001b[38;5;124;43m@janalasser\u001b[39;49m\u001b[38;5;124;43m\"\u001b[39;49m\u001b[43m)\u001b[49m\n",
      "File \u001b[0;32m~/anaconda3/lib/python3.8/site-packages/decorator.py:232\u001b[0m, in \u001b[0;36mdecorate.<locals>.fun\u001b[0;34m(*args, **kw)\u001b[0m\n\u001b[1;32m    230\u001b[0m \u001b[38;5;28;01mif\u001b[39;00m \u001b[38;5;129;01mnot\u001b[39;00m kwsyntax:\n\u001b[1;32m    231\u001b[0m     args, kw \u001b[38;5;241m=\u001b[39m fix(args, kw, sig)\n\u001b[0;32m--> 232\u001b[0m \u001b[38;5;28;01mreturn\u001b[39;00m \u001b[43mcaller\u001b[49m\u001b[43m(\u001b[49m\u001b[43mfunc\u001b[49m\u001b[43m,\u001b[49m\u001b[43m \u001b[49m\u001b[38;5;241;43m*\u001b[39;49m\u001b[43m(\u001b[49m\u001b[43mextras\u001b[49m\u001b[43m \u001b[49m\u001b[38;5;241;43m+\u001b[39;49m\u001b[43m \u001b[49m\u001b[43margs\u001b[49m\u001b[43m)\u001b[49m\u001b[43m,\u001b[49m\u001b[43m \u001b[49m\u001b[38;5;241;43m*\u001b[39;49m\u001b[38;5;241;43m*\u001b[39;49m\u001b[43mkw\u001b[49m\u001b[43m)\u001b[49m\n",
      "File \u001b[0;32m~/anaconda3/lib/python3.8/site-packages/mastodon/utility.py:49\u001b[0m, in \u001b[0;36mapi_version.<locals>.api_min_version_decorator.<locals>.wrapper\u001b[0;34m(function, self, *args, **kwargs)\u001b[0m\n\u001b[1;32m     47\u001b[0m     \u001b[38;5;28;01melif\u001b[39;00m major \u001b[38;5;241m==\u001b[39m \u001b[38;5;28mself\u001b[39m\u001b[38;5;241m.\u001b[39mmastodon_major \u001b[38;5;129;01mand\u001b[39;00m minor \u001b[38;5;241m==\u001b[39m \u001b[38;5;28mself\u001b[39m\u001b[38;5;241m.\u001b[39mmastodon_minor \u001b[38;5;129;01mand\u001b[39;00m patch \u001b[38;5;241m>\u001b[39m \u001b[38;5;28mself\u001b[39m\u001b[38;5;241m.\u001b[39mmastodon_patch:\n\u001b[1;32m     48\u001b[0m         \u001b[38;5;28;01mraise\u001b[39;00m MastodonVersionError(\u001b[38;5;124mf\u001b[39m\u001b[38;5;124m\"\u001b[39m\u001b[38;5;124mVersion check failed (Need version \u001b[39m\u001b[38;5;132;01m{\u001b[39;00mversion\u001b[38;5;132;01m}\u001b[39;00m\u001b[38;5;124m, patch is \u001b[39m\u001b[38;5;132;01m{\u001b[39;00m\u001b[38;5;28mself\u001b[39m\u001b[38;5;241m.\u001b[39mmastodon_patch\u001b[38;5;132;01m}\u001b[39;00m\u001b[38;5;124m)\u001b[39m\u001b[38;5;124m\"\u001b[39m)\n\u001b[0;32m---> 49\u001b[0m \u001b[38;5;28;01mreturn\u001b[39;00m \u001b[43mfunction\u001b[49m\u001b[43m(\u001b[49m\u001b[38;5;28;43mself\u001b[39;49m\u001b[43m,\u001b[49m\u001b[43m \u001b[49m\u001b[38;5;241;43m*\u001b[39;49m\u001b[43margs\u001b[49m\u001b[43m,\u001b[49m\u001b[43m \u001b[49m\u001b[38;5;241;43m*\u001b[39;49m\u001b[38;5;241;43m*\u001b[39;49m\u001b[43mkwargs\u001b[49m\u001b[43m)\u001b[49m\n",
      "File \u001b[0;32m~/anaconda3/lib/python3.8/site-packages/mastodon/search.py:51\u001b[0m, in \u001b[0;36mMastodon.search\u001b[0;34m(self, q, resolve, result_type, account_id, offset, min_id, max_id, exclude_unreviewed)\u001b[0m\n\u001b[1;32m     25\u001b[0m \u001b[38;5;124;03m\"\"\"\u001b[39;00m\n\u001b[1;32m     26\u001b[0m \u001b[38;5;124;03mFetch matching hashtags, accounts and statuses. Will perform webfinger\u001b[39;00m\n\u001b[1;32m     27\u001b[0m \u001b[38;5;124;03mlookups if resolve is True. Full-text search is only enabled if\u001b[39;00m\n\u001b[0;32m   (...)\u001b[0m\n\u001b[1;32m     48\u001b[0m \u001b[38;5;124;03mReturns a :ref:`search result dict <search result dict>`, with tags as `hashtag dicts`_.\u001b[39;00m\n\u001b[1;32m     49\u001b[0m \u001b[38;5;124;03m\"\"\"\u001b[39;00m\n\u001b[1;32m     50\u001b[0m \u001b[38;5;28;01mif\u001b[39;00m \u001b[38;5;28mself\u001b[39m\u001b[38;5;241m.\u001b[39mverify_minimum_version(\u001b[38;5;124m\"\u001b[39m\u001b[38;5;124m2.4.1\u001b[39m\u001b[38;5;124m\"\u001b[39m, cached\u001b[38;5;241m=\u001b[39m\u001b[38;5;28;01mTrue\u001b[39;00m):\n\u001b[0;32m---> 51\u001b[0m     \u001b[38;5;28;01mreturn\u001b[39;00m \u001b[38;5;28;43mself\u001b[39;49m\u001b[38;5;241;43m.\u001b[39;49m\u001b[43msearch_v2\u001b[49m\u001b[43m(\u001b[49m\u001b[43mq\u001b[49m\u001b[43m,\u001b[49m\u001b[43m \u001b[49m\u001b[43mresolve\u001b[49m\u001b[38;5;241;43m=\u001b[39;49m\u001b[43mresolve\u001b[49m\u001b[43m,\u001b[49m\u001b[43m \u001b[49m\u001b[43mresult_type\u001b[49m\u001b[38;5;241;43m=\u001b[39;49m\u001b[43mresult_type\u001b[49m\u001b[43m,\u001b[49m\u001b[43m \u001b[49m\u001b[43maccount_id\u001b[49m\u001b[38;5;241;43m=\u001b[39;49m\u001b[43maccount_id\u001b[49m\u001b[43m,\u001b[49m\u001b[43m \u001b[49m\u001b[43moffset\u001b[49m\u001b[38;5;241;43m=\u001b[39;49m\u001b[43moffset\u001b[49m\u001b[43m,\u001b[49m\u001b[43m \u001b[49m\u001b[43mmin_id\u001b[49m\u001b[38;5;241;43m=\u001b[39;49m\u001b[43mmin_id\u001b[49m\u001b[43m,\u001b[49m\u001b[43m \u001b[49m\u001b[43mmax_id\u001b[49m\u001b[38;5;241;43m=\u001b[39;49m\u001b[43mmax_id\u001b[49m\u001b[43m,\u001b[49m\u001b[43m \u001b[49m\u001b[43mexclude_unreviewed\u001b[49m\u001b[38;5;241;43m=\u001b[39;49m\u001b[43mexclude_unreviewed\u001b[49m\u001b[43m)\u001b[49m\n\u001b[1;32m     52\u001b[0m \u001b[38;5;28;01melse\u001b[39;00m:\n\u001b[1;32m     53\u001b[0m     \u001b[38;5;28mself\u001b[39m\u001b[38;5;241m.\u001b[39m__ensure_search_params_acceptable(account_id, offset, min_id, max_id)\n",
      "File \u001b[0;32m~/anaconda3/lib/python3.8/site-packages/decorator.py:232\u001b[0m, in \u001b[0;36mdecorate.<locals>.fun\u001b[0;34m(*args, **kw)\u001b[0m\n\u001b[1;32m    230\u001b[0m \u001b[38;5;28;01mif\u001b[39;00m \u001b[38;5;129;01mnot\u001b[39;00m kwsyntax:\n\u001b[1;32m    231\u001b[0m     args, kw \u001b[38;5;241m=\u001b[39m fix(args, kw, sig)\n\u001b[0;32m--> 232\u001b[0m \u001b[38;5;28;01mreturn\u001b[39;00m \u001b[43mcaller\u001b[49m\u001b[43m(\u001b[49m\u001b[43mfunc\u001b[49m\u001b[43m,\u001b[49m\u001b[43m \u001b[49m\u001b[38;5;241;43m*\u001b[39;49m\u001b[43m(\u001b[49m\u001b[43mextras\u001b[49m\u001b[43m \u001b[49m\u001b[38;5;241;43m+\u001b[39;49m\u001b[43m \u001b[49m\u001b[43margs\u001b[49m\u001b[43m)\u001b[49m\u001b[43m,\u001b[49m\u001b[43m \u001b[49m\u001b[38;5;241;43m*\u001b[39;49m\u001b[38;5;241;43m*\u001b[39;49m\u001b[43mkw\u001b[49m\u001b[43m)\u001b[49m\n",
      "File \u001b[0;32m~/anaconda3/lib/python3.8/site-packages/mastodon/utility.py:49\u001b[0m, in \u001b[0;36mapi_version.<locals>.api_min_version_decorator.<locals>.wrapper\u001b[0;34m(function, self, *args, **kwargs)\u001b[0m\n\u001b[1;32m     47\u001b[0m     \u001b[38;5;28;01melif\u001b[39;00m major \u001b[38;5;241m==\u001b[39m \u001b[38;5;28mself\u001b[39m\u001b[38;5;241m.\u001b[39mmastodon_major \u001b[38;5;129;01mand\u001b[39;00m minor \u001b[38;5;241m==\u001b[39m \u001b[38;5;28mself\u001b[39m\u001b[38;5;241m.\u001b[39mmastodon_minor \u001b[38;5;129;01mand\u001b[39;00m patch \u001b[38;5;241m>\u001b[39m \u001b[38;5;28mself\u001b[39m\u001b[38;5;241m.\u001b[39mmastodon_patch:\n\u001b[1;32m     48\u001b[0m         \u001b[38;5;28;01mraise\u001b[39;00m MastodonVersionError(\u001b[38;5;124mf\u001b[39m\u001b[38;5;124m\"\u001b[39m\u001b[38;5;124mVersion check failed (Need version \u001b[39m\u001b[38;5;132;01m{\u001b[39;00mversion\u001b[38;5;132;01m}\u001b[39;00m\u001b[38;5;124m, patch is \u001b[39m\u001b[38;5;132;01m{\u001b[39;00m\u001b[38;5;28mself\u001b[39m\u001b[38;5;241m.\u001b[39mmastodon_patch\u001b[38;5;132;01m}\u001b[39;00m\u001b[38;5;124m)\u001b[39m\u001b[38;5;124m\"\u001b[39m)\n\u001b[0;32m---> 49\u001b[0m \u001b[38;5;28;01mreturn\u001b[39;00m \u001b[43mfunction\u001b[49m\u001b[43m(\u001b[49m\u001b[38;5;28;43mself\u001b[39;49m\u001b[43m,\u001b[49m\u001b[43m \u001b[49m\u001b[38;5;241;43m*\u001b[39;49m\u001b[43margs\u001b[49m\u001b[43m,\u001b[49m\u001b[43m \u001b[49m\u001b[38;5;241;43m*\u001b[39;49m\u001b[38;5;241;43m*\u001b[39;49m\u001b[43mkwargs\u001b[49m\u001b[43m)\u001b[49m\n",
      "File \u001b[0;32m~/anaconda3/lib/python3.8/site-packages/mastodon/search.py:92\u001b[0m, in \u001b[0;36mMastodon.search_v2\u001b[0;34m(self, q, resolve, result_type, account_id, offset, min_id, max_id, exclude_unreviewed)\u001b[0m\n\u001b[1;32m     89\u001b[0m     params[\u001b[38;5;124m\"\u001b[39m\u001b[38;5;124mtype\u001b[39m\u001b[38;5;124m\"\u001b[39m] \u001b[38;5;241m=\u001b[39m params[\u001b[38;5;124m\"\u001b[39m\u001b[38;5;124mresult_type\u001b[39m\u001b[38;5;124m\"\u001b[39m]\n\u001b[1;32m     90\u001b[0m     \u001b[38;5;28;01mdel\u001b[39;00m params[\u001b[38;5;124m\"\u001b[39m\u001b[38;5;124mresult_type\u001b[39m\u001b[38;5;124m\"\u001b[39m]\n\u001b[0;32m---> 92\u001b[0m \u001b[38;5;28;01mreturn\u001b[39;00m \u001b[38;5;28;43mself\u001b[39;49m\u001b[38;5;241;43m.\u001b[39;49m\u001b[43m__api_request\u001b[49m\u001b[43m(\u001b[49m\u001b[38;5;124;43m'\u001b[39;49m\u001b[38;5;124;43mGET\u001b[39;49m\u001b[38;5;124;43m'\u001b[39;49m\u001b[43m,\u001b[49m\u001b[43m \u001b[49m\u001b[38;5;124;43m'\u001b[39;49m\u001b[38;5;124;43m/api/v2/search\u001b[39;49m\u001b[38;5;124;43m'\u001b[39;49m\u001b[43m,\u001b[49m\u001b[43m \u001b[49m\u001b[43mparams\u001b[49m\u001b[43m)\u001b[49m\n",
      "File \u001b[0;32m~/anaconda3/lib/python3.8/site-packages/mastodon/internals.py:207\u001b[0m, in \u001b[0;36mMastodon.__api_request\u001b[0;34m(self, method, endpoint, params, files, headers, access_token_override, base_url_override, do_ratelimiting, use_json, parse, return_response_object, skip_error_check, lang_override)\u001b[0m\n\u001b[1;32m    205\u001b[0m     response_object \u001b[38;5;241m=\u001b[39m \u001b[38;5;28mself\u001b[39m\u001b[38;5;241m.\u001b[39msession\u001b[38;5;241m.\u001b[39mrequest(method, base_url \u001b[38;5;241m+\u001b[39m endpoint, \u001b[38;5;241m*\u001b[39m\u001b[38;5;241m*\u001b[39mkwargs)\n\u001b[1;32m    206\u001b[0m \u001b[38;5;28;01mexcept\u001b[39;00m \u001b[38;5;167;01mException\u001b[39;00m \u001b[38;5;28;01mas\u001b[39;00m e:\n\u001b[0;32m--> 207\u001b[0m     \u001b[38;5;28;01mraise\u001b[39;00m MastodonNetworkError(\u001b[38;5;124mf\u001b[39m\u001b[38;5;124m\"\u001b[39m\u001b[38;5;124mCould not complete request: \u001b[39m\u001b[38;5;132;01m{\u001b[39;00me\u001b[38;5;132;01m}\u001b[39;00m\u001b[38;5;124m\"\u001b[39m)\n\u001b[1;32m    209\u001b[0m \u001b[38;5;28;01mif\u001b[39;00m response_object \u001b[38;5;129;01mis\u001b[39;00m \u001b[38;5;28;01mNone\u001b[39;00m:\n\u001b[1;32m    210\u001b[0m     \u001b[38;5;28;01mraise\u001b[39;00m MastodonIllegalArgumentError(\u001b[38;5;124m\"\u001b[39m\u001b[38;5;124mIllegal request.\u001b[39m\u001b[38;5;124m\"\u001b[39m)\n",
      "\u001b[0;31mMastodonNetworkError\u001b[0m: Could not complete request: ('Connection aborted.', ConnectionResetError(104, 'Connection reset by peer'))"
     ]
    }
   ],
   "source": [
    "result = mastodon.search(\"@janalasser\")"
   ]
  },
  {
   "cell_type": "code",
   "execution_count": 30,
   "id": "59e41ae2-5585-4534-9e06-0127d431743e",
   "metadata": {},
   "outputs": [
    {
     "data": {
      "text/plain": [
       "{'accounts': [{'id': 109257851215221327,\n",
       "   'username': 'janalasser',\n",
       "   'acct': 'janalasser',\n",
       "   'display_name': 'Jana Lasser',\n",
       "   'locked': False,\n",
       "   'bot': False,\n",
       "   'discoverable': True,\n",
       "   'group': False,\n",
       "   'created_at': datetime.datetime(2022, 10, 30, 0, 0, tzinfo=tzutc()),\n",
       "   'note': '<p>PostDoc @tugraz | Computational Social Science, Data Science, complex systems,  comp. modelling | <a href=\"https://mastodon.social/tags/OpenScience\" class=\"mention hashtag\" rel=\"tag\">#<span>OpenScience</span></a>, <a href=\"https://mastodon.social/tags/coder\" class=\"mention hashtag\" rel=\"tag\">#<span>coder</span></a> | advisory board @N2PhDNet | she/her</p>',\n",
       "   'url': 'https://mastodon.social/@janalasser',\n",
       "   'uri': 'https://mastodon.social/users/janalasser',\n",
       "   'avatar': 'https://files.mastodon.social/accounts/avatars/109/257/851/215/221/327/original/f6e0a5b75861e76a.png',\n",
       "   'avatar_static': 'https://files.mastodon.social/accounts/avatars/109/257/851/215/221/327/original/f6e0a5b75861e76a.png',\n",
       "   'header': 'https://mastodon.social/headers/original/missing.png',\n",
       "   'header_static': 'https://mastodon.social/headers/original/missing.png',\n",
       "   'followers_count': 372,\n",
       "   'following_count': 251,\n",
       "   'statuses_count': 40,\n",
       "   'last_status_at': datetime.datetime(2023, 8, 15, 0, 0),\n",
       "   'noindex': False,\n",
       "   'emojis': [],\n",
       "   'roles': [],\n",
       "   'fields': []}],\n",
       " 'statuses': [],\n",
       " 'hashtags': []}"
      ]
     },
     "execution_count": 30,
     "metadata": {},
     "output_type": "execute_result"
    }
   ],
   "source": [
    "result"
   ]
  },
  {
   "cell_type": "markdown",
   "id": "5fe0bf7d-def1-4e3d-b8d8-83591794c205",
   "metadata": {},
   "source": [
    "# TODO"
   ]
  },
  {
   "cell_type": "markdown",
   "id": "632b0387-2bb1-40a1-8ecf-acd91162a95d",
   "metadata": {},
   "source": [
    "## GitHub"
   ]
  },
  {
   "cell_type": "markdown",
   "id": "17cb3366-914d-43a3-8676-2fae41f82c3a",
   "metadata": {},
   "source": [
    "**Note:** Didn't get it to work yet"
   ]
  },
  {
   "cell_type": "markdown",
   "id": "a9c20624-b948-4104-8abe-2c25f0224b77",
   "metadata": {},
   "source": [
    "* API [usage example](https://melaniesoek0120.medium.com/how-to-use-github-api-to-extract-data-with-python-bdc61106a501)"
   ]
  },
  {
   "cell_type": "markdown",
   "id": "0ee609ae-1125-44d2-ab6d-9d41b917e5b6",
   "metadata": {},
   "source": [
    "## VK"
   ]
  },
  {
   "cell_type": "code",
   "execution_count": null,
   "id": "a390c7f9-2b08-4bd4-b79a-51caf47a2549",
   "metadata": {},
   "outputs": [],
   "source": []
  },
  {
   "cell_type": "markdown",
   "id": "39cbff20-61d2-4377-9c03-1a5b1328ae68",
   "metadata": {},
   "source": [
    "# Deprecated"
   ]
  },
  {
   "cell_type": "markdown",
   "id": "eb4a1a4c-0cd2-4562-b100-82a155b7ffb4",
   "metadata": {},
   "source": [
    "## Twitter v2 API"
   ]
  },
  {
   "cell_type": "markdown",
   "id": "314271bc-ccb4-491d-b782-bfe8994c36bd",
   "metadata": {},
   "source": [
    "**Useful links**  \n",
    "* API [Documentation](https://developer.twitter.com/en/docs/twitter-api)  \n",
    "* Wrapper `twarc` [Documentation](https://twarc-project.readthedocs.io/en/latest/api/client2/)\n",
    "* Alternative wrapper `tweepy` [Documentation](https://www.tweepy.org/)  \n",
    "* Sample [code snippets](https://github.com/twitterdev/Twitter-API-v2-sample-code)  \n",
    "* Developer [forum](https://twittercommunity.com/)"
   ]
  },
  {
   "cell_type": "code",
   "execution_count": null,
   "id": "6d33611b-e100-433f-bda4-bbb8b6985140",
   "metadata": {},
   "outputs": [],
   "source": [
    "# install the python wrapper\n",
    "! pip install twarc"
   ]
  },
  {
   "cell_type": "code",
   "execution_count": 19,
   "id": "014f1412-7863-45be-a274-a68b7613d9e2",
   "metadata": {},
   "outputs": [],
   "source": [
    "# import the python wrapper\n",
    "from twarc import Twarc2"
   ]
  },
  {
   "cell_type": "code",
   "execution_count": 27,
   "id": "5eb203ac-0bb8-4199-90a0-35764bd3b70e",
   "metadata": {},
   "outputs": [],
   "source": [
    "# authentification\n",
    "bearer_token = \"XXX\" # replace the XXX with your bearer token\n",
    "twarc_client = Twarc2(bearer_token=bearer_token)"
   ]
  },
  {
   "cell_type": "markdown",
   "id": "c05c163c-a19b-4e34-8520-a058e354fd65",
   "metadata": {},
   "source": [
    "### Search endpoint"
   ]
  },
  {
   "cell_type": "markdown",
   "id": "edf1719b-bc23-432e-9a2a-578d36f99780",
   "metadata": {},
   "source": [
    "Search Twitter for tweets containing the search string in the specified time window and store all the results in the list."
   ]
  },
  {
   "cell_type": "code",
   "execution_count": 28,
   "id": "9152ca48-40f9-4ae9-80e8-85f1434f650d",
   "metadata": {},
   "outputs": [],
   "source": [
    "# empty list to store the search results\n",
    "tweets = [] \n",
    "\n",
    "# tweets we look for should contain the following search string\n",
    "query = '#SICSS'\n",
    "\n",
    "# start and end time of the query\n",
    "start = datetime(2022, 7, 1, 0, 0, 0, 0, tzinfo=timezone.utc)\n",
    "end = datetime(2022, 7, 5, 0, 0, 0, 0, tzinfo=timezone.utc)\n",
    "\n",
    "# Note: if you only have \"essential\" or \"elevated\" API access, you have to use\n",
    "# the function search_recent() and can only access tweets from the last 7 days.\n",
    "# If you have \"academic\" access, you can use the search_all() function as in the\n",
    "# example to access historic tweets back to march 2010 when Twitter was founded.\n",
    "for tweet in twarc_client.search_all(\n",
    "        query,\n",
    "        start_time=start,\n",
    "        end_time=end):\n",
    "    tweets.append(tweet)"
   ]
  },
  {
   "cell_type": "code",
   "execution_count": 29,
   "id": "3dfe5ea8-7c2b-4b99-a472-faaea0c60b2e",
   "metadata": {},
   "outputs": [
    {
     "data": {
      "text/plain": [
       "{'reply_settings': 'everyone',\n",
       " 'conversation_id': '1544068730291888130',\n",
       " 'lang': 'en',\n",
       " 'entities': {'mentions': [{'start': 3,\n",
       "    'end': 15,\n",
       "    'username': 'ruettenauer',\n",
       "    'id': '397991469'}]},\n",
       " 'referenced_tweets': [{'type': 'retweeted', 'id': '1407011287717060610'}],\n",
       " 'text': 'RT @ruettenauer: In case you are interested in a short introduction to geospatial data and analysis 🌍🧐, have a look at the course materials…',\n",
       " 'possibly_sensitive': False,\n",
       " 'author_id': '1550709612',\n",
       " 'public_metrics': {'retweet_count': 24,\n",
       "  'reply_count': 0,\n",
       "  'like_count': 0,\n",
       "  'quote_count': 0},\n",
       " 'created_at': '2022-07-04T21:20:47.000Z',\n",
       " 'id': '1544068730291888130',\n",
       " 'source': 'Twitter for Android'}"
      ]
     },
     "execution_count": 29,
     "metadata": {},
     "output_type": "execute_result"
    }
   ],
   "source": [
    "# inspecting a single tweet object\n",
    "tweets[0][\"data\"][0]"
   ]
  },
  {
   "cell_type": "code",
   "execution_count": 38,
   "id": "ab1ff0bd-f7d7-45c3-8535-dcfdd36527f9",
   "metadata": {},
   "outputs": [
    {
     "data": {
      "text/html": [
       "<div>\n",
       "<style scoped>\n",
       "    .dataframe tbody tr th:only-of-type {\n",
       "        vertical-align: middle;\n",
       "    }\n",
       "\n",
       "    .dataframe tbody tr th {\n",
       "        vertical-align: top;\n",
       "    }\n",
       "\n",
       "    .dataframe thead th {\n",
       "        text-align: right;\n",
       "    }\n",
       "</style>\n",
       "<table border=\"1\" class=\"dataframe\">\n",
       "  <thead>\n",
       "    <tr style=\"text-align: right;\">\n",
       "      <th></th>\n",
       "      <th>reply_settings</th>\n",
       "      <th>conversation_id</th>\n",
       "      <th>lang</th>\n",
       "      <th>referenced_tweets</th>\n",
       "      <th>text</th>\n",
       "      <th>possibly_sensitive</th>\n",
       "      <th>author_id</th>\n",
       "      <th>created_at</th>\n",
       "      <th>id</th>\n",
       "      <th>source</th>\n",
       "      <th>...</th>\n",
       "      <th>in_reply_to_user.protected</th>\n",
       "      <th>in_reply_to_user.profile_image_url</th>\n",
       "      <th>author.entities.description.hashtags</th>\n",
       "      <th>author.entities.description.mentions</th>\n",
       "      <th>context_annotations</th>\n",
       "      <th>entities.urls</th>\n",
       "      <th>entities.annotations</th>\n",
       "      <th>attachments.media_keys</th>\n",
       "      <th>attachments.media</th>\n",
       "      <th>in_reply_to_user.entities.url.urls</th>\n",
       "    </tr>\n",
       "  </thead>\n",
       "  <tbody>\n",
       "    <tr>\n",
       "      <th>0</th>\n",
       "      <td>everyone</td>\n",
       "      <td>1544068730291888130</td>\n",
       "      <td>en</td>\n",
       "      <td>[{'type': 'retweeted', 'id': '1407011287717060...</td>\n",
       "      <td>RT @ruettenauer: In case you are interested in...</td>\n",
       "      <td>False</td>\n",
       "      <td>1550709612</td>\n",
       "      <td>2022-07-04T21:20:47.000Z</td>\n",
       "      <td>1544068730291888130</td>\n",
       "      <td>Twitter for Android</td>\n",
       "      <td>...</td>\n",
       "      <td>NaN</td>\n",
       "      <td>NaN</td>\n",
       "      <td>NaN</td>\n",
       "      <td>NaN</td>\n",
       "      <td>NaN</td>\n",
       "      <td>NaN</td>\n",
       "      <td>NaN</td>\n",
       "      <td>NaN</td>\n",
       "      <td>NaN</td>\n",
       "      <td>NaN</td>\n",
       "    </tr>\n",
       "    <tr>\n",
       "      <th>1</th>\n",
       "      <td>everyone</td>\n",
       "      <td>1544060779397349383</td>\n",
       "      <td>pt</td>\n",
       "      <td>[{'type': 'replied_to', 'id': '154406077939734...</td>\n",
       "      <td>Parabéns a toda equipe que organizou esse fant...</td>\n",
       "      <td>False</td>\n",
       "      <td>787115307756359680</td>\n",
       "      <td>2022-07-04T20:49:12.000Z</td>\n",
       "      <td>1544060782488559620</td>\n",
       "      <td>Twitter Web App</td>\n",
       "      <td>...</td>\n",
       "      <td>False</td>\n",
       "      <td>https://pbs.twimg.com/profile_images/142552424...</td>\n",
       "      <td>NaN</td>\n",
       "      <td>NaN</td>\n",
       "      <td>NaN</td>\n",
       "      <td>NaN</td>\n",
       "      <td>NaN</td>\n",
       "      <td>NaN</td>\n",
       "      <td>NaN</td>\n",
       "      <td>NaN</td>\n",
       "    </tr>\n",
       "  </tbody>\n",
       "</table>\n",
       "<p>2 rows × 58 columns</p>\n",
       "</div>"
      ],
      "text/plain": [
       "  reply_settings      conversation_id lang  \\\n",
       "0       everyone  1544068730291888130   en   \n",
       "1       everyone  1544060779397349383   pt   \n",
       "\n",
       "                                   referenced_tweets  \\\n",
       "0  [{'type': 'retweeted', 'id': '1407011287717060...   \n",
       "1  [{'type': 'replied_to', 'id': '154406077939734...   \n",
       "\n",
       "                                                text  possibly_sensitive  \\\n",
       "0  RT @ruettenauer: In case you are interested in...               False   \n",
       "1  Parabéns a toda equipe que organizou esse fant...               False   \n",
       "\n",
       "            author_id                created_at                   id  \\\n",
       "0          1550709612  2022-07-04T21:20:47.000Z  1544068730291888130   \n",
       "1  787115307756359680  2022-07-04T20:49:12.000Z  1544060782488559620   \n",
       "\n",
       "                source  ... in_reply_to_user.protected  \\\n",
       "0  Twitter for Android  ...                        NaN   \n",
       "1      Twitter Web App  ...                      False   \n",
       "\n",
       "                  in_reply_to_user.profile_image_url  \\\n",
       "0                                                NaN   \n",
       "1  https://pbs.twimg.com/profile_images/142552424...   \n",
       "\n",
       "   author.entities.description.hashtags  author.entities.description.mentions  \\\n",
       "0                                   NaN                                   NaN   \n",
       "1                                   NaN                                   NaN   \n",
       "\n",
       "   context_annotations entities.urls entities.annotations  \\\n",
       "0                  NaN           NaN                  NaN   \n",
       "1                  NaN           NaN                  NaN   \n",
       "\n",
       "  attachments.media_keys  attachments.media in_reply_to_user.entities.url.urls  \n",
       "0                    NaN                NaN                                NaN  \n",
       "1                    NaN                NaN                                NaN  \n",
       "\n",
       "[2 rows x 58 columns]"
      ]
     },
     "execution_count": 38,
     "metadata": {},
     "output_type": "execute_result"
    }
   ],
   "source": [
    "# converting the JSON entries to a pandas DataFrame\n",
    "df = pd.json_normalize(tweets, record_path=['data'])\n",
    "df.head(2)"
   ]
  },
  {
   "cell_type": "markdown",
   "id": "908f246c-4443-4ea5-876b-f047e9b8a7e0",
   "metadata": {},
   "source": [
    "### Counts endpoint"
   ]
  },
  {
   "cell_type": "code",
   "execution_count": 70,
   "id": "e058049a-969b-40c9-b044-4be0778b813c",
   "metadata": {},
   "outputs": [],
   "source": [
    "# if you don't have academic level access, use counts_recent() to access tweet\n",
    "# counts for the last 7 days\n",
    "\n",
    "query = '#SICSS'\n",
    "start = datetime(2021, 1, 1, 0, 0, 0, 0, tzinfo=timezone.utc)\n",
    "end = datetime(2022, 7, 5, 0, 0, 0, 0, tzinfo=timezone.utc)\n",
    "\n",
    "day_counts = []\n",
    "for c in twarc_client.counts_all(\n",
    "    query, \n",
    "    start_time=start, \n",
    "    end_time=end, \n",
    "    granularity='day'):\n",
    "    \n",
    "    day_counts.extend(c['data'])"
   ]
  },
  {
   "cell_type": "code",
   "execution_count": 71,
   "id": "9a69dab1-b435-4f1d-bf9e-c1b0166dd930",
   "metadata": {},
   "outputs": [
    {
     "data": {
      "text/plain": [
       "{'end': '2022-06-05T00:00:00.000Z',\n",
       " 'start': '2022-06-04T00:00:00.000Z',\n",
       " 'tweet_count': 0}"
      ]
     },
     "execution_count": 71,
     "metadata": {},
     "output_type": "execute_result"
    }
   ],
   "source": [
    "# inspecting a single count\n",
    "day_counts[0]"
   ]
  },
  {
   "cell_type": "code",
   "execution_count": 72,
   "id": "0a2f9f30-c45d-4a0a-a19e-b9fd3882ecc7",
   "metadata": {},
   "outputs": [],
   "source": [
    "# saving the JSON to a file\n",
    "with open(\"counts.json\", \"w\") as counts_file:\n",
    "    json_object = json.dumps(day_counts)\n",
    "    counts_file.write(json_object)"
   ]
  },
  {
   "cell_type": "code",
   "execution_count": 73,
   "id": "f22d844e-c04e-422d-ac06-95a276e3fbe0",
   "metadata": {},
   "outputs": [
    {
     "data": {
      "text/html": [
       "<div>\n",
       "<style scoped>\n",
       "    .dataframe tbody tr th:only-of-type {\n",
       "        vertical-align: middle;\n",
       "    }\n",
       "\n",
       "    .dataframe tbody tr th {\n",
       "        vertical-align: top;\n",
       "    }\n",
       "\n",
       "    .dataframe thead th {\n",
       "        text-align: right;\n",
       "    }\n",
       "</style>\n",
       "<table border=\"1\" class=\"dataframe\">\n",
       "  <thead>\n",
       "    <tr style=\"text-align: right;\">\n",
       "      <th></th>\n",
       "      <th>end</th>\n",
       "      <th>start</th>\n",
       "      <th>tweet_count</th>\n",
       "    </tr>\n",
       "  </thead>\n",
       "  <tbody>\n",
       "    <tr>\n",
       "      <th>0</th>\n",
       "      <td>2022-06-05T00:00:00.000Z</td>\n",
       "      <td>2022-06-04T00:00:00.000Z</td>\n",
       "      <td>0</td>\n",
       "    </tr>\n",
       "    <tr>\n",
       "      <th>1</th>\n",
       "      <td>2022-06-06T00:00:00.000Z</td>\n",
       "      <td>2022-06-05T00:00:00.000Z</td>\n",
       "      <td>0</td>\n",
       "    </tr>\n",
       "  </tbody>\n",
       "</table>\n",
       "</div>"
      ],
      "text/plain": [
       "                        end                     start  tweet_count\n",
       "0  2022-06-05T00:00:00.000Z  2022-06-04T00:00:00.000Z            0\n",
       "1  2022-06-06T00:00:00.000Z  2022-06-05T00:00:00.000Z            0"
      ]
     },
     "execution_count": 73,
     "metadata": {},
     "output_type": "execute_result"
    }
   ],
   "source": [
    "# reading the JSON file into a pandas DataFrame\n",
    "df = pd.read_json(\"counts.json\")\n",
    "df.head(2)"
   ]
  },
  {
   "cell_type": "code",
   "execution_count": 75,
   "id": "4c8f6e66-aa5f-44bd-aed0-f441a132542f",
   "metadata": {},
   "outputs": [
    {
     "data": {
      "text/html": [
       "<div>\n",
       "<style scoped>\n",
       "    .dataframe tbody tr th:only-of-type {\n",
       "        vertical-align: middle;\n",
       "    }\n",
       "\n",
       "    .dataframe tbody tr th {\n",
       "        vertical-align: top;\n",
       "    }\n",
       "\n",
       "    .dataframe thead th {\n",
       "        text-align: right;\n",
       "    }\n",
       "</style>\n",
       "<table border=\"1\" class=\"dataframe\">\n",
       "  <thead>\n",
       "    <tr style=\"text-align: right;\">\n",
       "      <th></th>\n",
       "      <th>end</th>\n",
       "      <th>start</th>\n",
       "      <th>tweet_count</th>\n",
       "    </tr>\n",
       "  </thead>\n",
       "  <tbody>\n",
       "    <tr>\n",
       "      <th>0</th>\n",
       "      <td>2022-06-05 00:00:00+00:00</td>\n",
       "      <td>2022-06-04 00:00:00+00:00</td>\n",
       "      <td>0</td>\n",
       "    </tr>\n",
       "    <tr>\n",
       "      <th>1</th>\n",
       "      <td>2022-06-06 00:00:00+00:00</td>\n",
       "      <td>2022-06-05 00:00:00+00:00</td>\n",
       "      <td>0</td>\n",
       "    </tr>\n",
       "  </tbody>\n",
       "</table>\n",
       "</div>"
      ],
      "text/plain": [
       "                        end                     start  tweet_count\n",
       "0 2022-06-05 00:00:00+00:00 2022-06-04 00:00:00+00:00            0\n",
       "1 2022-06-06 00:00:00+00:00 2022-06-05 00:00:00+00:00            0"
      ]
     },
     "execution_count": 75,
     "metadata": {},
     "output_type": "execute_result"
    }
   ],
   "source": [
    "# converting the start and end time into a datetime object\n",
    "df[\"start\"] = pd.to_datetime(df[\"start\"])\n",
    "df[\"end\"] = pd.to_datetime(df[\"end\"])\n",
    "df.head(2)"
   ]
  },
  {
   "cell_type": "code",
   "execution_count": 77,
   "id": "9da650b7-5dd4-49ea-a782-1f4cb9357443",
   "metadata": {},
   "outputs": [],
   "source": [
    "# sort counts by start date\n",
    "df = df.sort_values(by=\"start\", ascending=True)"
   ]
  },
  {
   "cell_type": "code",
   "execution_count": 79,
   "id": "acf5ad0f-c4d8-4b0c-8096-180d64b7520e",
   "metadata": {},
   "outputs": [
    {
     "data": {
      "text/plain": [
       "Text(0.5, 1.0, 'tweets with #SICSS')"
      ]
     },
     "execution_count": 79,
     "metadata": {},
     "output_type": "execute_result"
    },
    {
     "data": {
      "image/png": "[encoded data removed]",
      "text/plain": [
       "<Figure size 432x288 with 1 Axes>"
      ]
     },
     "metadata": {
      "needs_background": "light"
     },
     "output_type": "display_data"
    }
   ],
   "source": [
    "# visualize results\n",
    "fig, ax = plt.subplots()\n",
    "ax.plot(df[\"start\"], df[\"tweet_count\"])\n",
    "ax.set_ylabel(\"count\")\n",
    "ax.set_title(\"tweets with #SICSS\")"
   ]
  },
  {
   "cell_type": "markdown",
   "id": "adc8697c-4a41-4f4f-b1e6-e02679ba4fbd",
   "metadata": {},
   "source": [
    "## Twitter v2 API with tweepy"
   ]
  },
  {
   "cell_type": "code",
   "execution_count": null,
   "id": "9c73124f-01a3-4ae0-9be9-e5c49190c0e9",
   "metadata": {},
   "outputs": [],
   "source": [
    "! pip install tweepy"
   ]
  },
  {
   "cell_type": "code",
   "execution_count": 74,
   "id": "d637d7bd-a8f3-45ed-aac4-cfd52735f22e",
   "metadata": {},
   "outputs": [],
   "source": [
    "import tweepy\n",
    "client = tweepy.Client(bearer_token=\"XXX\")"
   ]
  },
  {
   "cell_type": "code",
   "execution_count": 75,
   "id": "6cd6628e-f1dd-4037-888d-48012bcc38ef",
   "metadata": {},
   "outputs": [],
   "source": [
    "IDs = ['1503551557735833603', '1503551557731770369',\n",
    "       '1503551557769445376', '1503551557735960581',\n",
    "       '1503551557757181953', '1503551557744291841',\n",
    "       '1503551557769601025', '1503551557765562368',\n",
    "       '1503551557740150785', '1503551557753016322']"
   ]
  },
  {
   "cell_type": "code",
   "execution_count": 77,
   "id": "2af99d43-b33d-4e2e-97cb-cfca35501675",
   "metadata": {},
   "outputs": [],
   "source": [
    "tweets = client.get_tweets(IDs, tweet_fields=[\"public_metrics\"])"
   ]
  },
  {
   "cell_type": "code",
   "execution_count": 88,
   "id": "9a817f18-1472-4a6c-8c41-358a7210c06e",
   "metadata": {},
   "outputs": [
    {
     "data": {
      "text/plain": [
       "{'retweet_count': 0, 'reply_count': 0, 'like_count': 0, 'quote_count': 0}"
      ]
     },
     "execution_count": 88,
     "metadata": {},
     "output_type": "execute_result"
    }
   ],
   "source": [
    "tweets.data[0].public_metrics"
   ]
  },
  {
   "cell_type": "markdown",
   "id": "1c2b87ee-6c5e-4c85-be5f-2a9fcd10b546",
   "metadata": {},
   "source": [
    "## PushShift: Reddit"
   ]
  },
  {
   "cell_type": "markdown",
   "id": "60a34b0f-6b76-41e2-87b9-db615439c095",
   "metadata": {},
   "source": [
    "No API key or signup needed."
   ]
  },
  {
   "cell_type": "markdown",
   "id": "db2aba74-ced1-48c7-9671-47e7f67dae01",
   "metadata": {},
   "source": [
    "**Useful links**\n",
    "* PushShift new user [FAQ](https://www.reddit.com/r/pushshift/comments/bcxguf/new_to_pushshift_read_this_faq/).\n",
    "* Useful [code snippets](https://melaniewalsh.github.io/Intro-Cultural-Analytics/04-Data-Collection/14-Reddit-Data.html).\n",
    "* [Information](https://www.reddit.com/r/pushshift/comments/8ewz4o/pushshift_rate_limit_info/) on the PushShift API rate limits."
   ]
  },
  {
   "cell_type": "code",
   "execution_count": null,
   "id": "9bffe361-2b37-4990-a540-bfac72a5fea8",
   "metadata": {},
   "outputs": [],
   "source": [
    "# install the python wrapper\n",
    "! pip install psaw "
   ]
  },
  {
   "cell_type": "code",
   "execution_count": 80,
   "id": "b3ac9698-6169-4c29-b3d0-4ce3ccfedd3d",
   "metadata": {},
   "outputs": [],
   "source": [
    "# import the python wrapper\n",
    "from psaw import PushshiftAPI"
   ]
  },
  {
   "cell_type": "code",
   "execution_count": 81,
   "id": "a88ebc8e-f59c-48c4-a5ed-758f10f6adfd",
   "metadata": {},
   "outputs": [],
   "source": [
    "# intitialize the API\n",
    "api = PushshiftAPI()"
   ]
  },
  {
   "cell_type": "code",
   "execution_count": 82,
   "id": "da66fae6-48fc-49ab-8fe8-588979fce800",
   "metadata": {},
   "outputs": [],
   "source": [
    "# get some data from the API\n",
    "\n",
    "# note: casting the timestamps to int is necessary for the call to work\n",
    "start = int(datetime(2021, 6, 1).timestamp()) \n",
    "end = int(datetime(2021, 7, 1).timestamp()) \n",
    "subreddit = \"AmITheAsshole\" \n",
    "filters = ['id', 'author', 'created_utc', 'domain', 'url',\n",
    "           'title', 'num_comments', 'selftext'] \n",
    "limit = 10\n",
    "\n",
    "posts = list(api.search_submissions(\n",
    "    subreddit=subreddit,   # subreddit we want to get data from\n",
    "    after=start,           # start date\n",
    "    before=end,            # end date\n",
    "    filter=filters,        # column names we want to retrieve\n",
    "    limit=limit            # max number of posts\n",
    "))          "
   ]
  },
  {
   "cell_type": "code",
   "execution_count": 83,
   "id": "45a3131b-f8ef-47d1-9b3e-ddc92e3e1a77",
   "metadata": {},
   "outputs": [
    {
     "data": {
      "text/plain": [
       "submission(author='Outside-Question-191', created_utc=1625090218, domain='self.AmItheAsshole', id='ob7l42', num_comments=2, selftext='\\nA lot of people enjoy anime, and I’m not going to judge someone based off of their interests. But, for some odd reason I have what can only be explained as an intense phobia of anime. This is not a joke and it’s really affecting me because whenever I go onto social media I always see Memes, photos or videos of those anime people. Whenever I see those animes I get this feeling in my chest like I’m going to have a heart attack,It becomes extremely difficult to breathe, I start shaking uncontrollably, and I start crying most times. I really don’t know why this is happening to me. A lot of my friends like anime’s , so I have to put up with them talking about it all the time it’s scaring me. One time I was trying to fit in with them when they were talking about their favorite animes, I told them my favorite anime was SpongeBob. I don’t understand what’s wrong with that? SpongeBob has never scared me like those wretched anime people. Everyone laughed at me and started making front of me, even throwing in some terrifying anime terms. I can’t live like this anymore and I’m about to lose my friends. I wish that these anime shows and photos would be abolished because I suffer every day.', title='AITA for being scared of anime?', url='https://www.reddit.com/r/AmItheAsshole/comments/ob7l42/aita_for_being_scared_of_anime/', created=1625083018.0, d_={'author': 'Outside-Question-191', 'created_utc': 1625090218, 'domain': 'self.AmItheAsshole', 'id': 'ob7l42', 'num_comments': 2, 'selftext': '\\nA lot of people enjoy anime, and I’m not going to judge someone based off of their interests. But, for some odd reason I have what can only be explained as an intense phobia of anime. This is not a joke and it’s really affecting me because whenever I go onto social media I always see Memes, photos or videos of those anime people. Whenever I see those animes I get this feeling in my chest like I’m going to have a heart attack,It becomes extremely difficult to breathe, I start shaking uncontrollably, and I start crying most times. I really don’t know why this is happening to me. A lot of my friends like anime’s , so I have to put up with them talking about it all the time it’s scaring me. One time I was trying to fit in with them when they were talking about their favorite animes, I told them my favorite anime was SpongeBob. I don’t understand what’s wrong with that? SpongeBob has never scared me like those wretched anime people. Everyone laughed at me and started making front of me, even throwing in some terrifying anime terms. I can’t live like this anymore and I’m about to lose my friends. I wish that these anime shows and photos would be abolished because I suffer every day.', 'title': 'AITA for being scared of anime?', 'url': 'https://www.reddit.com/r/AmItheAsshole/comments/ob7l42/aita_for_being_scared_of_anime/', 'created': 1625083018.0})"
      ]
     },
     "execution_count": 83,
     "metadata": {},
     "output_type": "execute_result"
    }
   ],
   "source": [
    "# inspect a post object\n",
    "posts[0]"
   ]
  },
  {
   "cell_type": "code",
   "execution_count": 88,
   "id": "2fe41cc0-1755-4246-baea-15315c71c265",
   "metadata": {},
   "outputs": [
    {
     "data": {
      "text/html": [
       "<div>\n",
       "<style scoped>\n",
       "    .dataframe tbody tr th:only-of-type {\n",
       "        vertical-align: middle;\n",
       "    }\n",
       "\n",
       "    .dataframe tbody tr th {\n",
       "        vertical-align: top;\n",
       "    }\n",
       "\n",
       "    .dataframe thead th {\n",
       "        text-align: right;\n",
       "    }\n",
       "</style>\n",
       "<table border=\"1\" class=\"dataframe\">\n",
       "  <thead>\n",
       "    <tr style=\"text-align: right;\">\n",
       "      <th></th>\n",
       "      <th>id</th>\n",
       "      <th>author</th>\n",
       "      <th>created_utc</th>\n",
       "      <th>domain</th>\n",
       "      <th>url</th>\n",
       "      <th>title</th>\n",
       "      <th>num_comments</th>\n",
       "      <th>selftext</th>\n",
       "    </tr>\n",
       "  </thead>\n",
       "  <tbody>\n",
       "    <tr>\n",
       "      <th>0</th>\n",
       "      <td>ob7l42</td>\n",
       "      <td>Outside-Question-191</td>\n",
       "      <td>1625090218</td>\n",
       "      <td>self.AmItheAsshole</td>\n",
       "      <td>https://www.reddit.com/r/AmItheAsshole/comment...</td>\n",
       "      <td>AITA for being scared of anime?</td>\n",
       "      <td>2</td>\n",
       "      <td>\\nA lot of people enjoy anime, and I’m not goi...</td>\n",
       "    </tr>\n",
       "    <tr>\n",
       "      <th>1</th>\n",
       "      <td>ob7km0</td>\n",
       "      <td>Outside-Question-191</td>\n",
       "      <td>1625090175</td>\n",
       "      <td>self.AmItheAsshole</td>\n",
       "      <td>https://www.reddit.com/r/AmItheAsshole/comment...</td>\n",
       "      <td>Am I wrong for hating anime?</td>\n",
       "      <td>2</td>\n",
       "      <td>[removed]</td>\n",
       "    </tr>\n",
       "  </tbody>\n",
       "</table>\n",
       "</div>"
      ],
      "text/plain": [
       "       id                author  created_utc              domain  \\\n",
       "0  ob7l42  Outside-Question-191   1625090218  self.AmItheAsshole   \n",
       "1  ob7km0  Outside-Question-191   1625090175  self.AmItheAsshole   \n",
       "\n",
       "                                                 url  \\\n",
       "0  https://www.reddit.com/r/AmItheAsshole/comment...   \n",
       "1  https://www.reddit.com/r/AmItheAsshole/comment...   \n",
       "\n",
       "                             title  num_comments  \\\n",
       "0  AITA for being scared of anime?             2   \n",
       "1     Am I wrong for hating anime?             2   \n",
       "\n",
       "                                            selftext  \n",
       "0  \\nA lot of people enjoy anime, and I’m not goi...  \n",
       "1                                          [removed]  "
      ]
     },
     "execution_count": 88,
     "metadata": {},
     "output_type": "execute_result"
    }
   ],
   "source": [
    "# convert the posts to a pandas DataFrame\n",
    "df = pd.DataFrame({\n",
    "    \"id\":[post.id for post in posts],\n",
    "    \"author\":[post.author for post in posts],\n",
    "    \"created_utc\":[post.created_utc for post in posts],\n",
    "    \"domain\":[post.domain for post in posts],\n",
    "    \"url\":[post.url for post in posts],\n",
    "    \"title\":[post.title for post in posts],\n",
    "    \"num_comments\":[post.num_comments for post in posts],\n",
    "    \"selftext\":[post.selftext for post in posts]\n",
    "    })\n",
    "df.head(2)"
   ]
  }
 ],
 "metadata": {
  "kernelspec": {
   "display_name": "Python 3 (ipykernel)",
   "language": "python",
   "name": "python3"
  },
  "language_info": {
   "codemirror_mode": {
    "name": "ipython",
    "version": 3
   },
   "file_extension": ".py",
   "mimetype": "text/x-python",
   "name": "python",
   "nbconvert_exporter": "python",
   "pygments_lexer": "ipython3",
   "version": "3.8.5"
  }
 },
 "nbformat": 4,
 "nbformat_minor": 5
}
