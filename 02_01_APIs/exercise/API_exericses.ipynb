{
 "cells": [
  {
   "cell_type": "markdown",
   "id": "ab5a5113-7ffb-47ac-bd55-96cd35cb51d5",
   "metadata": {},
   "source": [
    "# API exercises"
   ]
  },
  {
   "cell_type": "markdown",
   "id": "bde7f1cf-ca15-42da-b13a-63f1919bcf72",
   "metadata": {},
   "source": [
    "A fast ride through many of the APIs we introduced! Answer below questions to get to know the basics of each API using the [code snippets](https://github.com/JanaLasser/SICSS-aachen-graz/blob/main/02_01_APIs/exercise/API_access_code_snippets.ipynb) we provide for each API. If you get stuck on one task, move on after trying for max 10 min.  \n",
    "\n",
    "**Note:** You don't have to work on the tasks in sequential order, as they do not depend on each other. Start with the API you are interested in using the most."
   ]
  },
  {
   "cell_type": "markdown",
   "id": "17ef1a77-7f26-48fc-8f9c-b8f07c6e6b88",
   "metadata": {},
   "source": [
    "* **Google trends**: When was the maximum for searches for \"machine learning\" in your country of residence in the last 20 years?\n",
    "* **Twitter API**: \n",
    "    * How many tweets did the account of the president of the United States post in the last 7 days? If you have academic level API access, check the number of tweets for all of 2022. Note: you can solve this exercise both with the \"search\" and the \"counts\" endpoint! \n",
    "    * Using either the full-archive or the recent search: How many tweets are returned for a single request? \n",
    "    * Given Twitter's rate limits for the full-archive search: how long will it take to download a number of tweets equal to your monthly quota (10 mio tweets)?\n",
    "* **Reddit Pushshift**: Which submission in the subreddit \"compsocialsci\" from 2022 had the most comments?\n",
    "* **Telegram**: \n",
    "    * Download all messages from the t.me/quote channel. \n",
    "    * How many messages are there? \n",
    "    * When was the earliest message posted? \n",
    "    * What were the quotes of the day on your last birthday?\n",
    "* **New York Times**: what is the rate limit for requests to the New York Times API?\n",
    "* **Wikipedia**: How many links are contained in the [machine learning page](https://en.wikipedia.org/wiki/Machine_learning)?\n",
    "* **Steam reviews**: retrieve all positive and negative reviews of the game \"Elden Ring\" for the last 7 days. \n",
    "    * How many games do reviewers who leave positive reviews own on average? \n",
    "    * How many for the negative reviewers?\n",
    "* **Open Street Maps**: how many dumpsters does Berlin have?\n",
    "* **CrossRef**: Get all publications associated with the search term \"Reddit\". How many are there? Which is the hightest cited one?\n",
    "* **Spotify**: Which national anthem has the higher \"danceability\", the German or the Austrian one?\n",
    "* **Pandas datareader**: Download data of the gross domestic product of Austria and Germany for the last 10 years. How do the two countries compare? Hint: use the World Bank data base for the task."
   ]
  }
 ],
 "metadata": {
  "kernelspec": {
   "display_name": "Python 3 (ipykernel)",
   "language": "python",
   "name": "python3"
  },
  "language_info": {
   "codemirror_mode": {
    "name": "ipython",
    "version": 3
   },
   "file_extension": ".py",
   "mimetype": "text/x-python",
   "name": "python",
   "nbconvert_exporter": "python",
   "pygments_lexer": "ipython3",
   "version": "3.8.5"
  }
 },
 "nbformat": 4,
 "nbformat_minor": 5
}
